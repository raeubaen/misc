{
  "nbformat": 4,
  "nbformat_minor": 0,
  "metadata": {
    "colab": {
      "name": "Untitled24.ipynb",
      "provenance": [],
      "authorship_tag": "ABX9TyOfmx1LxOYoFUxmfxUi6SOa",
      "include_colab_link": true
    },
    "kernelspec": {
      "name": "python3",
      "display_name": "Python 3"
    },
    "language_info": {
      "name": "python"
    }
  },
  "cells": [
    {
      "cell_type": "markdown",
      "metadata": {
        "id": "view-in-github",
        "colab_type": "text"
      },
      "source": [
        "<a href=\"https://colab.research.google.com/github/raeubaen/misc/blob/master/exam_overlapping.ipynb\" target=\"_parent\"><img src=\"https://colab.research.google.com/assets/colab-badge.svg\" alt=\"Open In Colab\"/></a>"
      ]
    },
    {
      "cell_type": "code",
      "metadata": {
        "id": "fxhaTlPsYIw4"
      },
      "source": [
        "import pandas as pd\n",
        "import itertools"
      ],
      "execution_count": 2,
      "outputs": []
    },
    {
      "cell_type": "code",
      "metadata": {
        "id": "egGC2v_bYJ_K"
      },
      "source": [
        "url = \"https://www.phys.uniroma1.it/fisica/sites/default/files/allegati/estiva.html\""
      ],
      "execution_count": 3,
      "outputs": []
    },
    {
      "cell_type": "code",
      "metadata": {
        "id": "YfIrex8cY_HE"
      },
      "source": [
        "# read from url\n",
        "df = pd.read_html(url)[0]\n",
        "\n",
        "# read from csv \n",
        "#df = pd.read_csv(\"exam_calendar.csv\")\n",
        "\n",
        "df = df.drop(['Ora', \"Aula\", \"Commenti\"], axis=1)\n",
        "#df.to_csv(\"exam_calendar.csv\")"
      ],
      "execution_count": 4,
      "outputs": []
    },
    {
      "cell_type": "code",
      "metadata": {
        "colab": {
          "base_uri": "https://localhost:8080/",
          "height": 424
        },
        "id": "A0_h93r4cKPo",
        "outputId": "1e20acb3-1461-4511-bcbb-778ac5498312"
      },
      "source": [
        "df"
      ],
      "execution_count": 5,
      "outputs": [
        {
          "output_type": "execute_result",
          "data": {
            "text/html": [
              "<div>\n",
              "<style scoped>\n",
              "    .dataframe tbody tr th:only-of-type {\n",
              "        vertical-align: middle;\n",
              "    }\n",
              "\n",
              "    .dataframe tbody tr th {\n",
              "        vertical-align: top;\n",
              "    }\n",
              "\n",
              "    .dataframe thead th {\n",
              "        text-align: right;\n",
              "    }\n",
              "</style>\n",
              "<table border=\"1\" class=\"dataframe\">\n",
              "  <thead>\n",
              "    <tr style=\"text-align: right;\">\n",
              "      <th></th>\n",
              "      <th>Anno</th>\n",
              "      <th>Corso</th>\n",
              "      <th>Giorno</th>\n",
              "      <th>Tipologia</th>\n",
              "    </tr>\n",
              "  </thead>\n",
              "  <tbody>\n",
              "    <tr>\n",
              "      <th>0</th>\n",
              "      <td>2</td>\n",
              "      <td>Laboratorio di elettromagnetismo e circuiti</td>\n",
              "      <td>03/06</td>\n",
              "      <td>Prova pratica</td>\n",
              "    </tr>\n",
              "    <tr>\n",
              "      <th>1</th>\n",
              "      <td>2</td>\n",
              "      <td>Laboratorio di elettromagnetismo e circuiti</td>\n",
              "      <td>04/06</td>\n",
              "      <td>Prova pratica</td>\n",
              "    </tr>\n",
              "    <tr>\n",
              "      <th>2</th>\n",
              "      <td>2</td>\n",
              "      <td>Laboratorio di elettromagnetismo e circuiti</td>\n",
              "      <td>07/06</td>\n",
              "      <td>Prova pratica</td>\n",
              "    </tr>\n",
              "    <tr>\n",
              "      <th>3</th>\n",
              "      <td>2</td>\n",
              "      <td>Laboratorio di elettromagnetismo e circuiti</td>\n",
              "      <td>08/06</td>\n",
              "      <td>Prova pratica</td>\n",
              "    </tr>\n",
              "    <tr>\n",
              "      <th>4</th>\n",
              "      <td>2</td>\n",
              "      <td>Laboratorio di elettromagnetismo e circuiti</td>\n",
              "      <td>09/06</td>\n",
              "      <td>Prova pratica</td>\n",
              "    </tr>\n",
              "    <tr>\n",
              "      <th>...</th>\n",
              "      <td>...</td>\n",
              "      <td>...</td>\n",
              "      <td>...</td>\n",
              "      <td>...</td>\n",
              "    </tr>\n",
              "    <tr>\n",
              "      <th>96</th>\n",
              "      <td>3</td>\n",
              "      <td>Calcolo delle Probabilita'</td>\n",
              "      <td>21/07</td>\n",
              "      <td>Orale</td>\n",
              "    </tr>\n",
              "    <tr>\n",
              "      <th>97</th>\n",
              "      <td>2</td>\n",
              "      <td>Meccanica Analitica e Relativistica</td>\n",
              "      <td>22/07</td>\n",
              "      <td>Orale</td>\n",
              "    </tr>\n",
              "    <tr>\n",
              "      <th>98</th>\n",
              "      <td>2</td>\n",
              "      <td>Astronomia</td>\n",
              "      <td>22/07</td>\n",
              "      <td>Orale</td>\n",
              "    </tr>\n",
              "    <tr>\n",
              "      <th>99</th>\n",
              "      <td>3</td>\n",
              "      <td>Fluidodinamica per l'Astrofisica</td>\n",
              "      <td>22/07</td>\n",
              "      <td>Orale</td>\n",
              "    </tr>\n",
              "    <tr>\n",
              "      <th>100</th>\n",
              "      <td>3</td>\n",
              "      <td>Introduzione alla Fisica dell'Atmosfera</td>\n",
              "      <td>22/07</td>\n",
              "      <td>Orale</td>\n",
              "    </tr>\n",
              "  </tbody>\n",
              "</table>\n",
              "<p>101 rows × 4 columns</p>\n",
              "</div>"
            ],
            "text/plain": [
              "     Anno                                        Corso Giorno      Tipologia\n",
              "0       2  Laboratorio di elettromagnetismo e circuiti  03/06  Prova pratica\n",
              "1       2  Laboratorio di elettromagnetismo e circuiti  04/06  Prova pratica\n",
              "2       2  Laboratorio di elettromagnetismo e circuiti  07/06  Prova pratica\n",
              "3       2  Laboratorio di elettromagnetismo e circuiti  08/06  Prova pratica\n",
              "4       2  Laboratorio di elettromagnetismo e circuiti  09/06  Prova pratica\n",
              "..    ...                                          ...    ...            ...\n",
              "96      3                   Calcolo delle Probabilita'  21/07          Orale\n",
              "97      2          Meccanica Analitica e Relativistica  22/07          Orale\n",
              "98      2                                   Astronomia  22/07          Orale\n",
              "99      3             Fluidodinamica per l'Astrofisica  22/07          Orale\n",
              "100     3      Introduzione alla Fisica dell'Atmosfera  22/07          Orale\n",
              "\n",
              "[101 rows x 4 columns]"
            ]
          },
          "metadata": {
            "tags": []
          },
          "execution_count": 5
        }
      ]
    },
    {
      "cell_type": "code",
      "metadata": {
        "id": "PXF7xSa0ZFCK"
      },
      "source": [
        "pairs = itertools.combinations(df.index, 2)"
      ],
      "execution_count": 6,
      "outputs": []
    },
    {
      "cell_type": "code",
      "metadata": {
        "id": "1Q-hux8ueStW"
      },
      "source": [
        "sovr = pd.DataFrame(columns=[\"Giorno\", \"Corso1\", \"Tipo1\", \"Anno1\", \"Corso2\", \"Tipo2\", \"Anno2\", \"Orale?\", \"Stesso Anno?\"])"
      ],
      "execution_count": 7,
      "outputs": []
    },
    {
      "cell_type": "code",
      "metadata": {
        "id": "hkh9cY4taRS3"
      },
      "source": [
        "for pair in pairs:\n",
        "  df1, df2 = df.iloc[pair[0]], df.iloc[pair[1]]\n",
        "  if df1.Giorno == df2.Giorno:\n",
        "      to_append_list = [\n",
        "        df1.Giorno, \n",
        "        df1.Corso, df1.Tipologia, df1.Anno,\n",
        "        df2.Corso, df2.Tipologia, df2.Anno,\n",
        "        df1.Tipologia == \"Orale\" or df2.Tipologia  == \"Orale\",\n",
        "        df1.Anno == df2.Anno,\n",
        "      ]\n",
        "      to_append_series = pd.Series(to_append_list, index=sovr.columns)\n",
        "      sovr = sovr.append(to_append_series, ignore_index=True)"
      ],
      "execution_count": 8,
      "outputs": []
    },
    {
      "cell_type": "code",
      "metadata": {
        "id": "ACsOz0fjhb5H"
      },
      "source": [
        "sovr = sovr.sort_values(['Orale?', 'Stesso Anno?'], ascending=[True, False])"
      ],
      "execution_count": 9,
      "outputs": []
    },
    {
      "cell_type": "code",
      "metadata": {
        "colab": {
          "base_uri": "https://localhost:8080/",
          "height": 424
        },
        "id": "xTbjtyPkgdVd",
        "outputId": "7bf55f77-ab8c-425f-eb1b-351594809445"
      },
      "source": [
        "sovr"
      ],
      "execution_count": 10,
      "outputs": [
        {
          "output_type": "execute_result",
          "data": {
            "text/html": [
              "<div>\n",
              "<style scoped>\n",
              "    .dataframe tbody tr th:only-of-type {\n",
              "        vertical-align: middle;\n",
              "    }\n",
              "\n",
              "    .dataframe tbody tr th {\n",
              "        vertical-align: top;\n",
              "    }\n",
              "\n",
              "    .dataframe thead th {\n",
              "        text-align: right;\n",
              "    }\n",
              "</style>\n",
              "<table border=\"1\" class=\"dataframe\">\n",
              "  <thead>\n",
              "    <tr style=\"text-align: right;\">\n",
              "      <th></th>\n",
              "      <th>Giorno</th>\n",
              "      <th>Corso1</th>\n",
              "      <th>Tipo1</th>\n",
              "      <th>Anno1</th>\n",
              "      <th>Corso2</th>\n",
              "      <th>Tipo2</th>\n",
              "      <th>Anno2</th>\n",
              "      <th>Orale?</th>\n",
              "      <th>Stesso Anno?</th>\n",
              "    </tr>\n",
              "  </thead>\n",
              "  <tbody>\n",
              "    <tr>\n",
              "      <th>2</th>\n",
              "      <td>16/06</td>\n",
              "      <td>Inglese</td>\n",
              "      <td>Scritto</td>\n",
              "      <td>2</td>\n",
              "      <td>Modelli e metodi matematici della Fisica</td>\n",
              "      <td>Scritto</td>\n",
              "      <td>2</td>\n",
              "      <td>False</td>\n",
              "      <td>True</td>\n",
              "    </tr>\n",
              "    <tr>\n",
              "      <th>3</th>\n",
              "      <td>16/06</td>\n",
              "      <td>Inglese</td>\n",
              "      <td>Scritto</td>\n",
              "      <td>2</td>\n",
              "      <td>Modelli e metodi matematici della Fisica (ASTRO)</td>\n",
              "      <td>Scritto</td>\n",
              "      <td>2</td>\n",
              "      <td>False</td>\n",
              "      <td>True</td>\n",
              "    </tr>\n",
              "    <tr>\n",
              "      <th>18</th>\n",
              "      <td>16/06</td>\n",
              "      <td>Analisi</td>\n",
              "      <td>Scritto</td>\n",
              "      <td>1</td>\n",
              "      <td>Chimica</td>\n",
              "      <td>Scritto</td>\n",
              "      <td>1</td>\n",
              "      <td>False</td>\n",
              "      <td>True</td>\n",
              "    </tr>\n",
              "    <tr>\n",
              "      <th>21</th>\n",
              "      <td>16/06</td>\n",
              "      <td>Modelli e metodi matematici della Fisica</td>\n",
              "      <td>Scritto</td>\n",
              "      <td>2</td>\n",
              "      <td>Modelli e metodi matematici della Fisica (ASTRO)</td>\n",
              "      <td>Scritto</td>\n",
              "      <td>2</td>\n",
              "      <td>False</td>\n",
              "      <td>True</td>\n",
              "    </tr>\n",
              "    <tr>\n",
              "      <th>76</th>\n",
              "      <td>25/06</td>\n",
              "      <td>Meccanica Quantistica e Statistica (ASTRO)</td>\n",
              "      <td>Scritto</td>\n",
              "      <td>3</td>\n",
              "      <td>Meccanica Statistica</td>\n",
              "      <td>Scritto</td>\n",
              "      <td>3</td>\n",
              "      <td>False</td>\n",
              "      <td>True</td>\n",
              "    </tr>\n",
              "    <tr>\n",
              "      <th>...</th>\n",
              "      <td>...</td>\n",
              "      <td>...</td>\n",
              "      <td>...</td>\n",
              "      <td>...</td>\n",
              "      <td>...</td>\n",
              "      <td>...</td>\n",
              "      <td>...</td>\n",
              "      <td>...</td>\n",
              "      <td>...</td>\n",
              "    </tr>\n",
              "    <tr>\n",
              "      <th>138</th>\n",
              "      <td>21/07</td>\n",
              "      <td>Laboratorio di Elettromagnetismo e circuiti</td>\n",
              "      <td>Orale</td>\n",
              "      <td>2</td>\n",
              "      <td>Calcolo delle Probabilita'</td>\n",
              "      <td>Orale</td>\n",
              "      <td>3</td>\n",
              "      <td>True</td>\n",
              "      <td>False</td>\n",
              "    </tr>\n",
              "    <tr>\n",
              "      <th>140</th>\n",
              "      <td>22/07</td>\n",
              "      <td>Meccanica Analitica e Relativistica</td>\n",
              "      <td>Orale</td>\n",
              "      <td>2</td>\n",
              "      <td>Fluidodinamica per l'Astrofisica</td>\n",
              "      <td>Orale</td>\n",
              "      <td>3</td>\n",
              "      <td>True</td>\n",
              "      <td>False</td>\n",
              "    </tr>\n",
              "    <tr>\n",
              "      <th>141</th>\n",
              "      <td>22/07</td>\n",
              "      <td>Meccanica Analitica e Relativistica</td>\n",
              "      <td>Orale</td>\n",
              "      <td>2</td>\n",
              "      <td>Introduzione alla Fisica dell'Atmosfera</td>\n",
              "      <td>Orale</td>\n",
              "      <td>3</td>\n",
              "      <td>True</td>\n",
              "      <td>False</td>\n",
              "    </tr>\n",
              "    <tr>\n",
              "      <th>142</th>\n",
              "      <td>22/07</td>\n",
              "      <td>Astronomia</td>\n",
              "      <td>Orale</td>\n",
              "      <td>2</td>\n",
              "      <td>Fluidodinamica per l'Astrofisica</td>\n",
              "      <td>Orale</td>\n",
              "      <td>3</td>\n",
              "      <td>True</td>\n",
              "      <td>False</td>\n",
              "    </tr>\n",
              "    <tr>\n",
              "      <th>143</th>\n",
              "      <td>22/07</td>\n",
              "      <td>Astronomia</td>\n",
              "      <td>Orale</td>\n",
              "      <td>2</td>\n",
              "      <td>Introduzione alla Fisica dell'Atmosfera</td>\n",
              "      <td>Orale</td>\n",
              "      <td>3</td>\n",
              "      <td>True</td>\n",
              "      <td>False</td>\n",
              "    </tr>\n",
              "  </tbody>\n",
              "</table>\n",
              "<p>145 rows × 9 columns</p>\n",
              "</div>"
            ],
            "text/plain": [
              "    Giorno                                       Corso1  ... Orale? Stesso Anno?\n",
              "2    16/06                                      Inglese  ...  False         True\n",
              "3    16/06                                      Inglese  ...  False         True\n",
              "18   16/06                                      Analisi  ...  False         True\n",
              "21   16/06     Modelli e metodi matematici della Fisica  ...  False         True\n",
              "76   25/06   Meccanica Quantistica e Statistica (ASTRO)  ...  False         True\n",
              "..     ...                                          ...  ...    ...          ...\n",
              "138  21/07  Laboratorio di Elettromagnetismo e circuiti  ...   True        False\n",
              "140  22/07          Meccanica Analitica e Relativistica  ...   True        False\n",
              "141  22/07          Meccanica Analitica e Relativistica  ...   True        False\n",
              "142  22/07                                   Astronomia  ...   True        False\n",
              "143  22/07                                   Astronomia  ...   True        False\n",
              "\n",
              "[145 rows x 9 columns]"
            ]
          },
          "metadata": {
            "tags": []
          },
          "execution_count": 10
        }
      ]
    },
    {
      "cell_type": "code",
      "metadata": {
        "id": "VJz9qOzEgieA"
      },
      "source": [
        "sovr.to_csv(\"sovr.csv\", sep=\"\\t\")"
      ],
      "execution_count": 11,
      "outputs": []
    }
  ]
}