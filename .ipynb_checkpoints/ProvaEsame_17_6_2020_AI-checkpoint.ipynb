{
 "cells": [
  {
   "cell_type": "markdown",
   "metadata": {
    "colab_type": "text",
    "id": "bHv2ej3RnZIq"
   },
   "source": [
    "# Prova Esame 17.6.2020 - Metodi AI e Machine Learning per la fisica \n",
    "### AA 2019/20 - Docente: S. Giagu\n",
    "\n",
    "\n",
    "> **Regole:**\n",
    "\n",
    "\n",
    "1.   **Recupero primo esonero:** rispondere alle domande **parte 1**: tempo a disposizione 1.5h\n",
    "2.   **Recupero secondo esonero:** rispondere alle domande **parte 2**: tempo a disposizione 1.5h\n",
    "3.   **Intero scritto:**  rispondere alle domande **parte 1+2**: tempo a disposizione 3h\n",
    "\n",
    "*   compilare con i vostri dati i campi della cella che segue e poi eseguire la cella verificando che i dati printati corrispondano\n",
    "*   risolvere i quesiti/compiti indicati nella cella *Descrizione del compito* usando questo notebook\n",
    "*   una volta completato il compito sottomettere il notebook nel apposito folder sul sito e-learning del corso disponibile al link: [consegna esonero](https://elearning.uniroma1.it/mod/assign/view.php?id=320161) (NOTA BENE: una volta sottomesso il notebook non sono più possibili modifiche ulteriori)\n",
    "\n"
   ]
  },
  {
   "cell_type": "code",
   "execution_count": 2,
   "metadata": {
    "cellView": "form",
    "colab": {
     "base_uri": "https://localhost:8080/",
     "height": 68
    },
    "colab_type": "code",
    "id": "q8FepmxEp9TL",
    "outputId": "687a6078-9ab1-44ac-d9e0-a56820a3c2bc"
   },
   "outputs": [
    {
     "name": "stdout",
     "output_type": "stream",
     "text": [
      "Downloading dataset\n",
      "Unzipping\n",
      "Done\n"
     ]
    }
   ],
   "source": [
    "#@Dati personali\n",
    "import os\n",
    "\n",
    "Nome = 'Stefano'  #@param {type: \"string\"}\n",
    "Cognome = 'Giagu' #@param {type: \"string\"}\n",
    "NumeroMatricola = 12345675 #@param {type: \"number\"}\n",
    "\n",
    "if NumeroMatricola == 1234567:\n",
    "  print('\\033[1;31m Inserisci il numero di matricola corretto!!!!') \n",
    "else:\n",
    "  print('Downloading dataset')\n",
    "  os.system('rm -f dati_prova.csv.gz')\n",
    "  os.system('rm -f dati_prova.csv')\n",
    "  os.system('wget http://giagu.web.cern.ch/giagu/CERN/dati_prova.csv.gz')\n",
    "  os.system('gunzip dati_prova.csv.gz')\n",
    "  print('Unzipping')\n",
    "  print('Done')"
   ]
  },
  {
   "cell_type": "markdown",
   "metadata": {
    "colab_type": "text",
    "id": "ZsyHPv41t9t7"
   },
   "source": [
    "# Compiti:\n",
    "\n",
    "### Dataset:\n",
    "\n",
    "il dataset fornito è unico ed è costituito da 29 feaures (V1, V2, ..., V29) e una label di classe. Il campione è molto sbilanciato: 284315 eventi classe 0 e 492 eventi classe 1.\n",
    "\n",
    "Il compito è quello di costruire un algoritmo di tipo *anomaly detection* che **senza usare la label** di classe sia in grado con la migliore precisione possibile di identificare se un evento analizzato è di classe 1.\n",
    "\n",
    "Una volta completato il lavoro fare il download del notebook e sottometterlo sul sito e-leraning del corso: [link folder consegna esonero](https://elearning.uniroma1.it/mod/assign/view.php?id=320161) \n",
    "\n",
    "\n",
    "---\n",
    "\n",
    "\n",
    "### Parte 1:\n",
    "\n",
    "risolvere il compito senza usare algoritmi di reti neurali e senza usare la label di classe (quest'ultima deve essere usata solo per testare poi le prestazioni dell'algoritmo costruito). Si possono usare algoritmi tipo PCA o di clustering etc...\n",
    "\n",
    "**È richiesto:**\n",
    "\n",
    "1.   di sviluppare un modello non supervisionato (PCA o clustering, etc.) in grado di identificare gli eventi anomali di classe 1\n",
    "2.   di valutare quantitativamente le prestazioni del modello sviluppato su un campione con egual numero di eventi delle due classi attraverso:\n",
    "      -  la costruzione di una variabile discriminante $D(x)$ con valori compresi tra 0 e 1 che tenda ad assumere valori più vicini a zero per gli eventi di classe 0 e più vicini a 1 per gli eventi di classe 1 \n",
    "      -  un grafico dell'andamento della PRECISION in funzione del RECALL calcolati per vari valori di soglia $d_0$ sulla variabile discriminante ($D(x)>d_0 \\to $ classe 1) \n",
    "      -  un grafico della ROC curve del modello\n",
    "3.  di usare dove necessario celle di testo (*+Text*) per descrivere (brevemente) le operazioni eseguite, motivandole e/o commentandone i risultati ottenuti \n",
    "     \n",
    "\n",
    "\n",
    "---\n",
    "\n",
    "\n",
    "### Parte 2:\n",
    "\n",
    "risolvere il compito usando solo algoritmi di reti neurali profonde e senza usare la label di classe (quest'ultima deve essere usata solo per testare poi le prestazioni dell'algoritmo costruito). \n",
    "\n",
    "**È richiesto:**\n",
    "\n",
    "1.   di sviluppare un modello non supervisionato con DNN in grado di identificare gli eventi anomali di classe 1\n",
    "2.   di valutare quantitativamente le prestazioni del modello sviluppato su un campione con egual numero di eventi delle due classi attraverso:\n",
    "      -  la costruzione di una variabile discriminante $D(x)$ con valori compresi tra 0 e 1 che tenda ad assumere valori più vicini a zero per gli eventi di classe 0 e più vicini a 1 per gli eventi di classe 1 \n",
    "      -  un grafico dell'andamento della PRECISION in funzione del RECALL calcolati per vari valori di soglia $d_0$ sulla variabile discriminante ($D(x)>d_0 \\to $ classe 1) \n",
    "      -  un grafico della ROC curve del modello\n",
    "3.  di usare dove necessario celle di testo (*+Text*) per descrivere (brevemente) le operazioni eseguite, motivandole e/o commentandone i risultati ottenuti \n",
    "\n",
    "\n",
    "---\n",
    "\n",
    "\n",
    "### Parte 1+2:\n",
    "\n",
    "risolvere il compito sia con un'algoritmo PCA o di clustering, sia con un algoritmo unsupervised basato su DNN, in modo da confrontare le prestazioni dei due metodi utilizzati.\n"
   ]
  },
  {
   "cell_type": "code",
   "execution_count": null,
   "metadata": {
    "colab": {},
    "colab_type": "code",
    "id": "sMAJxRJPe1lY"
   },
   "outputs": [],
   "source": [
    "#parte libera ... aggiungere a piacimento tutte le celle di codice e testo necessarie ..."
   ]
  }
 ],
 "metadata": {
  "accelerator": "GPU",
  "colab": {
   "collapsed_sections": [],
   "name": "ProvaEsame_17_6_2020_AI.ipynb",
   "provenance": [],
   "toc_visible": true
  },
  "kernelspec": {
   "display_name": "Python 3",
   "language": "python",
   "name": "python3"
  },
  "language_info": {
   "codemirror_mode": {
    "name": "ipython",
    "version": 3
   },
   "file_extension": ".py",
   "mimetype": "text/x-python",
   "name": "python",
   "nbconvert_exporter": "python",
   "pygments_lexer": "ipython3",
   "version": "3.6.9"
  }
 },
 "nbformat": 4,
 "nbformat_minor": 1
}
