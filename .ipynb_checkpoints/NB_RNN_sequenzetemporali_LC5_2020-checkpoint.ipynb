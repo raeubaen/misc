{
 "cells": [
  {
   "cell_type": "markdown",
   "metadata": {
    "colab_type": "text",
    "id": "O-97SDET3JG-"
   },
   "source": [
    "# Sviluppo e training di RNN per analisi di sequenze temporali\n",
    "\n",
    "### Informazioni ###\n",
    "\n",
    "scopo: \n",
    "- apprendere uso e funzionalità delle RNN rispetto a una task tipica per queste architetture: predizioni di feature sulla base di esempi di serie temporali\n",
    "\n",
    "**Dataset:**\n",
    "\n",
    "dataset kaggle con andamento titolo di borsa Tata Global Beverages Ltd borsa Indiana"
   ]
  },
  {
   "cell_type": "code",
   "execution_count": 122,
   "metadata": {
    "colab": {
     "base_uri": "https://localhost:8080/",
     "height": 34
    },
    "colab_type": "code",
    "id": "kKw-kBMr5jr0",
    "outputId": "c11a243a-629e-43f0-96fc-911e1109b634"
   },
   "outputs": [
    {
     "name": "stdout",
     "output_type": "stream",
     "text": [
      "2.2.0\n"
     ]
    }
   ],
   "source": [
    "import tensorflow as tf \n",
    "print(tf.__version__)\n",
    "\n",
    "from tensorflow import keras\n",
    "from tensorflow.keras import layers\n",
    "\n",
    "import numpy as np\n",
    "import os\n",
    "import time\n",
    "\n",
    "import pandas as pd\n",
    "\n",
    "from sklearn.preprocessing import MinMaxScaler\n",
    "\n",
    "import matplotlib.pyplot as plt\n",
    "\n",
    "if len(tf.config.list_physical_devices('GPU')) == 0:\n",
    "    print('Per questa esercitazione è importante usare la GPU: cambia runtime: menu Runtime > Change Runtime Type > GPU)')"
   ]
  },
  {
   "cell_type": "markdown",
   "metadata": {
    "colab_type": "text",
    "id": "zdw2C2lZ6uwf"
   },
   "source": [
    "# Parte 1: predizione andamento titolo di borsa"
   ]
  },
  {
   "cell_type": "code",
   "execution_count": 112,
   "metadata": {
    "colab": {
     "base_uri": "https://localhost:8080/",
     "height": 425
    },
    "colab_type": "code",
    "id": "jKdhtD9EtqXz",
    "outputId": "df760ae4-2220-4816-ee41-4428ad5a68a4"
   },
   "outputs": [
    {
     "name": "stdout",
     "output_type": "stream",
     "text": [
      "--2020-05-17 13:01:32--  http://giagu.web.cern.ch/giagu/CERN/NSE-TATAGLOBAL.csv\n",
      "Resolving giagu.web.cern.ch (giagu.web.cern.ch)... 188.184.101.49, 2001:1458:d00:35::100:35\n",
      "Connecting to giagu.web.cern.ch (giagu.web.cern.ch)|188.184.101.49|:80... connected.\n",
      "HTTP request sent, awaiting response... 200 OK\n",
      "Length: 115525 (113K) [text/csv]\n",
      "Saving to: ‘NSE-TATAGLOBAL.csv’\n",
      "\n",
      "NSE-TATAGLOBAL.csv  100%[===================>] 112.82K  82.6KB/s    in 1.4s    \n",
      "\n",
      "2020-05-17 13:01:34 (82.6 KB/s) - ‘NSE-TATAGLOBAL.csv’ saved [115525/115525]\n",
      "\n",
      "--2020-05-17 13:01:36--  http://giagu.web.cern.ch/giagu/CERN/NSE-TATAGLOBAL-test.csv\n",
      "Resolving giagu.web.cern.ch (giagu.web.cern.ch)... 188.184.101.49, 2001:1458:d00:35::100:35\n",
      "Connecting to giagu.web.cern.ch (giagu.web.cern.ch)|188.184.101.49|:80... connected.\n",
      "HTTP request sent, awaiting response... 200 OK\n",
      "Length: 984 [text/csv]\n",
      "Saving to: ‘NSE-TATAGLOBAL-test.csv’\n",
      "\n",
      "NSE-TATAGLOBAL-test 100%[===================>]     984  --.-KB/s    in 0s      \n",
      "\n",
      "2020-05-17 13:01:37 (130 MB/s) - ‘NSE-TATAGLOBAL-test.csv’ saved [984/984]\n",
      "\n",
      "household_power_consumption.txt      NSE-TATAGLOBAL.csv       sample_data\n",
      "household_power_consumption.txt.zip  NSE-TATAGLOBAL-test.csv\n"
     ]
    }
   ],
   "source": [
    "# Dataset \n",
    "!rm -rf NSE-TATAGLOBAL.csv\n",
    "!rm -rf NSE-TATAGLOBAL-test.csv\n",
    "!wget http://giagu.web.cern.ch/giagu/CERN/NSE-TATAGLOBAL.csv\n",
    "!wget http://giagu.web.cern.ch/giagu/CERN/NSE-TATAGLOBAL-test.csv\n",
    "!ls "
   ]
  },
  {
   "cell_type": "code",
   "execution_count": 0,
   "metadata": {
    "colab": {},
    "colab_type": "code",
    "id": "2n0GGTiFui8O"
   },
   "outputs": [],
   "source": [
    "# Usiamo pandas per leggere il dataset in formato csv\n",
    "\n",
    "# training data\n",
    "df = pd.read_csv('NSE-TATAGLOBAL.csv')\n",
    "# test data\n",
    "df_test = pd.read_csv('NSE-TATAGLOBAL-test.csv')"
   ]
  },
  {
   "cell_type": "code",
   "execution_count": 322,
   "metadata": {
    "colab": {
     "base_uri": "https://localhost:8080/",
     "height": 272
    },
    "colab_type": "code",
    "id": "hRiFQ7s6ucx2",
    "outputId": "37be23b7-72c0-41c7-8e17-3f40c70a93d3"
   },
   "outputs": [
    {
     "name": "stdout",
     "output_type": "stream",
     "text": [
      "<class 'pandas.core.frame.DataFrame'>\n",
      "RangeIndex: 2035 entries, 0 to 2034\n",
      "Data columns (total 8 columns):\n",
      " #   Column                Non-Null Count  Dtype  \n",
      "---  ------                --------------  -----  \n",
      " 0   Date                  2035 non-null   object \n",
      " 1   Open                  2035 non-null   float64\n",
      " 2   High                  2035 non-null   float64\n",
      " 3   Low                   2035 non-null   float64\n",
      " 4   Last                  2035 non-null   float64\n",
      " 5   Close                 2035 non-null   float64\n",
      " 6   Total Trade Quantity  2035 non-null   int64  \n",
      " 7   Turnover (Lacs)       2035 non-null   float64\n",
      "dtypes: float64(6), int64(1), object(1)\n",
      "memory usage: 127.3+ KB\n"
     ]
    }
   ],
   "source": [
    "df.info()"
   ]
  },
  {
   "cell_type": "code",
   "execution_count": 323,
   "metadata": {
    "colab": {
     "base_uri": "https://localhost:8080/",
     "height": 204
    },
    "colab_type": "code",
    "id": "noOof7LzuecP",
    "outputId": "8b944443-2cdd-461e-bc0e-642bc48f6869"
   },
   "outputs": [
    {
     "data": {
      "text/html": [
       "<div>\n",
       "<style scoped>\n",
       "    .dataframe tbody tr th:only-of-type {\n",
       "        vertical-align: middle;\n",
       "    }\n",
       "\n",
       "    .dataframe tbody tr th {\n",
       "        vertical-align: top;\n",
       "    }\n",
       "\n",
       "    .dataframe thead th {\n",
       "        text-align: right;\n",
       "    }\n",
       "</style>\n",
       "<table border=\"1\" class=\"dataframe\">\n",
       "  <thead>\n",
       "    <tr style=\"text-align: right;\">\n",
       "      <th></th>\n",
       "      <th>Date</th>\n",
       "      <th>Open</th>\n",
       "      <th>High</th>\n",
       "      <th>Low</th>\n",
       "      <th>Last</th>\n",
       "      <th>Close</th>\n",
       "      <th>Total Trade Quantity</th>\n",
       "      <th>Turnover (Lacs)</th>\n",
       "    </tr>\n",
       "  </thead>\n",
       "  <tbody>\n",
       "    <tr>\n",
       "      <th>0</th>\n",
       "      <td>2018-09-28</td>\n",
       "      <td>234.05</td>\n",
       "      <td>235.95</td>\n",
       "      <td>230.20</td>\n",
       "      <td>233.50</td>\n",
       "      <td>233.75</td>\n",
       "      <td>3069914</td>\n",
       "      <td>7162.35</td>\n",
       "    </tr>\n",
       "    <tr>\n",
       "      <th>1</th>\n",
       "      <td>2018-09-27</td>\n",
       "      <td>234.55</td>\n",
       "      <td>236.80</td>\n",
       "      <td>231.10</td>\n",
       "      <td>233.80</td>\n",
       "      <td>233.25</td>\n",
       "      <td>5082859</td>\n",
       "      <td>11859.95</td>\n",
       "    </tr>\n",
       "    <tr>\n",
       "      <th>2</th>\n",
       "      <td>2018-09-26</td>\n",
       "      <td>240.00</td>\n",
       "      <td>240.00</td>\n",
       "      <td>232.50</td>\n",
       "      <td>235.00</td>\n",
       "      <td>234.25</td>\n",
       "      <td>2240909</td>\n",
       "      <td>5248.60</td>\n",
       "    </tr>\n",
       "    <tr>\n",
       "      <th>3</th>\n",
       "      <td>2018-09-25</td>\n",
       "      <td>233.30</td>\n",
       "      <td>236.75</td>\n",
       "      <td>232.00</td>\n",
       "      <td>236.25</td>\n",
       "      <td>236.10</td>\n",
       "      <td>2349368</td>\n",
       "      <td>5503.90</td>\n",
       "    </tr>\n",
       "    <tr>\n",
       "      <th>4</th>\n",
       "      <td>2018-09-24</td>\n",
       "      <td>233.55</td>\n",
       "      <td>239.20</td>\n",
       "      <td>230.75</td>\n",
       "      <td>234.00</td>\n",
       "      <td>233.30</td>\n",
       "      <td>3423509</td>\n",
       "      <td>7999.55</td>\n",
       "    </tr>\n",
       "  </tbody>\n",
       "</table>\n",
       "</div>"
      ],
      "text/plain": [
       "         Date    Open    High  ...   Close  Total Trade Quantity  Turnover (Lacs)\n",
       "0  2018-09-28  234.05  235.95  ...  233.75               3069914          7162.35\n",
       "1  2018-09-27  234.55  236.80  ...  233.25               5082859         11859.95\n",
       "2  2018-09-26  240.00  240.00  ...  234.25               2240909          5248.60\n",
       "3  2018-09-25  233.30  236.75  ...  236.10               2349368          5503.90\n",
       "4  2018-09-24  233.55  239.20  ...  233.30               3423509          7999.55\n",
       "\n",
       "[5 rows x 8 columns]"
      ]
     },
     "execution_count": 323,
     "metadata": {
      "tags": []
     },
     "output_type": "execute_result"
    }
   ],
   "source": [
    "df.head(5)"
   ]
  },
  {
   "cell_type": "code",
   "execution_count": 324,
   "metadata": {
    "colab": {
     "base_uri": "https://localhost:8080/",
     "height": 68
    },
    "colab_type": "code",
    "id": "MvKF9Br6u_Uz",
    "outputId": "01dca1d5-8642-462a-d984-090cb7f34ba2"
   },
   "outputs": [
    {
     "data": {
      "text/plain": [
       "Index(['Date', 'Open', 'High', 'Low', 'Last', 'Close', 'Total Trade Quantity',\n",
       "       'Turnover (Lacs)'],\n",
       "      dtype='object')"
      ]
     },
     "execution_count": 324,
     "metadata": {
      "tags": []
     },
     "output_type": "execute_result"
    }
   ],
   "source": [
    "df.columns"
   ]
  },
  {
   "cell_type": "code",
   "execution_count": 0,
   "metadata": {
    "colab": {},
    "colab_type": "code",
    "id": "x5ds_-LE9vMO"
   },
   "outputs": [],
   "source": [
    "# ordiniamo i valori in tempo crescente\n",
    "df.sort_values('Date', inplace=True, ascending=True, ignore_index=True)\n",
    "df_test.sort_values('Date', inplace=True, ascending=True, ignore_index=True)"
   ]
  },
  {
   "cell_type": "code",
   "execution_count": 326,
   "metadata": {
    "colab": {
     "base_uri": "https://localhost:8080/",
     "height": 51
    },
    "colab_type": "code",
    "id": "cdqenMRByI9b",
    "outputId": "dfd458c9-c33e-4f34-89ed-847040b4b4dc"
   },
   "outputs": [
    {
     "name": "stdout",
     "output_type": "stream",
     "text": [
      "Inizio della sequenza temporale:  2010-07-21\n",
      "Fine della sequenza temporale:  2018-09-28\n"
     ]
    }
   ],
   "source": [
    "print('Inizio della sequenza temporale: ', df.Date.min())\n",
    "print('Fine della sequenza temporale: ', df.Date.max())"
   ]
  },
  {
   "cell_type": "code",
   "execution_count": 327,
   "metadata": {
    "colab": {
     "base_uri": "https://localhost:8080/",
     "height": 51
    },
    "colab_type": "code",
    "id": "arB1bsQ7yUdQ",
    "outputId": "8e30a799-1e93-4e75-c076-6ded603a320d"
   },
   "outputs": [
    {
     "name": "stdout",
     "output_type": "stream",
     "text": [
      "Inizio della sequenza temporale (test set):  2018-10-01\n",
      "Fine della sequenza temporale (test set):  2018-10-24\n"
     ]
    }
   ],
   "source": [
    "print('Inizio della sequenza temporale (test set): ', df_test.Date.min())\n",
    "print('Fine della sequenza temporale (test set): ', df_test.Date.max())"
   ]
  },
  {
   "cell_type": "code",
   "execution_count": 328,
   "metadata": {
    "colab": {
     "base_uri": "https://localhost:8080/",
     "height": 204
    },
    "colab_type": "code",
    "id": "g4JHVqAUiXhZ",
    "outputId": "edfa178f-dce2-4593-9240-6b86f93f2720"
   },
   "outputs": [
    {
     "data": {
      "text/html": [
       "<div>\n",
       "<style scoped>\n",
       "    .dataframe tbody tr th:only-of-type {\n",
       "        vertical-align: middle;\n",
       "    }\n",
       "\n",
       "    .dataframe tbody tr th {\n",
       "        vertical-align: top;\n",
       "    }\n",
       "\n",
       "    .dataframe thead th {\n",
       "        text-align: right;\n",
       "    }\n",
       "</style>\n",
       "<table border=\"1\" class=\"dataframe\">\n",
       "  <thead>\n",
       "    <tr style=\"text-align: right;\">\n",
       "      <th></th>\n",
       "      <th>Date</th>\n",
       "      <th>Open</th>\n",
       "      <th>High</th>\n",
       "      <th>Low</th>\n",
       "      <th>Last</th>\n",
       "      <th>Close</th>\n",
       "      <th>Total Trade Quantity</th>\n",
       "      <th>Turnover (Lacs)</th>\n",
       "    </tr>\n",
       "  </thead>\n",
       "  <tbody>\n",
       "    <tr>\n",
       "      <th>0</th>\n",
       "      <td>2010-07-21</td>\n",
       "      <td>122.1</td>\n",
       "      <td>123.00</td>\n",
       "      <td>121.05</td>\n",
       "      <td>121.10</td>\n",
       "      <td>121.55</td>\n",
       "      <td>658666</td>\n",
       "      <td>803.56</td>\n",
       "    </tr>\n",
       "    <tr>\n",
       "      <th>1</th>\n",
       "      <td>2010-07-22</td>\n",
       "      <td>120.3</td>\n",
       "      <td>122.00</td>\n",
       "      <td>120.25</td>\n",
       "      <td>120.75</td>\n",
       "      <td>120.90</td>\n",
       "      <td>293312</td>\n",
       "      <td>355.17</td>\n",
       "    </tr>\n",
       "    <tr>\n",
       "      <th>2</th>\n",
       "      <td>2010-07-23</td>\n",
       "      <td>121.8</td>\n",
       "      <td>121.95</td>\n",
       "      <td>120.25</td>\n",
       "      <td>120.35</td>\n",
       "      <td>120.65</td>\n",
       "      <td>281312</td>\n",
       "      <td>340.31</td>\n",
       "    </tr>\n",
       "    <tr>\n",
       "      <th>3</th>\n",
       "      <td>2010-07-26</td>\n",
       "      <td>120.1</td>\n",
       "      <td>121.00</td>\n",
       "      <td>117.10</td>\n",
       "      <td>117.10</td>\n",
       "      <td>117.60</td>\n",
       "      <td>658440</td>\n",
       "      <td>780.01</td>\n",
       "    </tr>\n",
       "    <tr>\n",
       "      <th>4</th>\n",
       "      <td>2010-07-27</td>\n",
       "      <td>117.6</td>\n",
       "      <td>119.50</td>\n",
       "      <td>112.00</td>\n",
       "      <td>118.80</td>\n",
       "      <td>118.65</td>\n",
       "      <td>586100</td>\n",
       "      <td>694.98</td>\n",
       "    </tr>\n",
       "  </tbody>\n",
       "</table>\n",
       "</div>"
      ],
      "text/plain": [
       "         Date   Open    High  ...   Close  Total Trade Quantity  Turnover (Lacs)\n",
       "0  2010-07-21  122.1  123.00  ...  121.55                658666           803.56\n",
       "1  2010-07-22  120.3  122.00  ...  120.90                293312           355.17\n",
       "2  2010-07-23  121.8  121.95  ...  120.65                281312           340.31\n",
       "3  2010-07-26  120.1  121.00  ...  117.60                658440           780.01\n",
       "4  2010-07-27  117.6  119.50  ...  118.65                586100           694.98\n",
       "\n",
       "[5 rows x 8 columns]"
      ]
     },
     "execution_count": 328,
     "metadata": {
      "tags": []
     },
     "output_type": "execute_result"
    }
   ],
   "source": [
    "df.head(5)"
   ]
  },
  {
   "cell_type": "code",
   "execution_count": 329,
   "metadata": {
    "colab": {
     "base_uri": "https://localhost:8080/",
     "height": 281
    },
    "colab_type": "code",
    "id": "7wJC63u0zEsr",
    "outputId": "bc11c66f-817f-4421-e4a3-99e497c1059b"
   },
   "outputs": [
    {
     "data": {
      "image/png": "[encoded data removed]",
      "text/plain": [
       "<Figure size 432x288 with 1 Axes>"
      ]
     },
     "metadata": {
      "needs_background": "light",
      "tags": []
     },
     "output_type": "display_data"
    }
   ],
   "source": [
    "#Data Exploration\n",
    "\n",
    "# grafichiamo la il prezzo di apertura in funzione della data\n",
    "\n",
    "plt.plot(df['Open'],linewidth=1)\n",
    "plt.title('TATA Open Price vs time')\n",
    "plt.show()\n"
   ]
  },
  {
   "cell_type": "code",
   "execution_count": 167,
   "metadata": {
    "colab": {
     "base_uri": "https://localhost:8080/",
     "height": 281
    },
    "colab_type": "code",
    "id": "xIBGnzw3-wNt",
    "outputId": "cdb2fc69-b159-4be7-886e-8024281860a4"
   },
   "outputs": [
    {
     "data": {
      "image/png": "[encoded data removed]",
      "text/plain": [
       "<Figure size 432x288 with 1 Axes>"
      ]
     },
     "metadata": {
      "needs_background": "light",
      "tags": []
     },
     "output_type": "display_data"
    }
   ],
   "source": [
    "plt.plot(df_test['Open'],linewidth=1)\n",
    "plt.title('TATA Open Price vs time Test set')\n",
    "plt.show()\n"
   ]
  },
  {
   "cell_type": "markdown",
   "metadata": {
    "colab_type": "text",
    "id": "GMMzS8ECwtoi"
   },
   "source": [
    "## Costruzione del modello RNN (una LSTM multilayer)\n",
    "\n",
    "*   task: predire il vaore del titolo (feature *Open*) al tempo corrente a partire dalla storia del titolo a tempi precedenti \n",
    "\n",
    "Step necessari:\n",
    "\n",
    "*   normalizzare le feature\n",
    "*   split in training/validation\n",
    "*   adeguare la shape dei dati per l'input atteso per una RNN in TF/keras: 3D array *(num_samples, num_timesteps, num_features)*\n",
    "*   costruzione del modello in keras\n"
   ]
  },
  {
   "cell_type": "code",
   "execution_count": 0,
   "metadata": {
    "colab": {},
    "colab_type": "code",
    "id": "ZkDsmG7Fqlc1"
   },
   "outputs": [],
   "source": [
    "# selezioniamo solo la feature interessante (Open price) e convertiamo i dati \n",
    "# in array numpy\n",
    "training_set = df.iloc[:, 1:2].values\n",
    "\n",
    "# normalizziamo le feature in [0,1]\n",
    "scaler = MinMaxScaler(feature_range = (0, 1))\n",
    "training_set_scaled = scaler.fit_transform(training_set)"
   ]
  },
  {
   "cell_type": "code",
   "execution_count": 313,
   "metadata": {
    "colab": {
     "base_uri": "https://localhost:8080/",
     "height": 51
    },
    "colab_type": "code",
    "id": "zI4JgjXXq4xS",
    "outputId": "e1d58bbd-dee8-414e-cd34-dbeadb7e787d"
   },
   "outputs": [
    {
     "name": "stdout",
     "output_type": "stream",
     "text": [
      "(2005, 30)\n",
      "(2005,)\n"
     ]
    }
   ],
   "source": [
    "# Creiamo la strutura di dati adeguata per la RNN: \n",
    "# consideriamo timesteps campionamenti in cui osserviamo i valori del titolo a tempi\n",
    "# precedenti, t-timetamp-delay ... t-delay\n",
    "# e 1 output corrispondente al valore del titolo al tempo corrente  \n",
    "# NOTA: nella RNN  input X timestamp valori a tempi precedenti e target X al tempo t\n",
    "X_train = []\n",
    "y_train = []\n",
    "\n",
    "timesteps = 30 #numero di step temporali sequenziali usati per la predizione\n",
    "delay = 0 #distanza in step temporali tra il target e l'elemento piu' vicino della sequenza temporale\n",
    "\n",
    "for i in range(timesteps+delay, training_set.shape[0]):\n",
    "    X_train.append(training_set_scaled[i-timesteps-delay:i-delay, 0])\n",
    "    y_train.append(training_set_scaled[i, 0])\n",
    "\n",
    "X_train, y_train = np.array(X_train), np.array(y_train)\n",
    "print(X_train.shape)\n",
    "print(y_train.shape)"
   ]
  },
  {
   "cell_type": "code",
   "execution_count": 314,
   "metadata": {
    "colab": {
     "base_uri": "https://localhost:8080/",
     "height": 34
    },
    "colab_type": "code",
    "id": "kh6-HIz8rkuk",
    "outputId": "57606e46-4f53-423c-aae6-e9aec6e112b4"
   },
   "outputs": [
    {
     "name": "stdout",
     "output_type": "stream",
     "text": [
      "(2005, 30, 1)\n"
     ]
    }
   ],
   "source": [
    "# Reshaping nel formato atteso da una RNN in TF/keras: 3D array (num_samples, num_timesteps, num_features)\n",
    "X_train = np.reshape(X_train, (X_train.shape[0], X_train.shape[1], 1))\n",
    "print(X_train.shape)"
   ]
  },
  {
   "cell_type": "markdown",
   "metadata": {
    "colab_type": "text",
    "id": "nG5wsYT9x0_b"
   },
   "source": [
    "Architettura del modello di RNN:\n",
    "\n",
    "1.   LSTM con 2 blocchi LSTM sequenziali (stacked LSTM) \n",
    "2.   spazio latente *ht* di dimensione 50\n",
    "3.   dropout 20% per regolarizzare il modello\n",
    "4.   un nuerone nell'output layer per predire la feature *Open*\n",
    "5.   loss: MSE,  ottimizzatore: Adam\n",
    "6.   100 epoche con EarlyStopping, con batch size 32\n"
   ]
  },
  {
   "cell_type": "code",
   "execution_count": 315,
   "metadata": {
    "colab": {
     "base_uri": "https://localhost:8080/",
     "height": 950
    },
    "colab_type": "code",
    "id": "BvNFAfQsr3q9",
    "outputId": "c70b434a-4a77-42bb-c2a4-d8d66e39c26f"
   },
   "outputs": [
    {
     "name": "stdout",
     "output_type": "stream",
     "text": [
      "Model: \"sequential_46\"\n",
      "_________________________________________________________________\n",
      "Layer (type)                 Output Shape              Param #   \n",
      "=================================================================\n",
      "lstm_82 (LSTM)               (None, 30, 50)            10400     \n",
      "_________________________________________________________________\n",
      "dropout_79 (Dropout)         (None, 30, 50)            0         \n",
      "_________________________________________________________________\n",
      "lstm_83 (LSTM)               (None, 50)                20200     \n",
      "_________________________________________________________________\n",
      "dropout_80 (Dropout)         (None, 50)                0         \n",
      "_________________________________________________________________\n",
      "dense_42 (Dense)             (None, 1)                 51        \n",
      "=================================================================\n",
      "Total params: 30,651\n",
      "Trainable params: 30,651\n",
      "Non-trainable params: 0\n",
      "_________________________________________________________________\n"
     ]
    },
    {
     "data": {
      "image/png": "[encoded data removed]",
      "text/plain": [
       "<IPython.core.display.Image object>"
      ]
     },
     "execution_count": 315,
     "metadata": {
      "tags": []
     },
     "output_type": "execute_result"
    }
   ],
   "source": [
    "# Stacked LSTM layers con dropouts\n",
    "model = keras.Sequential()\n",
    "\n",
    "# return_sequences = True va usato quando l'output della LSTM serve come input \n",
    "# ad un'altra LSTM\n",
    "model.add(layers.LSTM(50, return_sequences = True, input_shape=(X_train.shape[1], 1)))\n",
    "model.add(layers.Dropout(0.2))\n",
    "\n",
    "# nell'ultimo modulo LSTM non serve return_sequences = True\n",
    "model.add(layers.LSTM(50))\n",
    "model.add(layers.Dropout(0.2))\n",
    "\n",
    "model.add(layers.Dense(1))\n",
    "\n",
    "model.summary()\n",
    "keras.utils.plot_model(model, show_shapes=True)"
   ]
  },
  {
   "cell_type": "code",
   "execution_count": 316,
   "metadata": {
    "colab": {
     "base_uri": "https://localhost:8080/",
     "height": 1000
    },
    "colab_type": "code",
    "id": "jw0C2uuCIdTf",
    "outputId": "63ed8f7e-fa77-442c-8c19-49208d7ecbeb"
   },
   "outputs": [
    {
     "name": "stdout",
     "output_type": "stream",
     "text": [
      "Epoch 1/100\n",
      "63/63 [==============================] - 1s 16ms/step - loss: 0.0095\n",
      "Epoch 2/100\n",
      "63/63 [==============================] - 1s 15ms/step - loss: 0.0021\n",
      "Epoch 3/100\n",
      "63/63 [==============================] - 1s 15ms/step - loss: 0.0022\n",
      "Epoch 4/100\n",
      "63/63 [==============================] - 1s 15ms/step - loss: 0.0018\n",
      "Epoch 5/100\n",
      "63/63 [==============================] - 1s 15ms/step - loss: 0.0020\n",
      "Epoch 6/100\n",
      "63/63 [==============================] - 1s 15ms/step - loss: 0.0017\n",
      "Epoch 7/100\n",
      "63/63 [==============================] - 1s 15ms/step - loss: 0.0017\n",
      "Epoch 8/100\n",
      "63/63 [==============================] - 1s 15ms/step - loss: 0.0016\n",
      "Epoch 9/100\n",
      "63/63 [==============================] - 1s 16ms/step - loss: 0.0016\n",
      "Epoch 10/100\n",
      "63/63 [==============================] - 1s 15ms/step - loss: 0.0016\n",
      "Epoch 11/100\n",
      "63/63 [==============================] - 1s 16ms/step - loss: 0.0014\n",
      "Epoch 12/100\n",
      "63/63 [==============================] - 1s 15ms/step - loss: 0.0012\n",
      "Epoch 13/100\n",
      "63/63 [==============================] - 1s 16ms/step - loss: 0.0014\n",
      "Epoch 14/100\n",
      "63/63 [==============================] - 1s 15ms/step - loss: 0.0013\n",
      "Epoch 15/100\n",
      "63/63 [==============================] - 1s 15ms/step - loss: 0.0012\n",
      "Epoch 16/100\n",
      "63/63 [==============================] - 1s 15ms/step - loss: 0.0011\n",
      "Epoch 17/100\n",
      "63/63 [==============================] - 1s 15ms/step - loss: 0.0012\n",
      "Epoch 18/100\n",
      "63/63 [==============================] - 1s 15ms/step - loss: 0.0013\n",
      "Epoch 19/100\n",
      "63/63 [==============================] - 1s 15ms/step - loss: 0.0010\n",
      "Epoch 20/100\n",
      "63/63 [==============================] - 1s 15ms/step - loss: 0.0011\n",
      "Epoch 21/100\n",
      "63/63 [==============================] - 1s 15ms/step - loss: 0.0010\n",
      "Epoch 22/100\n",
      "63/63 [==============================] - 1s 15ms/step - loss: 0.0011\n",
      "Epoch 23/100\n",
      "63/63 [==============================] - 1s 15ms/step - loss: 0.0010\n",
      "Epoch 24/100\n",
      "63/63 [==============================] - 1s 16ms/step - loss: 9.7592e-04\n",
      "Epoch 25/100\n",
      "63/63 [==============================] - 1s 15ms/step - loss: 0.0011\n",
      "Epoch 26/100\n",
      "63/63 [==============================] - 1s 15ms/step - loss: 0.0010\n",
      "Epoch 27/100\n",
      "63/63 [==============================] - 1s 15ms/step - loss: 0.0010\n",
      "Epoch 28/100\n",
      "63/63 [==============================] - 1s 15ms/step - loss: 9.1077e-04\n",
      "Epoch 29/100\n",
      "63/63 [==============================] - 1s 15ms/step - loss: 8.8360e-04\n",
      "Epoch 30/100\n",
      "63/63 [==============================] - 1s 15ms/step - loss: 9.6039e-04\n",
      "Epoch 31/100\n",
      "63/63 [==============================] - 1s 15ms/step - loss: 8.8304e-04\n",
      "Epoch 32/100\n",
      "63/63 [==============================] - 1s 16ms/step - loss: 9.1901e-04\n",
      "Epoch 33/100\n",
      "63/63 [==============================] - 1s 15ms/step - loss: 8.5885e-04\n",
      "Epoch 34/100\n",
      "63/63 [==============================] - 1s 16ms/step - loss: 8.3955e-04\n",
      "Epoch 35/100\n",
      "63/63 [==============================] - 1s 15ms/step - loss: 8.8539e-04\n",
      "Epoch 36/100\n",
      "63/63 [==============================] - 1s 15ms/step - loss: 8.1938e-04\n",
      "Epoch 37/100\n",
      "63/63 [==============================] - 1s 15ms/step - loss: 7.9331e-04\n",
      "Epoch 38/100\n",
      "63/63 [==============================] - 1s 16ms/step - loss: 7.9133e-04\n",
      "Epoch 39/100\n",
      "63/63 [==============================] - 1s 15ms/step - loss: 8.0683e-04\n",
      "Epoch 40/100\n",
      "63/63 [==============================] - 1s 15ms/step - loss: 7.1788e-04\n",
      "Epoch 41/100\n",
      "63/63 [==============================] - 1s 15ms/step - loss: 7.4939e-04\n",
      "Epoch 42/100\n",
      "63/63 [==============================] - 1s 15ms/step - loss: 7.5351e-04\n",
      "Epoch 43/100\n",
      "63/63 [==============================] - 1s 16ms/step - loss: 7.2714e-04\n",
      "Epoch 44/100\n",
      "63/63 [==============================] - 1s 15ms/step - loss: 6.6157e-04\n",
      "Epoch 45/100\n",
      "63/63 [==============================] - 1s 15ms/step - loss: 8.3764e-04\n",
      "Epoch 46/100\n",
      "63/63 [==============================] - 1s 15ms/step - loss: 7.1915e-04\n",
      "Epoch 47/100\n",
      "63/63 [==============================] - 1s 15ms/step - loss: 7.5536e-04\n",
      "Epoch 48/100\n",
      "63/63 [==============================] - 1s 15ms/step - loss: 6.9464e-04\n",
      "Epoch 49/100\n",
      "63/63 [==============================] - 1s 15ms/step - loss: 6.3347e-04\n",
      "Epoch 50/100\n",
      "63/63 [==============================] - 1s 15ms/step - loss: 7.5525e-04\n",
      "Epoch 51/100\n",
      "63/63 [==============================] - 1s 15ms/step - loss: 7.1023e-04\n",
      "Epoch 52/100\n",
      "63/63 [==============================] - 1s 15ms/step - loss: 6.9486e-04\n",
      "Epoch 53/100\n",
      "63/63 [==============================] - 1s 15ms/step - loss: 6.8986e-04\n",
      "Epoch 54/100\n",
      "63/63 [==============================] - 1s 15ms/step - loss: 6.0888e-04\n",
      "Epoch 55/100\n",
      "63/63 [==============================] - 1s 15ms/step - loss: 6.2591e-04\n",
      "Epoch 56/100\n",
      "63/63 [==============================] - 1s 15ms/step - loss: 6.8765e-04\n",
      "Epoch 57/100\n",
      "63/63 [==============================] - 1s 15ms/step - loss: 5.4035e-04\n",
      "Epoch 58/100\n",
      "63/63 [==============================] - 1s 16ms/step - loss: 6.6753e-04\n",
      "Epoch 59/100\n",
      "63/63 [==============================] - 1s 16ms/step - loss: 6.4109e-04\n",
      "Epoch 60/100\n",
      "63/63 [==============================] - 1s 15ms/step - loss: 7.2415e-04\n",
      "Epoch 61/100\n",
      "63/63 [==============================] - 1s 15ms/step - loss: 5.6213e-04\n",
      "Epoch 62/100\n",
      "63/63 [==============================] - 1s 15ms/step - loss: 6.8522e-04\n"
     ]
    }
   ],
   "source": [
    "model.compile(optimizer='adam', loss='mean_squared_error')\n",
    "\n",
    "history = model.fit(X_train, y_train,\n",
    "                    epochs=100,\n",
    "                    batch_size=32,\n",
    "                    callbacks=[keras.callbacks.EarlyStopping(monitor='loss', patience=5)])"
   ]
  },
  {
   "cell_type": "code",
   "execution_count": 0,
   "metadata": {
    "colab": {},
    "colab_type": "code",
    "id": "rRYmizR_vWH_"
   },
   "outputs": [],
   "source": [
    "# Calcoliamo la predizione del modello su i dati del test set (set degli stessi dati nel periodo subito \n",
    "# successivo)\n",
    "\n",
    "test_set = df_test.iloc[:, 1:2].values\n",
    "\n",
    "#concateniamo il dataset di training (che contiene le sequenze precedenti a quelle \n",
    "#del test set) con il test set\n",
    "df_total = pd.concat((df['Open'], df_test['Open']), axis = 0)\n",
    "inputs = df_total[(len(df_total) - len(df_test) - timesteps - delay):].values\n",
    "inputs = inputs.reshape(-1,1) #nota -1 significa che numpy ricava la dimensione dalla lunghezza dell'array\n",
    "inputs = scaler.transform(inputs) #normalizzazione\n",
    "\n",
    "X_test = []\n",
    "for i in range(timesteps+delay, timesteps+delay+test_set.shape[0]):\n",
    "    start = i-(timesteps+delay)\n",
    "    end = i-delay\n",
    "    X_test.append(inputs[start:end, 0])\n",
    "\n",
    "X_test = np.array(X_test)\n",
    "X_test = np.reshape(X_test, (X_test.shape[0], X_test.shape[1], 1))\n",
    "\n",
    "# predizione sul test set\n",
    "predicted_values = model.predict(X_test)\n",
    "\n",
    "# riconvertiamo indietro da [0,1] ai valori originali dell'prezzo di borsa\n",
    "predicted_values = scaler.inverse_transform(predicted_values)"
   ]
  },
  {
   "cell_type": "code",
   "execution_count": 332,
   "metadata": {
    "colab": {
     "base_uri": "https://localhost:8080/",
     "height": 283
    },
    "colab_type": "code",
    "id": "xwDX-TtbxMDC",
    "outputId": "b011cf9e-9eab-4d25-a27f-f687dda7a557"
   },
   "outputs": [
    {
     "data": {
      "image/png": "[encoded data removed]",
      "text/plain": [
       "<Figure size 432x288 with 1 Axes>"
      ]
     },
     "metadata": {
      "needs_background": "light",
      "tags": []
     },
     "output_type": "display_data"
    }
   ],
   "source": [
    "# Grafichiamo il risultato: predizione VS valore vero\n",
    "\n",
    "plt.plot(test_set, color = 'red', label = 'Prezzo reale del titolo TATA')\n",
    "plt.plot(predicted_values, color = 'blue', label = 'Predizione del titolo TATA')\n",
    "plt.ylim(150, 300)\n",
    "plt.xlabel('Tempo')\n",
    "plt.ylabel('Prezzo del titolo TATA')\n",
    "plt.legend()\n",
    "plt.show()"
   ]
  },
  {
   "cell_type": "markdown",
   "metadata": {
    "colab_type": "text",
    "id": "aIQQaODcBCSM"
   },
   "source": [
    "# **Compiti:** \n",
    "\n",
    "1.   provare a vedere come cambiano le prestazioni riducendo la complessita della rete (dimensione spazio latente, numero di stack LSTM), e/o passando a RNN di tipo SimpleRNN e GRU\n",
    "2.   pensare ad un modello naive basato sull'intuizione (vostra) del processo (esempio: la predizione a t potrebbe essere la media dei valori in n t precedenti tra i dati disponibili (dato il valore del delay), oppure il valore più vicino, ...) per stimare il valore del titolo al tempo corrente, misurarne le prestazioni sul test_set e confrontarlo con quanto ottenuto con la RNN ... commenti?\n",
    "3.   provate a vedere come la qualità della predizione dipende dal numeo di eventi temporali (timestamps) utilizzati e sopratutto dalla distanza temporale (delay) tra l'ultima misura disponibile e il valore corrente. Come infuiscono sulle prestazioni?\n",
    "4.   provate a costruire un campione di test ottenuto dalle predizioni sul campione di test stesso e iterare la procedura, cosa succede alla predizione?\n",
    "5.   le prestazioni del modello migliorrebbero aggiungendo ulteriori feature nell'analisi temporale (per esempio: 'Total Trade Quantity' e 'Turnover (Lacs)')? Provare a capire come poter modificare il modello inserendo tali quantità e addestrando un nuovo modello ... (più complesso e opzionale)"
   ]
  }
 ],
 "metadata": {
  "accelerator": "GPU",
  "colab": {
   "collapsed_sections": [],
   "name": "NB_RNN_sequenzetemporali_LC5_2020.ipynb",
   "provenance": [],
   "toc_visible": true
  },
  "kernelspec": {
   "display_name": "Python 3",
   "language": "python",
   "name": "python3"
  },
  "language_info": {
   "codemirror_mode": {
    "name": "ipython",
    "version": 3
   },
   "file_extension": ".py",
   "mimetype": "text/x-python",
   "name": "python",
   "nbconvert_exporter": "python",
   "pygments_lexer": "ipython3",
   "version": "3.6.9"
  }
 },
 "nbformat": 4,
 "nbformat_minor": 1
}
