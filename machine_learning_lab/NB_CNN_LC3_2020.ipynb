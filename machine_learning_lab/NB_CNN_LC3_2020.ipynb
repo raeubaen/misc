{
 "cells": [
  {
   "cell_type": "markdown",
   "metadata": {
    "colab_type": "text",
    "id": "JdZoclXw1tVi"
   },
   "source": [
    "### Implementazione di Convolutional Neural Network, tuning degli iperparmetri, confronto con una CNN stato dell'arte + transfer learning  \n",
    "\n",
    "### Informazioni ###\n",
    "\n",
    "scopo: familiarizzare con l'utilizzo del tool Tensorflow/Keras per lo sviluppo di CNN \n",
    "\n",
    "applicazione: predizione temperatura di configurazioni del modello di Ising ferromagnetico 2D\n",
    "\n",
    "DL tool: tensorflow/keras\n",
    "\n",
    "### Modello di Ising 2D ###\n",
    "\n",
    "dettagli (definizione teorica e simulazione) nella [nota](https://vixra.org/pdf/1710.0021v2.pdf).\n",
    "\n",
    "È definito su un reticolo bidimensionale dall'Hamiltoniana \n",
    "\n",
    "$$ H = -J\\sum_{\\langle ij\\rangle}S_{i}S_j,\\qquad \\qquad S_j\\in\\{\\pm 1\\} $$\n",
    "\n",
    "in cui gli indici del reticolo $i,j$ sono associati ai primi vicini di un reticolo 2D quadrato di lato $L$, e $J$ è un parametro di scala arbitrario che definisce la scala dell'energia di interazione tra gli spin $S_i$.\n",
    "Si utilizzano condizioni periodiche al contorno sul reticolo.\n",
    "\n",
    "Si dimostra che questo sistema presenta una transizione di fase nel limite termodinamico da un sistea ordinato con tutti gli spin allineati (ferromagnete ordinato) a una fase disordinata con spin random, alla temperatura critica $T_c/J=1/\\log(1+\\sqrt{2})\\approx 2.26$. \n",
    "\n",
    "\n",
    "**Dataset:**\n",
    "\n",
    "10k configurazioni (simulate con termalizzazioni non complete in modo da avere un certo livello di \"rumore\") con $T/J$ uniforme in $[0,5]$ di un modello ising 2D su un reticolo $28\\times 28$ simulato tramite un semplice Monte Carlo tipo Metropolis \n",
    "\n",
    "NOTA: le configurazioni sono 28x28 valori dello spin, le label sono la temperatura associata ad ogni configurazione."
   ]
  },
  {
   "cell_type": "code",
   "execution_count": 0,
   "metadata": {
    "colab": {
     "base_uri": "https://localhost:8080/",
     "height": 421
    },
    "colab_type": "code",
    "id": "XMbOsQ2YG2Zf",
    "outputId": "14ede47b-1421-423a-c5da-58da53a39d82"
   },
   "outputs": [
    {
     "name": "stdout",
     "output_type": "stream",
     "text": [
      "--2020-05-07 17:48:06--  http://www.roma1.infn.it/~giagu/datasets/ising2_label.dat\n",
      "Resolving www.roma1.infn.it (www.roma1.infn.it)... 141.108.26.1, 141.108.26.150\n",
      "Connecting to www.roma1.infn.it (www.roma1.infn.it)|141.108.26.1|:80... connected.\n",
      "HTTP request sent, awaiting response... 200 OK\n",
      "Length: 81025 (79K)\n",
      "Saving to: ‘ising2_label.dat’\n",
      "\n",
      "ising2_label.dat    100%[===================>]  79.13K   253KB/s    in 0.3s    \n",
      "\n",
      "2020-05-07 17:48:07 (253 KB/s) - ‘ising2_label.dat’ saved [81025/81025]\n",
      "\n",
      "--2020-05-07 17:48:09--  http://www.roma1.infn.it/~giagu/datasets/ising2_conf.dat\n",
      "Resolving www.roma1.infn.it (www.roma1.infn.it)... 141.108.26.1, 141.108.26.150\n",
      "Connecting to www.roma1.infn.it (www.roma1.infn.it)|141.108.26.1|:80... connected.\n",
      "HTTP request sent, awaiting response... 200 OK\n",
      "Length: 19060775 (18M)\n",
      "Saving to: ‘ising2_conf.dat’\n",
      "\n",
      "ising2_conf.dat     100%[===================>]  18.18M  9.36MB/s    in 1.9s    \n",
      "\n",
      "2020-05-07 17:48:11 (9.36 MB/s) - ‘ising2_conf.dat’ saved [19060775/19060775]\n",
      "\n"
     ]
    }
   ],
   "source": [
    "# download del dataset:\n",
    "!wget http://www.roma1.infn.it/~giagu/datasets/ising2_label.dat\n",
    "!wget http://www.roma1.infn.it/~giagu/datasets/ising2_conf.dat"
   ]
  },
  {
   "cell_type": "markdown",
   "metadata": {
    "colab_type": "text",
    "id": "K0noVvY9xA61"
   },
   "source": [
    "### Procedura ###\n",
    "\n",
    "Passi tipici nella costruzione di una procedura end-to-end per lo sviluppo di una CNN (o generica DNN):\n",
    "\n",
    "1.   lettura e pre-processamento dei dati\n",
    "2.   definizionedel modello di ANN e della sua architettura\n",
    "3.   scelta dell'ottmizzatore e della funzione di loss\n",
    "4.   training del modello\n",
    "5.   misura delle prestazioni del modello su dati non utilizzati nel training (test data)\n",
    "6.   modifica degli iperparametri per ottimizzare le prestazioni per il dataset specifico (hyperparameter tuning)"
   ]
  },
  {
   "cell_type": "code",
   "execution_count": 0,
   "metadata": {
    "colab": {
     "base_uri": "https://localhost:8080/",
     "height": 35
    },
    "colab_type": "code",
    "id": "bzapYGeA1tVk",
    "outputId": "d3abd212-c3f9-4af2-abd7-fb9cef567394",
    "scrolled": true
   },
   "outputs": [
    {
     "name": "stdout",
     "output_type": "stream",
     "text": [
      "2.2.0-rc4\n"
     ]
    }
   ],
   "source": [
    "#import models & layers from TF/keras\n",
    "import tensorflow as tf\n",
    "from tensorflow import keras\n",
    "\n",
    "# Helper libraries\n",
    "import numpy as np\n",
    "\n",
    "import matplotlib.pyplot as plt\n",
    "\n",
    "print(tf.__version__)"
   ]
  },
  {
   "cell_type": "code",
   "execution_count": 0,
   "metadata": {
    "colab": {
     "base_uri": "https://localhost:8080/",
     "height": 129
    },
    "colab_type": "code",
    "id": "UD29xJ0mLdgg",
    "outputId": "228a29da-4185-4eaa-e19b-b5c9ca43c500"
   },
   "outputs": [
    {
     "name": "stdout",
     "output_type": "stream",
     "text": [
      "Go to this URL in a browser: https://accounts.google.com/o/oauth2/auth?client_id=947318989803-6bn6qk8qdgf4n4g3pfee6491hc0brc4i.apps.googleusercontent.com&redirect_uri=urn%3aietf%3awg%3aoauth%3a2.0%3aoob&response_type=code&scope=email%20https%3a%2f%2fwww.googleapis.com%2fauth%2fdocs.test%20https%3a%2f%2fwww.googleapis.com%2fauth%2fdrive%20https%3a%2f%2fwww.googleapis.com%2fauth%2fdrive.photos.readonly%20https%3a%2f%2fwww.googleapis.com%2fauth%2fpeopleapi.readonly\n",
      "\n",
      "Enter your authorization code:\n",
      "··········\n",
      "Mounted at /content/drive/\n"
     ]
    }
   ],
   "source": [
    "from google.colab import drive\n",
    "drive.mount(\"/content/drive/\")"
   ]
  },
  {
   "cell_type": "markdown",
   "metadata": {
    "colab_type": "text",
    "id": "OAJgNkk45-vL"
   },
   "source": [
    "Le reti neurali non processano direttamente dati \"raw\" come per esempio immagini JPEG o file di testo, o file CSV. Si aspettano in input rappresentazioni numeriche vettorizzate e standardizzate\n",
    "\n",
    "\n",
    "*   file con testo devono essere convertiti in tensori di stringhe, poi separati in parole, e infine ogni parola deve essere indicizzata e trasformata in tensori di interi\n",
    "\n",
    "*   le immagini devono essere convertite in tenosri di numeri reali ed eventualmente normalizzate a vlaori piccoli (spesso in [0,1])\n",
    "\n",
    "*   dati in formato CSV devono essere letti e decodificati (per esempio con pandas). Ogni feature poi eventualmente dovrebbe essere normalizzata (non obbligatorio ma utile) in modo da avere media zero e varianza unitaria\n",
    "\n",
    "etc. etc.\n",
    "\n",
    "Keras accetta input in forma di numpy array oopure in formati specializzati di tensorflow (tf dataset objects) utili nel caso di grandi campioni che non entrano in memoria e per i quali si deve attuare una lettura a batch dallo storage del disco rigido. \n",
    "\n",
    "Keras ha anche varie utility che permettono di leggere automaticamente immagini o file di testo e convertirli nei formati utili (vedere per esempio tf.keras.preprocessing.image_dataset_from_directory o tf.keras.preprocessing.text_dataset_from_directory). \n",
    "\n",
    "In questa esercitazione useremo semplicemente numpy"
   ]
  },
  {
   "cell_type": "code",
   "execution_count": 0,
   "metadata": {
    "colab": {
     "base_uri": "https://localhost:8080/",
     "height": 54
    },
    "colab_type": "code",
    "id": "289IiNEH1tVq",
    "outputId": "ff9aac31-d936-420c-cc2a-dfbbf0f970a0"
   },
   "outputs": [
    {
     "name": "stdout",
     "output_type": "stream",
     "text": [
      "Formato data:  (10000, 28, 28)\n",
      "Formato labels: (10000,)\n"
     ]
    }
   ],
   "source": [
    "#leggiamo le configurazioni ising dal file usando numpy (10k esempi oguno da 28x28 spin)\n",
    "data = np.loadtxt('ising2_conf.dat')\n",
    "#riformattiamo i vettori in modo che abbiano la struttura di matrici di 28x28 spin\n",
    "# (le configurazioni sono scritte nel file come 10000*28 righe ognuna di 28 elementi)\n",
    "data = data.reshape(10000,28,28)\n",
    "print('Formato data: ', data.shape)\n",
    "\n",
    "#leggiamo le label associate:\n",
    "labels = np.loadtxt('ising2_label.dat')\n",
    "print('Formato labels:', labels.shape)"
   ]
  },
  {
   "cell_type": "code",
   "execution_count": 0,
   "metadata": {
    "colab": {
     "base_uri": "https://localhost:8080/",
     "height": 288
    },
    "colab_type": "code",
    "id": "0KbrYYCvylZY",
    "outputId": "4758f569-bee7-4f33-d12e-6c01d54950cf"
   },
   "outputs": [
    {
     "data": {
      "image/png": "[encoded data removed]",
      "text/plain": [
       "<Figure size 432x288 with 3 Axes>"
      ]
     },
     "metadata": {
      "needs_background": "light",
      "tags": []
     },
     "output_type": "display_data"
    }
   ],
   "source": [
    "#Data esploration: visulaizzazione dei campioni\n",
    "%matplotlib inline \n",
    "\n",
    "# set colourbar map\n",
    "cmap_args=dict(cmap='plasma_r')\n",
    "\n",
    "# selezioniamo configurazioni sotto la temperatura critica (stato ordinato), \n",
    "# sopra la temp. critica (stato disordinato), e intorno alla temperatura \n",
    "# critica (stato critico)\n",
    "ord_sele = (labels < 2.0)\n",
    "dis_sele = (labels > 2.5)\n",
    "cri_sele = ((labels >= 2.0) & (labels <= 2.5))\n",
    "\n",
    "# plot states\n",
    "fig, axarr = plt.subplots(nrows=1, ncols=3)\n",
    "\n",
    "axarr[0].imshow(data[ord_sele][1],**cmap_args)\n",
    "axarr[0].set_title('ordered phase',fontsize=16)\n",
    "axarr[0].tick_params(labelsize=16)\n",
    "\n",
    "axarr[1].imshow(data[cri_sele][7],**cmap_args)\n",
    "axarr[1].set_title('critical region',fontsize=16)\n",
    "axarr[1].tick_params(labelsize=16)\n",
    "\n",
    "axarr[2].imshow(data[dis_sele][5],**cmap_args)\n",
    "axarr[2].set_title('disordered phase',fontsize=16)\n",
    "axarr[2].tick_params(labelsize=16)\n",
    "\n",
    "fig.subplots_adjust(right=2.0)\n",
    "\n",
    "plt.show()"
   ]
  },
  {
   "cell_type": "code",
   "execution_count": 0,
   "metadata": {
    "colab": {
     "base_uri": "https://localhost:8080/",
     "height": 91
    },
    "colab_type": "code",
    "id": "Epha5Zxu1tV1",
    "outputId": "22111ad3-b2de-4976-b9ea-acaadb7f98f0"
   },
   "outputs": [
    {
     "name": "stdout",
     "output_type": "stream",
     "text": [
      "min/max data: -1.000000 / 1.000000\n",
      "min/max normalized data: 0.000000 / 1.000000\n",
      "var normalized data: 1.0000\n",
      "mean normalized data: -0.0000\n"
     ]
    }
   ],
   "source": [
    "# Preprocessamento dei dati: \n",
    "# in questo caso specifico non serve normalizzare i dati visto che sono già valori \n",
    "# binari compresi nell'intervallo [-1,1]\n",
    "# non è nemmeno necessario agire sulle label (T) per esempio convertendole in \n",
    "# formato vettori one-hot visto che siamo interesati ad addestrare la CNN per \n",
    "# una task di regressione (predire la temperatura di una configurazione del modello\n",
    "# rappresentata da un'immagine binaria  \n",
    "\n",
    "# unica cosa utile è quella di convertire in formato fp32 i valori degli spin (-1, 1):\n",
    "\n",
    "data = data.astype('float32')\n",
    "labels = labels.astype('float32')\n",
    "\n",
    "# se avessimo voluto normalizzare le immagini tra [0,1]:\n",
    "# o usare scikit-learn sklearn.preprocessing.MinMaxScaler\n",
    "data_max = np.amax(data)\n",
    "data_min = np.amin(data)\n",
    "print('min/max data: %f / %f' % (data_min, data_max))\n",
    "data_norm = (data.astype('float32')-data_min) / (data_max-data_min)\n",
    "print('min/max normalized data: %f / %f' % (np.amin(data_norm), np.amax(data_norm)))\n",
    "\n",
    "# se avessimo voluto normalizzare le immagini a media 0 e varianza 1\n",
    "# o usare scikit-learn sklearn.preprocessing.normalize\n",
    "from tensorflow.keras.layers.experimental.preprocessing import Normalization\n",
    "normalizer = Normalization(axis=-1)\n",
    "normalizer.adapt(data)\n",
    "data_norm = normalizer(data)\n",
    "print('var normalized data: %.4f' % np.var(data_norm))\n",
    "print('mean normalized data: %.4f' % np.mean(data_norm))"
   ]
  },
  {
   "cell_type": "code",
   "execution_count": 0,
   "metadata": {
    "colab": {},
    "colab_type": "code",
    "id": "-hkBqm4m1tV8"
   },
   "outputs": [],
   "source": [
    "# se avessimo voluto codificare le label usando one_hot encoding (builtin in keras)\n",
    "# NOTA: non ha senso in questo caso con label target continui ...\n",
    "# labels_onehot = keras.utils.to_categorical(labels)"
   ]
  },
  {
   "cell_type": "code",
   "execution_count": 0,
   "metadata": {
    "colab": {
     "base_uri": "https://localhost:8080/",
     "height": 90
    },
    "colab_type": "code",
    "id": "hM1rhCNxETjA",
    "outputId": "63dbf539-4c60-4209-a6d2-62a28d962063"
   },
   "outputs": [
    {
     "name": "stdout",
     "output_type": "stream",
     "text": [
      "(8000, 28, 28)\n",
      "(2000, 28, 28)\n",
      "(8000,)\n",
      "(2000,)\n"
     ]
    }
   ],
   "source": [
    "# dividiamo il campione in training e test sets\n",
    "\n",
    "from sklearn.model_selection import train_test_split\n",
    "train_to_test_ratio=0.8 # training samples\n",
    "\n",
    "X_train,X_test,Y_train,Y_test=train_test_split(data,labels,train_size=train_to_test_ratio)\n",
    "print(X_train.shape)\n",
    "print(X_test.shape)\n",
    "print(Y_train.shape)\n",
    "print(Y_test.shape)\n",
    "data = (X_train,X_test,Y_train,Y_test)"
   ]
  },
  {
   "cell_type": "markdown",
   "metadata": {
    "colab_type": "text",
    "id": "o98UNJzgAb8m"
   },
   "source": [
    "**Creazione del Modello CNN**\n",
    "\n",
    "Usiamo functional API di Keras"
   ]
  },
  {
   "cell_type": "code",
   "execution_count": 0,
   "metadata": {
    "colab": {
     "base_uri": "https://localhost:8080/",
     "height": 1000
    },
    "colab_type": "code",
    "id": "9KEHvHcRPLUB",
    "outputId": "ec7d61d5-7d1e-47b2-fe6f-551c98f807ea"
   },
   "outputs": [
    {
     "name": "stdout",
     "output_type": "stream",
     "text": [
      "Model: \"ising_CNN\"\n",
      "_________________________________________________________________\n",
      "Layer (type)                 Output Shape              Param #   \n",
      "=================================================================\n",
      "input_3 (InputLayer)         [(None, 28, 28, 1)]       0         \n",
      "_________________________________________________________________\n",
      "Conv_1 (Conv2D)              (None, 26, 26, 32)        320       \n",
      "_________________________________________________________________\n",
      "relu_1 (ReLU)                (None, 26, 26, 32)        0         \n",
      "_________________________________________________________________\n",
      "MaxPool_1 (MaxPooling2D)     (None, 13, 13, 32)        0         \n",
      "_________________________________________________________________\n",
      "Conv_2 (Conv2D)              (None, 11, 11, 64)        18496     \n",
      "_________________________________________________________________\n",
      "relu_2 (ReLU)                (None, 11, 11, 64)        0         \n",
      "_________________________________________________________________\n",
      "MaxPool_2 (MaxPooling2D)     (None, 5, 5, 64)          0         \n",
      "_________________________________________________________________\n",
      "Conv_3 (Conv2D)              (None, 3, 3, 64)          36928     \n",
      "_________________________________________________________________\n",
      "relu_3 (ReLU)                (None, 3, 3, 64)          0         \n",
      "_________________________________________________________________\n",
      "Flatten (Flatten)            (None, 576)               0         \n",
      "_________________________________________________________________\n",
      "Dense_1 (Dense)              (None, 256)               147712    \n",
      "_________________________________________________________________\n",
      "relu_dense_1 (ReLU)          (None, 256)               0         \n",
      "_________________________________________________________________\n",
      "Dense_2 (Dense)              (None, 256)               65792     \n",
      "_________________________________________________________________\n",
      "relu_dense_2 (ReLU)          (None, 256)               0         \n",
      "_________________________________________________________________\n",
      "Output (Dense)               (None, 1)                 257       \n",
      "=================================================================\n",
      "Total params: 269,505\n",
      "Trainable params: 269,505\n",
      "Non-trainable params: 0\n",
      "_________________________________________________________________\n"
     ]
    },
    {
     "data": {
      "image/png": "[encoded data removed]",
      "text/plain": [
       "<IPython.core.display.Image object>"
      ]
     },
     "execution_count": 27,
     "metadata": {
      "tags": []
     },
     "output_type": "execute_result"
    }
   ],
   "source": [
    "# Model definition (functional model)\n",
    "\n",
    "# definizione input (tensori 28 spin x 28 spin x 1)\n",
    "inputs = keras.Input(shape=(28,28,1))\n",
    "\n",
    "# Data Augmentation\n",
    "# è spesso utile applicare variazioni random ai dati che siano coerenti con le \n",
    "# simmetrie del problema per rendere il modello più robusto e con maggiore \n",
    "# capacità di generalizzazione\n",
    "# In questo caso per esempio e' possibile fare dei filipping random orizzontali \n",
    "# o verticali dei pixel (spin) senza cambiare il contenuto fisico delle config.\n",
    "# Se lo volessimo fare in TF/keras basta generare un layer di data-augmentation\n",
    "\n",
    "data_augmentation = keras.Sequential([\n",
    "  keras.layers.experimental.preprocessing.RandomFlip()\n",
    "], name='DataAugm')\n",
    "\n",
    "#ed aggiungerlo al modello come primo layer dopo l'input ...\n",
    "# NOTA: il sistema è intelligente e le trasformazioni vengono atuate SOLO durante \n",
    "# il training ma non durante uso del modello in prediction/test \n",
    "\n",
    "# Image augmentation block scomentare la riga che segue (e commentare la successiva) \n",
    "# per attivarlo\n",
    "def output_from_input(\n",
    "    inputs, data_augment=False, activation=\"relu\",\n",
    "    batch_normalize=False\n",
    "):\n",
    "  if activation==\"relu\":\n",
    "    _layer_with_activation = keras.layers.ReLU\n",
    "  elif activation==\"l_relu\":\n",
    "    _layer_with_activation = keras.layers.LeakyReLU\n",
    "  elif activation==\"elu\":\n",
    "    _layer_with_activation = keras.layers.ELU\n",
    "\n",
    "  if data_augment:\n",
    "    x = data_augmentation(inputs)\n",
    "  else:\n",
    "    x = inputs\n",
    "\n",
    "  if batch_normalize:\n",
    "    layer_with_activation = lambda name, x: \\\n",
    "      keras.layers.BatchNormalization()(_layer_with_activation(name=name)(x))\n",
    "  else:\n",
    "    layer_with_activation = lambda name, x: \\\n",
    "      _layer_with_activation(name=name)(x)\n",
    "  # CNN costituita da 3 blocchi convoluzionali per la feature selection, seguiti \n",
    "  # da una rete densa come classificatore\n",
    "\n",
    "  #\n",
    "  # singolo blocco convoluzionale: conv2D + maxPooling \n",
    "  # attvazione: ReLu\n",
    "\n",
    "  # primo blocco convoluzionale: x -> Conv2D -> x -> ReLU -> x -> MaxPooling2D\n",
    "  #tf.keras.layers.Conv2D(\n",
    "  #    filters, kernel_size, strides=(1, 1), padding='valid', data_format=None,\n",
    "  #    dilation_rate=(1, 1), activation=None, use_bias=True,\n",
    "  #    kernel_initializer='glorot_uniform', bias_initializer='zeros',\n",
    "  #    kernel_regularizer=None, bias_regularizer=None, activity_regularizer=None,\n",
    "  #    kernel_constraint=None, bias_constraint=None, **kwargs\n",
    "  #)\n",
    "  #tf.keras.layers.ReLU(\n",
    "  #    max_value=None, negative_slope=0, threshold=0, **kwargs\n",
    "  #)\n",
    "  #tf.keras.layers.MaxPool2D(\n",
    "  #    pool_size=(2, 2), strides=None, padding='valid', data_format=None, **kwargs\n",
    "  #)\n",
    "  # NOTA: padding = 'valid' -> no padding,  = 'same' -> padding aggiunto per non \n",
    "  # ridurre la size dell'immagine dopo lapplicazione del filtro\n",
    "\n",
    "  #\n",
    "  # primo blocco Convoluzionale\n",
    "  x = keras.layers.Conv2D(32, kernel_size=(3,3), name='Conv_1')(x)\n",
    "  x = layer_with_activation(f'{activation}_1', x)\n",
    "  x = keras.layers.MaxPool2D((2,2), name='MaxPool_1')(x)\n",
    "\n",
    "  # secondo blocco convoluzionale\n",
    "  x = keras.layers.Conv2D(64, kernel_size=(3,3), name='Conv_2')(x)\n",
    "  x = layer_with_activation(f'{activation}_2', x)\n",
    "  x = keras.layers.MaxPool2D((2,2), name='MaxPool_2')(x)\n",
    "\n",
    "  # terzo blocco convoluzionale (non applichiamo il maxpooling per non ridurre \n",
    "  # troppo la dimensione dell'output x)\n",
    "  x = keras.layers.Conv2D(64, kernel_size=(3,3), name='Conv_3')(x)\n",
    "  x = layer_with_activation(f'{activation}_3', x)\n",
    "\n",
    "  # appiattimento del tensore x di uscita dell'ultimo layer convoluzionale in un \n",
    "  # vettore piatto come input per la rete densa\n",
    "\n",
    "  x = keras.layers.Flatten(name='Flatten')(x)\n",
    "\n",
    "  # rete densa: 2 layer hidden densi da 256 neuroni con attivazione ReLU + 1 \n",
    "  # layer di uscita costituito da 1 neurone con funzione di attivazione lineare\n",
    "  # che produce in output la stima della temperatura associata alla configurazione\n",
    "  # in input\n",
    "\n",
    "  # Layer denso in Keras\n",
    "  #tf.keras.layers.Dense(\n",
    "  #    units, activation=None, use_bias=True, kernel_initializer='glorot_uniform',\n",
    "  #    bias_initializer='zeros', kernel_regularizer=None, bias_regularizer=None,\n",
    "  #    activity_regularizer=None, kernel_constraint=None, bias_constraint=None,\n",
    "  #    **kwargs\n",
    "  #)\n",
    "  x = keras.layers.Dense(256, name='Dense_1')(x)\n",
    "  x = layer_with_activation(f'{activation}_dense_1', x)\n",
    "  x = keras.layers.Dense(256, name='Dense_2')(x)\n",
    "  x = layer_with_activation(f'{activation}_dense_2', x)\n",
    "  outputs = keras.layers.Dense(1, name='Output')(x)\n",
    "  return outputs\n",
    "\n",
    "outputs = output_from_input(inputs)\n",
    "#definizione del modello\n",
    "model = keras.Model(inputs=inputs, outputs=outputs, name='ising_CNN')\n",
    "\n",
    "#printout il summary del modello\n",
    "model.summary()\n",
    "\n",
    "# struttura el modello\n",
    "keras.utils.plot_model(model, show_shapes=True)"
   ]
  },
  {
   "cell_type": "code",
   "execution_count": 0,
   "metadata": {
    "colab": {},
    "colab_type": "code",
    "id": "Hftzjnpg1tWG"
   },
   "outputs": [],
   "source": [
    "#Compilazione del Modello\n",
    "\n",
    "# Definizione dei parametri di training del modello:\n",
    "# * Loss function: \n",
    "# * Optimizer:\n",
    "# * Metric: \n",
    "\n",
    "# Parametri:\n",
    "\n",
    "# learning rate per Adam\n",
    "LR_ST=1e-3\n",
    "\n",
    "# Ottimizzatore: \n",
    "#adam: adaptive moment estimation (SGD con learning adattivo del gradiente e \n",
    "# del momento secondo + momentum )\n",
    "#tf.keras.optimizers.Adam(\n",
    "#    learning_rate=0.001, beta_1=0.9, beta_2=0.999, epsilon=1e-07, amsgrad=False,\n",
    "#    name='Adam', **kwargs\n",
    "#)\n",
    "\n",
    "OPTIMIZER = tf.keras.optimizers.Adam(learning_rate=LR_ST)\n",
    "\n",
    "# Loss function:\n",
    "# siamo interessati ad una task di regressione: una loss appropriata è la MSE\n",
    "# (mean squared error) che minimizza la distanza quadratica tra predizione \n",
    "# della rete e target = 1/N sum (y_pred - t_true)^2\n",
    "# loss: mse\n",
    "\n",
    "mse = tf.keras.losses.MeanSquaredError()\n",
    "\n",
    "# Metrica:\n",
    "# visto che la MSE viene monitorata come loss, può essere utile monitorare la \n",
    "# MAE (mean absolute error) = 1/N sum |y_pred - t_true|\n",
    "# metric: mae\n",
    "\n",
    "mae = tf.keras.metrics.MeanAbsoluteError()\n",
    "\n",
    "# Eagerly RUN:\n",
    "# di default Tensorflow ottimizza in modo spinto il modello che abbiamo progettato\n",
    "# e trasforma il modello in un grafo diretto acicliclo computazionale altamente \n",
    "# ottimizzato per girare nel minor tempo possibile. Questo significa che non è \n",
    "# il codice python che abbiamo scritto sopra ad essere in realtà esegeuito. Questo\n",
    "# può creare difficoltà con il debugging se ci sono problemi. Se sidesidera \n",
    "# eseguire esattamente il python scritto basta settare run_eagerly=True. Il prezzo\n",
    "# da pagare è una esecuzioen estremamente più lenta (is usa solo in debug) \n",
    "\n",
    "EAGERLY = False\n",
    "\n",
    "model.compile(optimizer=OPTIMIZER,\n",
    "              loss=mse,\n",
    "              metrics=[mae],\n",
    "              run_eagerly=EAGERLY)"
   ]
  },
  {
   "cell_type": "code",
   "execution_count": 0,
   "metadata": {
    "colab": {
     "base_uri": "https://localhost:8080/",
     "height": 1000
    },
    "colab_type": "code",
    "id": "K0bO7uCd1tWN",
    "outputId": "261ebc80-4da9-4c1a-ee90-7684f2954d5d",
    "scrolled": false
   },
   "outputs": [
    {
     "name": "stdout",
     "output_type": "stream",
     "text": [
      "Epoch 1/30\n",
      "50/50 [==============================] - 1s 19ms/step - loss: 0.6108 - mean_absolute_error: 0.5752 - val_loss: 0.2322 - val_mean_absolute_error: 0.4137\n",
      "Epoch 2/30\n",
      "50/50 [==============================] - 1s 14ms/step - loss: 0.2191 - mean_absolute_error: 0.3962 - val_loss: 0.1925 - val_mean_absolute_error: 0.3685\n",
      "Epoch 3/30\n",
      "50/50 [==============================] - 1s 14ms/step - loss: 0.1983 - mean_absolute_error: 0.3695 - val_loss: 0.1928 - val_mean_absolute_error: 0.3569\n",
      "Epoch 4/30\n",
      "50/50 [==============================] - 1s 13ms/step - loss: 0.1628 - mean_absolute_error: 0.3293 - val_loss: 0.1488 - val_mean_absolute_error: 0.3126\n",
      "Epoch 5/30\n",
      "50/50 [==============================] - 1s 13ms/step - loss: 0.1348 - mean_absolute_error: 0.2966 - val_loss: 0.1332 - val_mean_absolute_error: 0.2981\n",
      "Epoch 6/30\n",
      "50/50 [==============================] - 1s 13ms/step - loss: 0.1266 - mean_absolute_error: 0.2857 - val_loss: 0.1296 - val_mean_absolute_error: 0.2898\n",
      "Epoch 7/30\n",
      "50/50 [==============================] - 1s 14ms/step - loss: 0.1356 - mean_absolute_error: 0.2921 - val_loss: 0.1337 - val_mean_absolute_error: 0.2914\n",
      "Epoch 8/30\n",
      "50/50 [==============================] - 1s 14ms/step - loss: 0.1254 - mean_absolute_error: 0.2821 - val_loss: 0.1096 - val_mean_absolute_error: 0.2671\n",
      "Epoch 9/30\n",
      "50/50 [==============================] - 1s 13ms/step - loss: 0.1260 - mean_absolute_error: 0.2789 - val_loss: 0.1204 - val_mean_absolute_error: 0.2773\n",
      "Epoch 10/30\n",
      "50/50 [==============================] - 1s 15ms/step - loss: 0.1102 - mean_absolute_error: 0.2615 - val_loss: 0.0997 - val_mean_absolute_error: 0.2482\n",
      "Epoch 11/30\n",
      "50/50 [==============================] - 1s 15ms/step - loss: 0.1094 - mean_absolute_error: 0.2591 - val_loss: 0.0987 - val_mean_absolute_error: 0.2440\n",
      "Epoch 12/30\n",
      "50/50 [==============================] - 1s 15ms/step - loss: 0.0981 - mean_absolute_error: 0.2443 - val_loss: 0.1264 - val_mean_absolute_error: 0.2745\n",
      "Epoch 13/30\n",
      "50/50 [==============================] - 1s 15ms/step - loss: 0.1015 - mean_absolute_error: 0.2474 - val_loss: 0.1170 - val_mean_absolute_error: 0.2702\n",
      "Epoch 14/30\n",
      "50/50 [==============================] - 1s 15ms/step - loss: 0.0919 - mean_absolute_error: 0.2340 - val_loss: 0.0899 - val_mean_absolute_error: 0.2321\n",
      "Epoch 15/30\n",
      "50/50 [==============================] - 1s 15ms/step - loss: 0.0838 - mean_absolute_error: 0.2241 - val_loss: 0.0874 - val_mean_absolute_error: 0.2276\n",
      "Epoch 16/30\n",
      "50/50 [==============================] - 1s 15ms/step - loss: 0.0840 - mean_absolute_error: 0.2229 - val_loss: 0.0896 - val_mean_absolute_error: 0.2273\n",
      "Epoch 17/30\n",
      "50/50 [==============================] - 1s 15ms/step - loss: 0.0858 - mean_absolute_error: 0.2249 - val_loss: 0.0949 - val_mean_absolute_error: 0.2346\n",
      "Epoch 18/30\n",
      "50/50 [==============================] - 1s 15ms/step - loss: 0.0808 - mean_absolute_error: 0.2191 - val_loss: 0.0939 - val_mean_absolute_error: 0.2392\n",
      "Epoch 19/30\n",
      "50/50 [==============================] - 1s 14ms/step - loss: 0.0840 - mean_absolute_error: 0.2219 - val_loss: 0.0923 - val_mean_absolute_error: 0.2308\n",
      "Epoch 20/30\n",
      "50/50 [==============================] - 1s 14ms/step - loss: 0.0849 - mean_absolute_error: 0.2240 - val_loss: 0.0871 - val_mean_absolute_error: 0.2257\n",
      "Epoch 21/30\n",
      "50/50 [==============================] - 1s 15ms/step - loss: 0.0822 - mean_absolute_error: 0.2204 - val_loss: 0.0956 - val_mean_absolute_error: 0.2360\n",
      "Epoch 22/30\n",
      "50/50 [==============================] - 1s 18ms/step - loss: 0.0709 - mean_absolute_error: 0.2037 - val_loss: 0.0947 - val_mean_absolute_error: 0.2322\n",
      "Epoch 23/30\n",
      "50/50 [==============================] - 1s 15ms/step - loss: 0.0686 - mean_absolute_error: 0.2006 - val_loss: 0.0898 - val_mean_absolute_error: 0.2289\n",
      "Epoch 24/30\n",
      "50/50 [==============================] - 1s 16ms/step - loss: 0.0761 - mean_absolute_error: 0.2121 - val_loss: 0.1229 - val_mean_absolute_error: 0.2722\n",
      "Epoch 25/30\n",
      "50/50 [==============================] - 1s 15ms/step - loss: 0.0654 - mean_absolute_error: 0.1953 - val_loss: 0.0873 - val_mean_absolute_error: 0.2232\n",
      "Epoch 26/30\n",
      "50/50 [==============================] - 1s 15ms/step - loss: 0.0610 - mean_absolute_error: 0.1889 - val_loss: 0.0964 - val_mean_absolute_error: 0.2327\n",
      "Epoch 27/30\n",
      "50/50 [==============================] - 1s 15ms/step - loss: 0.0617 - mean_absolute_error: 0.1892 - val_loss: 0.0932 - val_mean_absolute_error: 0.2314\n",
      "Epoch 28/30\n",
      "50/50 [==============================] - 1s 15ms/step - loss: 0.0646 - mean_absolute_error: 0.1949 - val_loss: 0.0892 - val_mean_absolute_error: 0.2246\n",
      "Epoch 29/30\n",
      "50/50 [==============================] - 1s 15ms/step - loss: 0.0559 - mean_absolute_error: 0.1801 - val_loss: 0.0933 - val_mean_absolute_error: 0.2295\n",
      "Epoch 30/30\n",
      "50/50 [==============================] - 1s 15ms/step - loss: 0.0519 - mean_absolute_error: 0.1729 - val_loss: 0.0909 - val_mean_absolute_error: 0.2267\n"
     ]
    }
   ],
   "source": [
    "# TRAINING\n",
    "\n",
    "# Parametr: frazione eventi validation set, batch size, numero epoche, ...\n",
    "\n",
    "# Callbacks:\n",
    "# tramite le callbacks possiamo interagire durante il run-time con il modello.\n",
    "# Per esempio possiamo modificare il larnign rate facendolo decadere (diminuire) \n",
    "# nel tempo, o possiamo dire al modello di salvare i pesi ad ogni epoca o quando \n",
    "# la validation loss raggiunge il suo valore minimo etc..\n",
    "# Le callback vengono chiamate all'inizio di ogni epoca o all'inizio di ogni \n",
    "# mini-batch a seconda dello scopo ...\n",
    "\n",
    "# callback per avere un leraning rate variabile\n",
    "\n",
    "# callback per salvare il modello (solo i pesi in queto caso) ad ogni epoca\n",
    "model_checkpoint = keras.callbacks.ModelCheckpoint(\n",
    "        filepath='mycnn_{epoch}',\n",
    "        save_weights_only=True, \n",
    "        save_freq='epoch')\n",
    "\n",
    "# metto tutte le callback in una lista\n",
    "#callbacks = [ lr_scheduler, model_checkpoint ]\n",
    "callbacks = [ \n",
    "  model_checkpoint, \n",
    "  #lr_scheduler,\n",
    "]\n",
    "    \n",
    "\n",
    "history = model.fit(X_train, Y_train, epochs=30, batch_size=128,\n",
    "                    validation_split=0.2, shuffle=True, verbose=1,\n",
    "                    callbacks=callbacks)"
   ]
  },
  {
   "cell_type": "code",
   "execution_count": 0,
   "metadata": {
    "colab": {},
    "colab_type": "code",
    "id": "5KEHFaFdM-ab"
   },
   "outputs": [],
   "source": [
    "model.load_weights(\"mycnn_29\")\n",
    "model.save(\"/content/drive/My Drive/Colab Notebooks/mycnn_29.hdf5\")"
   ]
  },
  {
   "cell_type": "code",
   "execution_count": 0,
   "metadata": {
    "colab": {},
    "colab_type": "code",
    "id": "bOZrLOmDezxu"
   },
   "outputs": [],
   "source": [
    "# model = keras.models.load_model(\"/content/drive/My Drive/Colab Notebooks/mycnn_29.hdf5\")"
   ]
  },
  {
   "cell_type": "code",
   "execution_count": 0,
   "metadata": {
    "colab": {
     "base_uri": "https://localhost:8080/",
     "height": 109
    },
    "colab_type": "code",
    "id": "PSz-HOwB1tWQ",
    "outputId": "d60c1496-93cb-4b67-c783-45fdfc8675dd",
    "scrolled": false
   },
   "outputs": [
    {
     "name": "stdout",
     "output_type": "stream",
     "text": [
      "63/63 - 0s - loss: 0.0945 - mean_absolute_error: 0.2320\n",
      "\n",
      "Test loss (MSE): 0.09447386860847473\n",
      "\n",
      "Test MAE: 0.23198005557060242\n"
     ]
    }
   ],
   "source": [
    "#checks accuracy and loss on test sample\n",
    "\n",
    "test_loss, test_mae = model.evaluate(X_test,  Y_test, verbose=2)\n",
    "print('\\nTest loss (MSE):', test_loss)\n",
    "print('\\nTest MAE:', test_mae)"
   ]
  },
  {
   "cell_type": "code",
   "execution_count": 0,
   "metadata": {
    "colab": {
     "base_uri": "https://localhost:8080/",
     "height": 499
    },
    "colab_type": "code",
    "id": "pKAJwwZDyj8T",
    "outputId": "d1b81c6d-b77e-40d3-95ef-b5d7e3f89cc9"
   },
   "outputs": [
    {
     "data": {
      "image/png": "[encoded data removed]",
      "text/plain": [
       "<Figure size 576x576 with 2 Axes>"
      ]
     },
     "metadata": {
      "needs_background": "light",
      "tags": []
     },
     "output_type": "display_data"
    }
   ],
   "source": [
    "#plot della loss e della MAE durante il training\n",
    "def plot_history(history):\n",
    "  train_mae = history.history['mean_absolute_error']\n",
    "  val_mae = history.history['val_mean_absolute_error']\n",
    "\n",
    "  loss=history.history['loss']\n",
    "  val_loss=history.history['val_loss']\n",
    "\n",
    "  epochs_range = range(1, len(loss) + 1)\n",
    "\n",
    "  plt.figure(figsize=(8, 8))\n",
    "  plt.subplot(1, 2, 1)\n",
    "  plt.plot(epochs_range, train_mae, label='Training MAE')\n",
    "  plt.plot(epochs_range, val_mae, label='Validation MAE')\n",
    "  plt.legend(loc='lower right')\n",
    "  plt.title('Training and Validation MAE')\n",
    "\n",
    "  plt.subplot(1, 2, 2)\n",
    "  plt.plot(epochs_range, loss, label='Training Loss')\n",
    "  plt.plot(epochs_range, val_loss, label='Validation Loss')\n",
    "  plt.legend(loc='upper right')\n",
    "  plt.title('Training and Validation Loss')\n",
    "  plt.show()\n",
    "plot_history(history)"
   ]
  },
  {
   "cell_type": "code",
   "execution_count": 0,
   "metadata": {
    "colab": {
     "base_uri": "https://localhost:8080/",
     "height": 220
    },
    "colab_type": "code",
    "id": "eAyBO93d1tWY",
    "outputId": "1e9a1e6a-2d61-44ee-96c8-0e760333b139"
   },
   "outputs": [
    {
     "name": "stdout",
     "output_type": "stream",
     "text": [
      "Predicted vs True T: 3.110633 VS 3.114210 Diff= -0.003577\n",
      "Predicted vs True T: 1.720218 VS 1.887960 Diff= -0.167742\n",
      "Predicted vs True T: 2.939954 VS 2.701660 Diff= 0.238294\n",
      "Predicted vs True T: 1.547025 VS 1.556840 Diff= -0.009815\n",
      "Predicted vs True T: 3.484708 VS 3.394530 Diff= 0.090178\n",
      "Predicted vs True T: 2.940617 VS 2.890170 Diff= 0.050447\n",
      "Predicted vs True T: 3.946446 VS 4.469660 Diff= -0.523213\n",
      "Predicted vs True T: 1.830429 VS 1.596210 Diff= 0.234219\n",
      "Predicted vs True T: 2.369776 VS 2.215780 Diff= 0.153996\n",
      "Predicted vs True T: 4.278232 VS 4.072530 Diff= 0.205702\n",
      "Sample MAE:  [0.16771834]\n"
     ]
    }
   ],
   "source": [
    "#esempio uso della rete in predizione\n",
    "\n",
    "predictions = model.predict(X_test[:10,:])\n",
    "\n",
    "average_abs_diff = 0.0\n",
    "for i in range(predictions.shape[0]):\n",
    "  print('Predicted vs True T: %f VS %f Diff= %f' % (predictions[i],Y_test[i],predictions[i]-Y_test[i] ))\n",
    "  average_abs_diff = average_abs_diff + abs(predictions[i]-Y_test[i])\n",
    "\n",
    "print('Sample MAE: ', average_abs_diff/10.)"
   ]
  },
  {
   "cell_type": "code",
   "execution_count": 0,
   "metadata": {
    "colab": {
     "base_uri": "https://localhost:8080/",
     "height": 35
    },
    "colab_type": "code",
    "id": "t2l-EoxV6SYo",
    "outputId": "d42cf718-891a-44d2-c352-963f8089a0ef"
   },
   "outputs": [
    {
     "name": "stdout",
     "output_type": "stream",
     "text": [
      "Accuracy is:  0.9795\n"
     ]
    }
   ],
   "source": [
    "#Vediamo l'accuracy della rete usata come classificatore per selezionare configurazioni con T><Tc\n",
    "def classify(model, X_test, Y_test, T_c):\n",
    "  T_c=2.26 # Temperatura critica\n",
    "\n",
    "  # predizioni della CNN sull'intero campione di Test\n",
    "  predictions = model.predict(X_test)\n",
    "\n",
    "\n",
    "  # conto i casi in cui la T predetta e la T true sono emtrambe <T_c o >= T_c\n",
    "  N_ord_corrette = 0 \n",
    "  N_dis_corrette = 0\n",
    "  N_all = 0\n",
    "  for i in range(predictions.shape[0]):\n",
    "    if ((predictions[i] < T_c) & (Y_test[i] < T_c)):\n",
    "      N_ord_corrette = N_ord_corrette + 1\n",
    "    if ((predictions[i] >= T_c) & (Y_test[i] >= T_c)):\n",
    "      N_dis_corrette = N_dis_corrette + 1\n",
    "\n",
    "  N_all = Y_test.shape[0]   \n",
    "\n",
    "  accuracy = (N_ord_corrette+N_dis_corrette)/N_all\n",
    "  print('Accuracy is: ', accuracy)\n",
    "\n",
    "classify(model, X_test, Y_test, 2.26)"
   ]
  },
  {
   "cell_type": "markdown",
   "metadata": {
    "colab_type": "text",
    "id": "ESIv6brL3ysy"
   },
   "source": [
    "# **Compiti:** \n",
    "\n",
    "1.   ripetere il training attivando la call-back del learning rate con decay e valutare se ci sono miglioramenti\n",
    "2.   ripetere il training attivando il layer con data-augmentation e valutare se ci sono miglioramenti\n",
    "3.   provate a usare funzioni di attivazione diverse da ReLU: *keras.layers.Activation('tanh'), keras.layers.LeakyReLU(), keras.layers.ELU()*, ...\n",
    "3.   provare ad implementare una semplice procedura di ottimizzazione degli iperparametri usando Keras Tuner (vedi istruzioni nel blocco successivo)\n",
    "4.   provare ad inserire nella rete *batch normalisation* layers prima dei layer ReLu (vedi spiegazione e istruzioni alla fine del notebook)"
   ]
  },
  {
   "cell_type": "markdown",
   "metadata": {
    "colab_type": "text",
    "id": "-p8YrougiDO1"
   },
   "source": [
    "# Exponential learning rate decay"
   ]
  },
  {
   "cell_type": "markdown",
   "metadata": {
    "colab_type": "text",
    "id": "XEW49rTCYhiR"
   },
   "source": [
    "Definisco una funzione (riutilizzabile per gli altri casi) che crea il modello, lo allena e ne verifica le prestazioni. "
   ]
  },
  {
   "cell_type": "code",
   "execution_count": 0,
   "metadata": {
    "colab": {},
    "colab_type": "code",
    "id": "7qOZJpOMfvNx"
   },
   "outputs": [],
   "source": [
    "def create_model_and_train(\n",
    "    X_train, X_test, Y_train, Y_test, \n",
    "    optional_callbacks, **kwargs\n",
    "):\n",
    "  outputs = output_from_input(inputs, **kwargs)\n",
    "  #definizione del modello\n",
    "  model = keras.Model(inputs=inputs, outputs=outputs, name='ising_CNN')\n",
    "\n",
    "  #printout il summary del modello\n",
    "  model.summary()\n",
    "\n",
    "  # struttura el modello\n",
    "  keras.utils.plot_model(model, show_shapes=True)\n",
    "\n",
    "  OPTIMIZER = tf.keras.optimizers.Adam(learning_rate=LR_ST)\n",
    "  mse = tf.keras.losses.MeanSquaredError()\n",
    "  mae = tf.keras.metrics.MeanAbsoluteError()\n",
    "\n",
    "  model.compile(\n",
    "      optimizer=OPTIMIZER,\n",
    "      loss=mse,\n",
    "      metrics=[mae]\n",
    ")\n",
    "\n",
    "  model_checkpoint = keras.callbacks.ModelCheckpoint(\n",
    "    \"best_model.hdf5\", monitor='val_loss', verbose=1,\n",
    "    save_weights_only=True,\n",
    "    save_best_only=True, mode='auto', save_freq=\"epoch\")\n",
    "\n",
    "  callbacks = [model_checkpoint] + optional_callbacks\n",
    "  history = model.fit(X_train, Y_train, epochs=30, batch_size=128,\n",
    "                      validation_split=0.2, shuffle=True, verbose=2,\n",
    "                      callbacks=callbacks)\n",
    "\n",
    "  model.load_weights(\"best_model.hdf5\")\n",
    "  test_loss, test_mae = model.evaluate(X_test, Y_test, verbose=2)\n",
    "  print('\\nTest loss (MSE):', test_loss)\n",
    "  print('\\nTest MAE:', test_mae)\n",
    "  plot_history(history)\n",
    "  classify(model, X_test, Y_test, 2.26)\n",
    "  return (history, model)"
   ]
  },
  {
   "cell_type": "markdown",
   "metadata": {
    "colab_type": "text",
    "id": "jO7HFFInYyeG"
   },
   "source": [
    "Alleno la rete con learning rate decay esponenziale (dalla 10° epoca)."
   ]
  },
  {
   "cell_type": "code",
   "execution_count": 0,
   "metadata": {
    "colab": {
     "base_uri": "https://localhost:8080/",
     "height": 1000
    },
    "colab_type": "code",
    "id": "O4nxNim2noEQ",
    "outputId": "2e489c66-838b-4d61-e8b1-67f1cf19a9fd"
   },
   "outputs": [
    {
     "name": "stdout",
     "output_type": "stream",
     "text": [
      "Model: \"ising_CNN\"\n",
      "_________________________________________________________________\n",
      "Layer (type)                 Output Shape              Param #   \n",
      "=================================================================\n",
      "input_1 (InputLayer)         [(None, 28, 28, 1)]       0         \n",
      "_________________________________________________________________\n",
      "Conv_1 (Conv2D)              (None, 26, 26, 32)        320       \n",
      "_________________________________________________________________\n",
      "relu_1 (ReLU)                (None, 26, 26, 32)        0         \n",
      "_________________________________________________________________\n",
      "MaxPool_1 (MaxPooling2D)     (None, 13, 13, 32)        0         \n",
      "_________________________________________________________________\n",
      "Conv_2 (Conv2D)              (None, 11, 11, 64)        18496     \n",
      "_________________________________________________________________\n",
      "relu_2 (ReLU)                (None, 11, 11, 64)        0         \n",
      "_________________________________________________________________\n",
      "MaxPool_2 (MaxPooling2D)     (None, 5, 5, 64)          0         \n",
      "_________________________________________________________________\n",
      "Conv_3 (Conv2D)              (None, 3, 3, 64)          36928     \n",
      "_________________________________________________________________\n",
      "relu_3 (ReLU)                (None, 3, 3, 64)          0         \n",
      "_________________________________________________________________\n",
      "Flatten (Flatten)            (None, 576)               0         \n",
      "_________________________________________________________________\n",
      "Dense_1 (Dense)              (None, 256)               147712    \n",
      "_________________________________________________________________\n",
      "relu_dense_1 (ReLU)          (None, 256)               0         \n",
      "_________________________________________________________________\n",
      "Dense_2 (Dense)              (None, 256)               65792     \n",
      "_________________________________________________________________\n",
      "relu_dense_2 (ReLU)          (None, 256)               0         \n",
      "_________________________________________________________________\n",
      "Output (Dense)               (None, 1)                 257       \n",
      "=================================================================\n",
      "Total params: 269,505\n",
      "Trainable params: 269,505\n",
      "Non-trainable params: 0\n",
      "_________________________________________________________________\n",
      "learning rate: 0.001\n",
      "Epoch 1/30\n",
      "\n",
      "Epoch 00001: val_loss improved from inf to 0.24180, saving model to best_model.hdf5\n",
      "50/50 - 1s - loss: 0.7141 - mean_absolute_error: 0.5919 - val_loss: 0.2418 - val_mean_absolute_error: 0.4177 - lr: 0.0010\n",
      "learning rate: 0.001\n",
      "Epoch 2/30\n",
      "\n",
      "Epoch 00002: val_loss improved from 0.24180 to 0.19826, saving model to best_model.hdf5\n",
      "50/50 - 1s - loss: 0.2245 - mean_absolute_error: 0.4027 - val_loss: 0.1983 - val_mean_absolute_error: 0.3757 - lr: 0.0010\n",
      "learning rate: 0.001\n",
      "Epoch 3/30\n",
      "\n",
      "Epoch 00003: val_loss improved from 0.19826 to 0.15673, saving model to best_model.hdf5\n",
      "50/50 - 1s - loss: 0.1749 - mean_absolute_error: 0.3475 - val_loss: 0.1567 - val_mean_absolute_error: 0.3233 - lr: 0.0010\n",
      "learning rate: 0.001\n",
      "Epoch 4/30\n",
      "\n",
      "Epoch 00004: val_loss improved from 0.15673 to 0.15050, saving model to best_model.hdf5\n",
      "50/50 - 1s - loss: 0.1451 - mean_absolute_error: 0.3091 - val_loss: 0.1505 - val_mean_absolute_error: 0.3138 - lr: 0.0010\n",
      "learning rate: 0.001\n",
      "Epoch 5/30\n",
      "\n",
      "Epoch 00005: val_loss improved from 0.15050 to 0.12697, saving model to best_model.hdf5\n",
      "50/50 - 1s - loss: 0.1321 - mean_absolute_error: 0.2938 - val_loss: 0.1270 - val_mean_absolute_error: 0.2866 - lr: 0.0010\n",
      "learning rate: 0.001\n",
      "Epoch 6/30\n",
      "\n",
      "Epoch 00006: val_loss improved from 0.12697 to 0.10630, saving model to best_model.hdf5\n",
      "50/50 - 1s - loss: 0.1244 - mean_absolute_error: 0.2810 - val_loss: 0.1063 - val_mean_absolute_error: 0.2569 - lr: 0.0010\n",
      "learning rate: 0.001\n",
      "Epoch 7/30\n",
      "\n",
      "Epoch 00007: val_loss improved from 0.10630 to 0.10173, saving model to best_model.hdf5\n",
      "50/50 - 1s - loss: 0.1084 - mean_absolute_error: 0.2596 - val_loss: 0.1017 - val_mean_absolute_error: 0.2488 - lr: 0.0010\n",
      "learning rate: 0.001\n",
      "Epoch 8/30\n",
      "\n",
      "Epoch 00008: val_loss did not improve from 0.10173\n",
      "50/50 - 1s - loss: 0.1024 - mean_absolute_error: 0.2496 - val_loss: 0.1019 - val_mean_absolute_error: 0.2469 - lr: 0.0010\n",
      "learning rate: 0.001\n",
      "Epoch 9/30\n",
      "\n",
      "Epoch 00009: val_loss did not improve from 0.10173\n",
      "50/50 - 1s - loss: 0.1021 - mean_absolute_error: 0.2493 - val_loss: 0.1271 - val_mean_absolute_error: 0.2771 - lr: 0.0010\n",
      "learning rate: 0.001\n",
      "Epoch 10/30\n",
      "\n",
      "Epoch 00010: val_loss improved from 0.10173 to 0.09142, saving model to best_model.hdf5\n",
      "50/50 - 1s - loss: 0.1016 - mean_absolute_error: 0.2480 - val_loss: 0.0914 - val_mean_absolute_error: 0.2343 - lr: 0.0010\n",
      "learning rate: 0.0010000000474974513\n",
      "Epoch 11/30\n",
      "\n",
      "Epoch 00011: val_loss did not improve from 0.09142\n",
      "50/50 - 1s - loss: 0.0886 - mean_absolute_error: 0.2325 - val_loss: 0.0975 - val_mean_absolute_error: 0.2429 - lr: 0.0010\n",
      "learning rate: 0.0008187307976186275\n",
      "Epoch 12/30\n",
      "\n",
      "Epoch 00012: val_loss did not improve from 0.09142\n",
      "50/50 - 1s - loss: 0.0871 - mean_absolute_error: 0.2291 - val_loss: 0.1026 - val_mean_absolute_error: 0.2403 - lr: 8.1873e-04\n",
      "learning rate: 0.0006703200633637607\n",
      "Epoch 13/30\n",
      "\n",
      "Epoch 00013: val_loss did not improve from 0.09142\n",
      "50/50 - 1s - loss: 0.0851 - mean_absolute_error: 0.2258 - val_loss: 0.0966 - val_mean_absolute_error: 0.2347 - lr: 6.7032e-04\n",
      "learning rate: 0.0005488116294145584\n",
      "Epoch 14/30\n",
      "\n",
      "Epoch 00014: val_loss improved from 0.09142 to 0.08477, saving model to best_model.hdf5\n",
      "50/50 - 1s - loss: 0.0806 - mean_absolute_error: 0.2197 - val_loss: 0.0848 - val_mean_absolute_error: 0.2221 - lr: 5.4881e-04\n",
      "learning rate: 0.0004493289743550122\n",
      "Epoch 15/30\n",
      "\n",
      "Epoch 00015: val_loss did not improve from 0.08477\n",
      "50/50 - 1s - loss: 0.0788 - mean_absolute_error: 0.2162 - val_loss: 0.0978 - val_mean_absolute_error: 0.2404 - lr: 4.4933e-04\n",
      "learning rate: 0.00036787946010008454\n",
      "Epoch 16/30\n",
      "\n",
      "Epoch 00016: val_loss improved from 0.08477 to 0.08451, saving model to best_model.hdf5\n",
      "50/50 - 1s - loss: 0.0859 - mean_absolute_error: 0.2262 - val_loss: 0.0845 - val_mean_absolute_error: 0.2209 - lr: 3.6788e-04\n",
      "learning rate: 0.0003011942026205361\n",
      "Epoch 17/30\n",
      "\n",
      "Epoch 00017: val_loss did not improve from 0.08451\n",
      "50/50 - 1s - loss: 0.0745 - mean_absolute_error: 0.2101 - val_loss: 0.0947 - val_mean_absolute_error: 0.2363 - lr: 3.0119e-04\n",
      "learning rate: 0.0002465969882905483\n",
      "Epoch 18/30\n",
      "\n",
      "Epoch 00018: val_loss improved from 0.08451 to 0.08165, saving model to best_model.hdf5\n",
      "50/50 - 1s - loss: 0.0716 - mean_absolute_error: 0.2058 - val_loss: 0.0816 - val_mean_absolute_error: 0.2161 - lr: 2.4660e-04\n",
      "learning rate: 0.00020189651695545763\n",
      "Epoch 19/30\n",
      "\n",
      "Epoch 00019: val_loss did not improve from 0.08165\n",
      "50/50 - 1s - loss: 0.0703 - mean_absolute_error: 0.2037 - val_loss: 0.0890 - val_mean_absolute_error: 0.2294 - lr: 2.0190e-04\n",
      "learning rate: 0.00016529890126548707\n",
      "Epoch 20/30\n",
      "\n",
      "Epoch 00020: val_loss did not improve from 0.08165\n",
      "50/50 - 1s - loss: 0.0707 - mean_absolute_error: 0.2044 - val_loss: 0.0823 - val_mean_absolute_error: 0.2168 - lr: 1.6530e-04\n",
      "learning rate: 0.00013533528544940054\n",
      "Epoch 21/30\n",
      "\n",
      "Epoch 00021: val_loss did not improve from 0.08165\n",
      "50/50 - 1s - loss: 0.0700 - mean_absolute_error: 0.2031 - val_loss: 0.0833 - val_mean_absolute_error: 0.2180 - lr: 1.3534e-04\n",
      "learning rate: 0.00011080315744038671\n",
      "Epoch 22/30\n",
      "\n",
      "Epoch 00022: val_loss did not improve from 0.08165\n",
      "50/50 - 1s - loss: 0.0687 - mean_absolute_error: 0.2010 - val_loss: 0.0866 - val_mean_absolute_error: 0.2258 - lr: 1.1080e-04\n",
      "learning rate: 9.071794920600951e-05\n",
      "Epoch 23/30\n",
      "\n",
      "Epoch 00023: val_loss did not improve from 0.08165\n",
      "50/50 - 1s - loss: 0.0679 - mean_absolute_error: 0.1997 - val_loss: 0.0850 - val_mean_absolute_error: 0.2190 - lr: 9.0718e-05\n",
      "learning rate: 7.4273586506024e-05\n",
      "Epoch 24/30\n",
      "\n",
      "Epoch 00024: val_loss improved from 0.08165 to 0.08107, saving model to best_model.hdf5\n",
      "50/50 - 1s - loss: 0.0679 - mean_absolute_error: 0.1998 - val_loss: 0.0811 - val_mean_absolute_error: 0.2151 - lr: 7.4274e-05\n",
      "learning rate: 6.081006722524762e-05\n",
      "Epoch 25/30\n",
      "\n",
      "Epoch 00025: val_loss did not improve from 0.08107\n",
      "50/50 - 1s - loss: 0.0671 - mean_absolute_error: 0.1985 - val_loss: 0.0816 - val_mean_absolute_error: 0.2171 - lr: 6.0810e-05\n",
      "learning rate: 4.978706783731468e-05\n",
      "Epoch 26/30\n",
      "\n",
      "Epoch 00026: val_loss improved from 0.08107 to 0.08070, saving model to best_model.hdf5\n",
      "50/50 - 1s - loss: 0.0664 - mean_absolute_error: 0.1977 - val_loss: 0.0807 - val_mean_absolute_error: 0.2152 - lr: 4.9787e-05\n",
      "learning rate: 4.076220284332521e-05\n",
      "Epoch 27/30\n",
      "\n",
      "Epoch 00027: val_loss did not improve from 0.08070\n",
      "50/50 - 1s - loss: 0.0659 - mean_absolute_error: 0.1972 - val_loss: 0.0812 - val_mean_absolute_error: 0.2157 - lr: 4.0762e-05\n",
      "learning rate: 3.3373267797287554e-05\n",
      "Epoch 28/30\n",
      "\n",
      "Epoch 00028: val_loss did not improve from 0.08070\n",
      "50/50 - 1s - loss: 0.0654 - mean_absolute_error: 0.1960 - val_loss: 0.0814 - val_mean_absolute_error: 0.2167 - lr: 3.3373e-05\n",
      "learning rate: 2.7323725589667447e-05\n",
      "Epoch 29/30\n",
      "\n",
      "Epoch 00029: val_loss did not improve from 0.08070\n",
      "50/50 - 1s - loss: 0.0654 - mean_absolute_error: 0.1961 - val_loss: 0.0807 - val_mean_absolute_error: 0.2152 - lr: 2.7324e-05\n",
      "learning rate: 2.2370773876900785e-05\n",
      "Epoch 30/30\n",
      "\n",
      "Epoch 00030: val_loss improved from 0.08070 to 0.08061, saving model to best_model.hdf5\n",
      "50/50 - 1s - loss: 0.0652 - mean_absolute_error: 0.1956 - val_loss: 0.0806 - val_mean_absolute_error: 0.2150 - lr: 2.2371e-05\n",
      "63/63 - 0s - loss: 0.0798 - mean_absolute_error: 0.2152\n",
      "\n",
      "Test loss (MSE): 0.07977040857076645\n",
      "\n",
      "Test MAE: 0.21523430943489075\n"
     ]
    },
    {
     "data": {
      "image/png": "[encoded data removed]",
      "text/plain": [
       "<Figure size 576x576 with 2 Axes>"
      ]
     },
     "metadata": {
      "needs_background": "light",
      "tags": []
     },
     "output_type": "display_data"
    },
    {
     "name": "stdout",
     "output_type": "stream",
     "text": [
      "Accuracy is:  0.9795\n"
     ]
    },
    {
     "data": {
      "text/plain": [
       "(<tensorflow.python.keras.callbacks.History at 0x7fc2f102a828>,\n",
       " <tensorflow.python.keras.engine.training.Model at 0x7fc2f0022668>)"
      ]
     },
     "execution_count": 19,
     "metadata": {
      "tags": []
     },
     "output_type": "execute_result"
    }
   ],
   "source": [
    "LR_ST = 1e-3\n",
    "# Definisco una funzione che mantiene il learning rate costante a LR_ST per le \n",
    "# prime 10 epoche e poi lo diminuisce esponenzialmente\n",
    "def lr_decay(epoch):\n",
    "  if epoch < 10:\n",
    "    eta = LR_ST\n",
    "  else:\n",
    "    eta = LR_ST * tf.math.exp(0.2 * (10 - epoch))\n",
    "  print(f\"learning rate: {float(eta)}\")\n",
    "  return eta\n",
    "\n",
    "lr_scheduler = keras.callbacks.LearningRateScheduler(lr_decay)\n",
    "\n",
    "create_model_and_train(*data, [lr_scheduler])"
   ]
  },
  {
   "cell_type": "markdown",
   "metadata": {
    "colab_type": "text",
    "id": "dVKwNiBqvSsS"
   },
   "source": [
    "Le prestazioni sono leggermente migliorate. Si può notare dal grafico di MAE e loss come gli andamenti siano diventati asintoticamente piatti. Ritengo che effettuando un tuning sulla costante di decadimento e sull'epoca dalla quale si modifica il learning rate si possano migliorare sensibilmente le prestazioni."
   ]
  },
  {
   "cell_type": "markdown",
   "metadata": {
    "colab_type": "text",
    "id": "ZqOTA__OZ8TB"
   },
   "source": []
  },
  {
   "cell_type": "markdown",
   "metadata": {
    "colab_type": "text",
    "id": "mOdED3YTiIV_"
   },
   "source": [
    "# Data Augmentation"
   ]
  },
  {
   "cell_type": "markdown",
   "metadata": {
    "colab_type": "text",
    "id": "1H1ZDl0VZbo1"
   },
   "source": [
    "Alleno la rete con una *data augmentation* consistente in scambi casuali di righe e colonne delle configurazioni. "
   ]
  },
  {
   "cell_type": "code",
   "execution_count": 0,
   "metadata": {
    "colab": {
     "base_uri": "https://localhost:8080/",
     "height": 1000
    },
    "colab_type": "code",
    "id": "tn748Pjhhccl",
    "outputId": "3faba828-428f-4ba4-ff15-539425fbb7d3"
   },
   "outputs": [
    {
     "name": "stdout",
     "output_type": "stream",
     "text": [
      "Model: \"ising_CNN\"\n",
      "_________________________________________________________________\n",
      "Layer (type)                 Output Shape              Param #   \n",
      "=================================================================\n",
      "input_1 (InputLayer)         [(None, 28, 28, 1)]       0         \n",
      "_________________________________________________________________\n",
      "DataAugm (Sequential)        (None, 28, 28, 1)         0         \n",
      "_________________________________________________________________\n",
      "Conv_1 (Conv2D)              (None, 26, 26, 32)        320       \n",
      "_________________________________________________________________\n",
      "relu_1 (ReLU)                (None, 26, 26, 32)        0         \n",
      "_________________________________________________________________\n",
      "MaxPool_1 (MaxPooling2D)     (None, 13, 13, 32)        0         \n",
      "_________________________________________________________________\n",
      "Conv_2 (Conv2D)              (None, 11, 11, 64)        18496     \n",
      "_________________________________________________________________\n",
      "relu_2 (ReLU)                (None, 11, 11, 64)        0         \n",
      "_________________________________________________________________\n",
      "MaxPool_2 (MaxPooling2D)     (None, 5, 5, 64)          0         \n",
      "_________________________________________________________________\n",
      "Conv_3 (Conv2D)              (None, 3, 3, 64)          36928     \n",
      "_________________________________________________________________\n",
      "relu_3 (ReLU)                (None, 3, 3, 64)          0         \n",
      "_________________________________________________________________\n",
      "Flatten (Flatten)            (None, 576)               0         \n",
      "_________________________________________________________________\n",
      "Dense_1 (Dense)              (None, 256)               147712    \n",
      "_________________________________________________________________\n",
      "relu_dense_1 (ReLU)          (None, 256)               0         \n",
      "_________________________________________________________________\n",
      "Dense_2 (Dense)              (None, 256)               65792     \n",
      "_________________________________________________________________\n",
      "relu_dense_2 (ReLU)          (None, 256)               0         \n",
      "_________________________________________________________________\n",
      "Output (Dense)               (None, 1)                 257       \n",
      "=================================================================\n",
      "Total params: 269,505\n",
      "Trainable params: 269,505\n",
      "Non-trainable params: 0\n",
      "_________________________________________________________________\n",
      "Epoch 1/30\n",
      "\n",
      "Epoch 00001: val_loss improved from inf to 0.25102, saving model to best_model.hdf5\n",
      "50/50 - 1s - loss: 0.8704 - mean_absolute_error: 0.6530 - val_loss: 0.2510 - val_mean_absolute_error: 0.4267\n",
      "Epoch 2/30\n",
      "\n",
      "Epoch 00002: val_loss improved from 0.25102 to 0.22938, saving model to best_model.hdf5\n",
      "50/50 - 1s - loss: 0.2497 - mean_absolute_error: 0.4254 - val_loss: 0.2294 - val_mean_absolute_error: 0.4115\n",
      "Epoch 3/30\n",
      "\n",
      "Epoch 00003: val_loss improved from 0.22938 to 0.22713, saving model to best_model.hdf5\n",
      "50/50 - 1s - loss: 0.2334 - mean_absolute_error: 0.4108 - val_loss: 0.2271 - val_mean_absolute_error: 0.4039\n",
      "Epoch 4/30\n",
      "\n",
      "Epoch 00004: val_loss improved from 0.22713 to 0.18180, saving model to best_model.hdf5\n",
      "50/50 - 1s - loss: 0.2014 - mean_absolute_error: 0.3797 - val_loss: 0.1818 - val_mean_absolute_error: 0.3512\n",
      "Epoch 5/30\n",
      "\n",
      "Epoch 00005: val_loss improved from 0.18180 to 0.15567, saving model to best_model.hdf5\n",
      "50/50 - 1s - loss: 0.1675 - mean_absolute_error: 0.3379 - val_loss: 0.1557 - val_mean_absolute_error: 0.3187\n",
      "Epoch 6/30\n",
      "\n",
      "Epoch 00006: val_loss did not improve from 0.15567\n",
      "50/50 - 1s - loss: 0.1501 - mean_absolute_error: 0.3130 - val_loss: 0.1614 - val_mean_absolute_error: 0.3182\n",
      "Epoch 7/30\n",
      "\n",
      "Epoch 00007: val_loss improved from 0.15567 to 0.11442, saving model to best_model.hdf5\n",
      "50/50 - 1s - loss: 0.1346 - mean_absolute_error: 0.2930 - val_loss: 0.1144 - val_mean_absolute_error: 0.2707\n",
      "Epoch 8/30\n",
      "\n",
      "Epoch 00008: val_loss did not improve from 0.11442\n",
      "50/50 - 1s - loss: 0.1132 - mean_absolute_error: 0.2663 - val_loss: 0.1284 - val_mean_absolute_error: 0.2836\n",
      "Epoch 9/30\n",
      "\n",
      "Epoch 00009: val_loss improved from 0.11442 to 0.10688, saving model to best_model.hdf5\n",
      "50/50 - 1s - loss: 0.1121 - mean_absolute_error: 0.2628 - val_loss: 0.1069 - val_mean_absolute_error: 0.2567\n",
      "Epoch 10/30\n",
      "\n",
      "Epoch 00010: val_loss did not improve from 0.10688\n",
      "50/50 - 1s - loss: 0.1166 - mean_absolute_error: 0.2681 - val_loss: 0.1120 - val_mean_absolute_error: 0.2686\n",
      "Epoch 11/30\n",
      "\n",
      "Epoch 00011: val_loss did not improve from 0.10688\n",
      "50/50 - 1s - loss: 0.1093 - mean_absolute_error: 0.2608 - val_loss: 0.1164 - val_mean_absolute_error: 0.2668\n",
      "Epoch 12/30\n",
      "\n",
      "Epoch 00012: val_loss improved from 0.10688 to 0.10200, saving model to best_model.hdf5\n",
      "50/50 - 1s - loss: 0.1097 - mean_absolute_error: 0.2587 - val_loss: 0.1020 - val_mean_absolute_error: 0.2498\n",
      "Epoch 13/30\n",
      "\n",
      "Epoch 00013: val_loss improved from 0.10200 to 0.09521, saving model to best_model.hdf5\n",
      "50/50 - 1s - loss: 0.0990 - mean_absolute_error: 0.2445 - val_loss: 0.0952 - val_mean_absolute_error: 0.2395\n",
      "Epoch 14/30\n",
      "\n",
      "Epoch 00014: val_loss did not improve from 0.09521\n",
      "50/50 - 1s - loss: 0.1116 - mean_absolute_error: 0.2582 - val_loss: 0.1074 - val_mean_absolute_error: 0.2505\n",
      "Epoch 15/30\n",
      "\n",
      "Epoch 00015: val_loss improved from 0.09521 to 0.08723, saving model to best_model.hdf5\n",
      "50/50 - 1s - loss: 0.0949 - mean_absolute_error: 0.2383 - val_loss: 0.0872 - val_mean_absolute_error: 0.2263\n",
      "Epoch 16/30\n",
      "\n",
      "Epoch 00016: val_loss did not improve from 0.08723\n",
      "50/50 - 1s - loss: 0.0962 - mean_absolute_error: 0.2403 - val_loss: 0.0885 - val_mean_absolute_error: 0.2317\n",
      "Epoch 17/30\n",
      "\n",
      "Epoch 00017: val_loss improved from 0.08723 to 0.08515, saving model to best_model.hdf5\n",
      "50/50 - 1s - loss: 0.0971 - mean_absolute_error: 0.2400 - val_loss: 0.0851 - val_mean_absolute_error: 0.2254\n",
      "Epoch 18/30\n",
      "\n",
      "Epoch 00018: val_loss did not improve from 0.08515\n",
      "50/50 - 1s - loss: 0.0895 - mean_absolute_error: 0.2302 - val_loss: 0.0933 - val_mean_absolute_error: 0.2320\n",
      "Epoch 19/30\n",
      "\n",
      "Epoch 00019: val_loss did not improve from 0.08515\n",
      "50/50 - 1s - loss: 0.1002 - mean_absolute_error: 0.2440 - val_loss: 0.0939 - val_mean_absolute_error: 0.2412\n",
      "Epoch 20/30\n",
      "\n",
      "Epoch 00020: val_loss did not improve from 0.08515\n",
      "50/50 - 1s - loss: 0.0907 - mean_absolute_error: 0.2317 - val_loss: 0.0905 - val_mean_absolute_error: 0.2302\n",
      "Epoch 21/30\n",
      "\n",
      "Epoch 00021: val_loss improved from 0.08515 to 0.08454, saving model to best_model.hdf5\n",
      "50/50 - 1s - loss: 0.0866 - mean_absolute_error: 0.2255 - val_loss: 0.0845 - val_mean_absolute_error: 0.2204\n",
      "Epoch 22/30\n",
      "\n",
      "Epoch 00022: val_loss improved from 0.08454 to 0.08447, saving model to best_model.hdf5\n",
      "50/50 - 1s - loss: 0.0865 - mean_absolute_error: 0.2264 - val_loss: 0.0845 - val_mean_absolute_error: 0.2271\n",
      "Epoch 23/30\n",
      "\n",
      "Epoch 00023: val_loss did not improve from 0.08447\n",
      "50/50 - 1s - loss: 0.0886 - mean_absolute_error: 0.2292 - val_loss: 0.0876 - val_mean_absolute_error: 0.2241\n",
      "Epoch 24/30\n",
      "\n",
      "Epoch 00024: val_loss did not improve from 0.08447\n",
      "50/50 - 1s - loss: 0.0860 - mean_absolute_error: 0.2244 - val_loss: 0.1319 - val_mean_absolute_error: 0.2823\n",
      "Epoch 25/30\n",
      "\n",
      "Epoch 00025: val_loss improved from 0.08447 to 0.08128, saving model to best_model.hdf5\n",
      "50/50 - 1s - loss: 0.0859 - mean_absolute_error: 0.2242 - val_loss: 0.0813 - val_mean_absolute_error: 0.2161\n",
      "Epoch 26/30\n",
      "\n",
      "Epoch 00026: val_loss did not improve from 0.08128\n",
      "50/50 - 1s - loss: 0.0810 - mean_absolute_error: 0.2180 - val_loss: 0.0959 - val_mean_absolute_error: 0.2390\n",
      "Epoch 27/30\n",
      "\n",
      "Epoch 00027: val_loss improved from 0.08128 to 0.08120, saving model to best_model.hdf5\n",
      "50/50 - 1s - loss: 0.0968 - mean_absolute_error: 0.2371 - val_loss: 0.0812 - val_mean_absolute_error: 0.2169\n",
      "Epoch 28/30\n",
      "\n",
      "Epoch 00028: val_loss improved from 0.08120 to 0.08032, saving model to best_model.hdf5\n",
      "50/50 - 1s - loss: 0.0786 - mean_absolute_error: 0.2162 - val_loss: 0.0803 - val_mean_absolute_error: 0.2182\n",
      "Epoch 29/30\n",
      "\n",
      "Epoch 00029: val_loss did not improve from 0.08032\n",
      "50/50 - 1s - loss: 0.0835 - mean_absolute_error: 0.2218 - val_loss: 0.0910 - val_mean_absolute_error: 0.2349\n",
      "Epoch 30/30\n",
      "\n",
      "Epoch 00030: val_loss did not improve from 0.08032\n",
      "50/50 - 1s - loss: 0.0825 - mean_absolute_error: 0.2186 - val_loss: 0.0850 - val_mean_absolute_error: 0.2235\n",
      "63/63 - 0s - loss: 0.0803 - mean_absolute_error: 0.2190\n",
      "\n",
      "Test loss (MSE): 0.08026628941297531\n",
      "\n",
      "Test MAE: 0.21895620226860046\n"
     ]
    },
    {
     "data": {
      "image/png": "[encoded data removed]",
      "text/plain": [
       "<Figure size 576x576 with 2 Axes>"
      ]
     },
     "metadata": {
      "needs_background": "light",
      "tags": []
     },
     "output_type": "display_data"
    },
    {
     "name": "stdout",
     "output_type": "stream",
     "text": [
      "Accuracy is:  0.9785\n"
     ]
    },
    {
     "data": {
      "text/plain": [
       "(<tensorflow.python.keras.callbacks.History at 0x7fc2f04da9b0>,\n",
       " <tensorflow.python.keras.engine.training.Model at 0x7fc2f04fe588>)"
      ]
     },
     "execution_count": 20,
     "metadata": {
      "tags": []
     },
     "output_type": "execute_result"
    }
   ],
   "source": [
    "create_model_and_train(*data, [], data_augment=True)"
   ]
  },
  {
   "cell_type": "markdown",
   "metadata": {
    "colab_type": "text",
    "id": "4ZRXES-IvxjX"
   },
   "source": [
    "Si ha ancora un miglioramento rispetto alla baseline, seppure inferiore al caso precedente. Si nota inoltre una riduzione significativa del gap di generalizzazione, dovuto alla *data augmentation*."
   ]
  },
  {
   "cell_type": "markdown",
   "metadata": {
    "colab_type": "text",
    "id": "ZmjPNaUhlLZ9"
   },
   "source": [
    "# Altre funzioni di attivazione"
   ]
  },
  {
   "cell_type": "markdown",
   "metadata": {
    "colab_type": "text",
    "id": "n4XDIPO6aFJy"
   },
   "source": [
    "Alleno la rete con funzione di attivazione *Leaky ReLu*."
   ]
  },
  {
   "cell_type": "code",
   "execution_count": 0,
   "metadata": {
    "colab": {
     "base_uri": "https://localhost:8080/",
     "height": 1000
    },
    "colab_type": "code",
    "id": "bzFm3NEtlNpB",
    "outputId": "cd537cb7-e320-4bb3-c02b-f7c6f56a8997"
   },
   "outputs": [
    {
     "name": "stdout",
     "output_type": "stream",
     "text": [
      "Model: \"ising_CNN\"\n",
      "_________________________________________________________________\n",
      "Layer (type)                 Output Shape              Param #   \n",
      "=================================================================\n",
      "input_1 (InputLayer)         [(None, 28, 28, 1)]       0         \n",
      "_________________________________________________________________\n",
      "Conv_1 (Conv2D)              (None, 26, 26, 32)        320       \n",
      "_________________________________________________________________\n",
      "l_relu_1 (LeakyReLU)         (None, 26, 26, 32)        0         \n",
      "_________________________________________________________________\n",
      "MaxPool_1 (MaxPooling2D)     (None, 13, 13, 32)        0         \n",
      "_________________________________________________________________\n",
      "Conv_2 (Conv2D)              (None, 11, 11, 64)        18496     \n",
      "_________________________________________________________________\n",
      "l_relu_2 (LeakyReLU)         (None, 11, 11, 64)        0         \n",
      "_________________________________________________________________\n",
      "MaxPool_2 (MaxPooling2D)     (None, 5, 5, 64)          0         \n",
      "_________________________________________________________________\n",
      "Conv_3 (Conv2D)              (None, 3, 3, 64)          36928     \n",
      "_________________________________________________________________\n",
      "l_relu_3 (LeakyReLU)         (None, 3, 3, 64)          0         \n",
      "_________________________________________________________________\n",
      "Flatten (Flatten)            (None, 576)               0         \n",
      "_________________________________________________________________\n",
      "Dense_1 (Dense)              (None, 256)               147712    \n",
      "_________________________________________________________________\n",
      "l_relu_dense_1 (LeakyReLU)   (None, 256)               0         \n",
      "_________________________________________________________________\n",
      "Dense_2 (Dense)              (None, 256)               65792     \n",
      "_________________________________________________________________\n",
      "l_relu_dense_2 (LeakyReLU)   (None, 256)               0         \n",
      "_________________________________________________________________\n",
      "Output (Dense)               (None, 1)                 257       \n",
      "=================================================================\n",
      "Total params: 269,505\n",
      "Trainable params: 269,505\n",
      "Non-trainable params: 0\n",
      "_________________________________________________________________\n",
      "Epoch 1/30\n",
      "\n",
      "Epoch 00001: val_loss improved from inf to 0.27320, saving model to best_model.hdf5\n",
      "50/50 - 1s - loss: 0.5976 - mean_absolute_error: 0.5600 - val_loss: 0.2732 - val_mean_absolute_error: 0.4304\n",
      "Epoch 2/30\n",
      "\n",
      "Epoch 00002: val_loss improved from 0.27320 to 0.17699, saving model to best_model.hdf5\n",
      "50/50 - 1s - loss: 0.2167 - mean_absolute_error: 0.3889 - val_loss: 0.1770 - val_mean_absolute_error: 0.3517\n",
      "Epoch 3/30\n",
      "\n",
      "Epoch 00003: val_loss improved from 0.17699 to 0.16296, saving model to best_model.hdf5\n",
      "50/50 - 1s - loss: 0.1627 - mean_absolute_error: 0.3284 - val_loss: 0.1630 - val_mean_absolute_error: 0.3220\n",
      "Epoch 4/30\n",
      "\n",
      "Epoch 00004: val_loss improved from 0.16296 to 0.11625, saving model to best_model.hdf5\n",
      "50/50 - 1s - loss: 0.1306 - mean_absolute_error: 0.2883 - val_loss: 0.1162 - val_mean_absolute_error: 0.2744\n",
      "Epoch 5/30\n",
      "\n",
      "Epoch 00005: val_loss improved from 0.11625 to 0.10968, saving model to best_model.hdf5\n",
      "50/50 - 1s - loss: 0.1409 - mean_absolute_error: 0.2961 - val_loss: 0.1097 - val_mean_absolute_error: 0.2657\n",
      "Epoch 6/30\n",
      "\n",
      "Epoch 00006: val_loss improved from 0.10968 to 0.10067, saving model to best_model.hdf5\n",
      "50/50 - 1s - loss: 0.1097 - mean_absolute_error: 0.2605 - val_loss: 0.1007 - val_mean_absolute_error: 0.2504\n",
      "Epoch 7/30\n",
      "\n",
      "Epoch 00007: val_loss improved from 0.10067 to 0.09257, saving model to best_model.hdf5\n",
      "50/50 - 1s - loss: 0.0997 - mean_absolute_error: 0.2472 - val_loss: 0.0926 - val_mean_absolute_error: 0.2392\n",
      "Epoch 8/30\n",
      "\n",
      "Epoch 00008: val_loss did not improve from 0.09257\n",
      "50/50 - 1s - loss: 0.0927 - mean_absolute_error: 0.2368 - val_loss: 0.1291 - val_mean_absolute_error: 0.2819\n",
      "Epoch 9/30\n",
      "\n",
      "Epoch 00009: val_loss did not improve from 0.09257\n",
      "50/50 - 1s - loss: 0.0934 - mean_absolute_error: 0.2378 - val_loss: 0.1358 - val_mean_absolute_error: 0.2866\n",
      "Epoch 10/30\n",
      "\n",
      "Epoch 00010: val_loss did not improve from 0.09257\n",
      "50/50 - 1s - loss: 0.0991 - mean_absolute_error: 0.2441 - val_loss: 0.1122 - val_mean_absolute_error: 0.2679\n",
      "Epoch 11/30\n",
      "\n",
      "Epoch 00011: val_loss did not improve from 0.09257\n",
      "50/50 - 1s - loss: 0.0834 - mean_absolute_error: 0.2242 - val_loss: 0.1000 - val_mean_absolute_error: 0.2443\n",
      "Epoch 12/30\n",
      "\n",
      "Epoch 00012: val_loss did not improve from 0.09257\n",
      "50/50 - 1s - loss: 0.0877 - mean_absolute_error: 0.2282 - val_loss: 0.1174 - val_mean_absolute_error: 0.2567\n",
      "Epoch 13/30\n",
      "\n",
      "Epoch 00013: val_loss did not improve from 0.09257\n",
      "50/50 - 1s - loss: 0.0818 - mean_absolute_error: 0.2219 - val_loss: 0.0959 - val_mean_absolute_error: 0.2328\n",
      "Epoch 14/30\n",
      "\n",
      "Epoch 00014: val_loss improved from 0.09257 to 0.08770, saving model to best_model.hdf5\n",
      "50/50 - 1s - loss: 0.0690 - mean_absolute_error: 0.2031 - val_loss: 0.0877 - val_mean_absolute_error: 0.2268\n",
      "Epoch 15/30\n",
      "\n",
      "Epoch 00015: val_loss did not improve from 0.08770\n",
      "50/50 - 1s - loss: 0.0697 - mean_absolute_error: 0.2043 - val_loss: 0.1117 - val_mean_absolute_error: 0.2565\n",
      "Epoch 16/30\n",
      "\n",
      "Epoch 00016: val_loss did not improve from 0.08770\n",
      "50/50 - 1s - loss: 0.0721 - mean_absolute_error: 0.2088 - val_loss: 0.0890 - val_mean_absolute_error: 0.2280\n",
      "Epoch 17/30\n",
      "\n",
      "Epoch 00017: val_loss did not improve from 0.08770\n",
      "50/50 - 1s - loss: 0.0614 - mean_absolute_error: 0.1911 - val_loss: 0.1232 - val_mean_absolute_error: 0.2617\n",
      "Epoch 18/30\n",
      "\n",
      "Epoch 00018: val_loss did not improve from 0.08770\n",
      "50/50 - 1s - loss: 0.0619 - mean_absolute_error: 0.1921 - val_loss: 0.1044 - val_mean_absolute_error: 0.2437\n",
      "Epoch 19/30\n",
      "\n",
      "Epoch 00019: val_loss did not improve from 0.08770\n",
      "50/50 - 1s - loss: 0.0557 - mean_absolute_error: 0.1799 - val_loss: 0.0960 - val_mean_absolute_error: 0.2383\n",
      "Epoch 20/30\n",
      "\n",
      "Epoch 00020: val_loss did not improve from 0.08770\n",
      "50/50 - 1s - loss: 0.0550 - mean_absolute_error: 0.1797 - val_loss: 0.1026 - val_mean_absolute_error: 0.2416\n",
      "Epoch 21/30\n",
      "\n",
      "Epoch 00021: val_loss did not improve from 0.08770\n",
      "50/50 - 1s - loss: 0.0563 - mean_absolute_error: 0.1825 - val_loss: 0.1003 - val_mean_absolute_error: 0.2449\n",
      "Epoch 22/30\n",
      "\n",
      "Epoch 00022: val_loss did not improve from 0.08770\n",
      "50/50 - 1s - loss: 0.0472 - mean_absolute_error: 0.1656 - val_loss: 0.1049 - val_mean_absolute_error: 0.2450\n",
      "Epoch 23/30\n",
      "\n",
      "Epoch 00023: val_loss did not improve from 0.08770\n",
      "50/50 - 1s - loss: 0.0440 - mean_absolute_error: 0.1572 - val_loss: 0.1001 - val_mean_absolute_error: 0.2391\n",
      "Epoch 24/30\n",
      "\n",
      "Epoch 00024: val_loss did not improve from 0.08770\n",
      "50/50 - 1s - loss: 0.0388 - mean_absolute_error: 0.1454 - val_loss: 0.1223 - val_mean_absolute_error: 0.2618\n",
      "Epoch 25/30\n",
      "\n",
      "Epoch 00025: val_loss did not improve from 0.08770\n",
      "50/50 - 1s - loss: 0.0380 - mean_absolute_error: 0.1440 - val_loss: 0.1060 - val_mean_absolute_error: 0.2437\n",
      "Epoch 26/30\n",
      "\n",
      "Epoch 00026: val_loss did not improve from 0.08770\n",
      "50/50 - 1s - loss: 0.0383 - mean_absolute_error: 0.1443 - val_loss: 0.1081 - val_mean_absolute_error: 0.2469\n",
      "Epoch 27/30\n",
      "\n",
      "Epoch 00027: val_loss did not improve from 0.08770\n",
      "50/50 - 1s - loss: 0.0355 - mean_absolute_error: 0.1364 - val_loss: 0.1115 - val_mean_absolute_error: 0.2507\n",
      "Epoch 28/30\n",
      "\n",
      "Epoch 00028: val_loss did not improve from 0.08770\n",
      "50/50 - 1s - loss: 0.0380 - mean_absolute_error: 0.1443 - val_loss: 0.1256 - val_mean_absolute_error: 0.2638\n",
      "Epoch 29/30\n",
      "\n",
      "Epoch 00029: val_loss did not improve from 0.08770\n",
      "50/50 - 1s - loss: 0.0370 - mean_absolute_error: 0.1407 - val_loss: 0.1044 - val_mean_absolute_error: 0.2422\n",
      "Epoch 30/30\n",
      "\n",
      "Epoch 00030: val_loss did not improve from 0.08770\n",
      "50/50 - 1s - loss: 0.0329 - mean_absolute_error: 0.1293 - val_loss: 0.1077 - val_mean_absolute_error: 0.2449\n",
      "63/63 - 0s - loss: 0.0852 - mean_absolute_error: 0.2230\n",
      "\n",
      "Test loss (MSE): 0.08521220088005066\n",
      "\n",
      "Test MAE: 0.22295857965946198\n"
     ]
    },
    {
     "data": {
      "image/png": "[encoded data removed]",
      "text/plain": [
       "<Figure size 576x576 with 2 Axes>"
      ]
     },
     "metadata": {
      "needs_background": "light",
      "tags": []
     },
     "output_type": "display_data"
    },
    {
     "name": "stdout",
     "output_type": "stream",
     "text": [
      "Accuracy is:  0.977\n"
     ]
    },
    {
     "data": {
      "text/plain": [
       "(<tensorflow.python.keras.callbacks.History at 0x7fc2f012c630>,\n",
       " <tensorflow.python.keras.engine.training.Model at 0x7fc2f02c0240>)"
      ]
     },
     "execution_count": 21,
     "metadata": {
      "tags": []
     },
     "output_type": "execute_result"
    }
   ],
   "source": [
    "create_model_and_train(*data, [], activation=\"l_relu\")"
   ]
  },
  {
   "cell_type": "markdown",
   "metadata": {
    "colab_type": "text",
    "id": "vX3PJQLVv5AZ"
   },
   "source": [
    "Si nota come con la *Leaky ReLu* l'errore di validazione cominci a crescere prima, si ha quindi overfitting precoce."
   ]
  },
  {
   "cell_type": "code",
   "execution_count": 0,
   "metadata": {
    "colab": {
     "base_uri": "https://localhost:8080/",
     "height": 1000
    },
    "colab_type": "code",
    "id": "4Dtv7buKuEGy",
    "outputId": "a96621b1-8280-4884-8ac0-fa5da34623cf"
   },
   "outputs": [
    {
     "name": "stdout",
     "output_type": "stream",
     "text": [
      "Model: \"ising_CNN\"\n",
      "_________________________________________________________________\n",
      "Layer (type)                 Output Shape              Param #   \n",
      "=================================================================\n",
      "input_1 (InputLayer)         [(None, 28, 28, 1)]       0         \n",
      "_________________________________________________________________\n",
      "Conv_1 (Conv2D)              (None, 26, 26, 32)        320       \n",
      "_________________________________________________________________\n",
      "elu_1 (ELU)                  (None, 26, 26, 32)        0         \n",
      "_________________________________________________________________\n",
      "MaxPool_1 (MaxPooling2D)     (None, 13, 13, 32)        0         \n",
      "_________________________________________________________________\n",
      "Conv_2 (Conv2D)              (None, 11, 11, 64)        18496     \n",
      "_________________________________________________________________\n",
      "elu_2 (ELU)                  (None, 11, 11, 64)        0         \n",
      "_________________________________________________________________\n",
      "MaxPool_2 (MaxPooling2D)     (None, 5, 5, 64)          0         \n",
      "_________________________________________________________________\n",
      "Conv_3 (Conv2D)              (None, 3, 3, 64)          36928     \n",
      "_________________________________________________________________\n",
      "elu_3 (ELU)                  (None, 3, 3, 64)          0         \n",
      "_________________________________________________________________\n",
      "Flatten (Flatten)            (None, 576)               0         \n",
      "_________________________________________________________________\n",
      "Dense_1 (Dense)              (None, 256)               147712    \n",
      "_________________________________________________________________\n",
      "elu_dense_1 (ELU)            (None, 256)               0         \n",
      "_________________________________________________________________\n",
      "Dense_2 (Dense)              (None, 256)               65792     \n",
      "_________________________________________________________________\n",
      "elu_dense_2 (ELU)            (None, 256)               0         \n",
      "_________________________________________________________________\n",
      "Output (Dense)               (None, 1)                 257       \n",
      "=================================================================\n",
      "Total params: 269,505\n",
      "Trainable params: 269,505\n",
      "Non-trainable params: 0\n",
      "_________________________________________________________________\n",
      "Epoch 1/30\n",
      "\n",
      "Epoch 00001: val_loss improved from inf to 0.23142, saving model to best_model.hdf5\n",
      "50/50 - 1s - loss: 0.5821 - mean_absolute_error: 0.5558 - val_loss: 0.2314 - val_mean_absolute_error: 0.4016\n",
      "Epoch 2/30\n",
      "\n",
      "Epoch 00002: val_loss improved from 0.23142 to 0.18703, saving model to best_model.hdf5\n",
      "50/50 - 1s - loss: 0.2056 - mean_absolute_error: 0.3784 - val_loss: 0.1870 - val_mean_absolute_error: 0.3603\n",
      "Epoch 3/30\n",
      "\n",
      "Epoch 00003: val_loss did not improve from 0.18703\n",
      "50/50 - 1s - loss: 0.1748 - mean_absolute_error: 0.3422 - val_loss: 0.1992 - val_mean_absolute_error: 0.3614\n",
      "Epoch 4/30\n",
      "\n",
      "Epoch 00004: val_loss improved from 0.18703 to 0.14417, saving model to best_model.hdf5\n",
      "50/50 - 1s - loss: 0.1522 - mean_absolute_error: 0.3153 - val_loss: 0.1442 - val_mean_absolute_error: 0.3063\n",
      "Epoch 5/30\n",
      "\n",
      "Epoch 00005: val_loss did not improve from 0.14417\n",
      "50/50 - 1s - loss: 0.1335 - mean_absolute_error: 0.2925 - val_loss: 0.1675 - val_mean_absolute_error: 0.3151\n",
      "Epoch 6/30\n",
      "\n",
      "Epoch 00006: val_loss did not improve from 0.14417\n",
      "50/50 - 1s - loss: 0.1397 - mean_absolute_error: 0.2976 - val_loss: 0.1726 - val_mean_absolute_error: 0.3341\n",
      "Epoch 7/30\n",
      "\n",
      "Epoch 00007: val_loss improved from 0.14417 to 0.11779, saving model to best_model.hdf5\n",
      "50/50 - 1s - loss: 0.1228 - mean_absolute_error: 0.2767 - val_loss: 0.1178 - val_mean_absolute_error: 0.2709\n",
      "Epoch 8/30\n",
      "\n",
      "Epoch 00008: val_loss improved from 0.11779 to 0.11551, saving model to best_model.hdf5\n",
      "50/50 - 1s - loss: 0.1125 - mean_absolute_error: 0.2663 - val_loss: 0.1155 - val_mean_absolute_error: 0.2728\n",
      "Epoch 9/30\n",
      "\n",
      "Epoch 00009: val_loss improved from 0.11551 to 0.10589, saving model to best_model.hdf5\n",
      "50/50 - 1s - loss: 0.0997 - mean_absolute_error: 0.2484 - val_loss: 0.1059 - val_mean_absolute_error: 0.2606\n",
      "Epoch 10/30\n",
      "\n",
      "Epoch 00010: val_loss did not improve from 0.10589\n",
      "50/50 - 1s - loss: 0.1008 - mean_absolute_error: 0.2499 - val_loss: 0.1105 - val_mean_absolute_error: 0.2635\n",
      "Epoch 11/30\n",
      "\n",
      "Epoch 00011: val_loss improved from 0.10589 to 0.10443, saving model to best_model.hdf5\n",
      "50/50 - 1s - loss: 0.0888 - mean_absolute_error: 0.2344 - val_loss: 0.1044 - val_mean_absolute_error: 0.2541\n",
      "Epoch 12/30\n",
      "\n",
      "Epoch 00012: val_loss did not improve from 0.10443\n",
      "50/50 - 1s - loss: 0.0877 - mean_absolute_error: 0.2329 - val_loss: 0.1080 - val_mean_absolute_error: 0.2642\n",
      "Epoch 13/30\n",
      "\n",
      "Epoch 00013: val_loss did not improve from 0.10443\n",
      "50/50 - 1s - loss: 0.0837 - mean_absolute_error: 0.2275 - val_loss: 0.1290 - val_mean_absolute_error: 0.2713\n",
      "Epoch 14/30\n",
      "\n",
      "Epoch 00014: val_loss did not improve from 0.10443\n",
      "50/50 - 1s - loss: 0.0840 - mean_absolute_error: 0.2261 - val_loss: 0.1200 - val_mean_absolute_error: 0.2788\n",
      "Epoch 15/30\n",
      "\n",
      "Epoch 00015: val_loss did not improve from 0.10443\n",
      "50/50 - 1s - loss: 0.0795 - mean_absolute_error: 0.2204 - val_loss: 0.1250 - val_mean_absolute_error: 0.2744\n",
      "Epoch 16/30\n",
      "\n",
      "Epoch 00016: val_loss did not improve from 0.10443\n",
      "50/50 - 1s - loss: 0.0769 - mean_absolute_error: 0.2176 - val_loss: 0.1061 - val_mean_absolute_error: 0.2587\n",
      "Epoch 17/30\n",
      "\n",
      "Epoch 00017: val_loss did not improve from 0.10443\n",
      "50/50 - 1s - loss: 0.0613 - mean_absolute_error: 0.1931 - val_loss: 0.1054 - val_mean_absolute_error: 0.2526\n",
      "Epoch 18/30\n",
      "\n",
      "Epoch 00018: val_loss did not improve from 0.10443\n",
      "50/50 - 1s - loss: 0.0634 - mean_absolute_error: 0.1956 - val_loss: 0.1212 - val_mean_absolute_error: 0.2747\n",
      "Epoch 19/30\n",
      "\n",
      "Epoch 00019: val_loss did not improve from 0.10443\n",
      "50/50 - 1s - loss: 0.0639 - mean_absolute_error: 0.1980 - val_loss: 0.1098 - val_mean_absolute_error: 0.2588\n",
      "Epoch 20/30\n",
      "\n",
      "Epoch 00020: val_loss did not improve from 0.10443\n",
      "50/50 - 1s - loss: 0.0697 - mean_absolute_error: 0.2058 - val_loss: 0.1086 - val_mean_absolute_error: 0.2587\n",
      "Epoch 21/30\n",
      "\n",
      "Epoch 00021: val_loss did not improve from 0.10443\n",
      "50/50 - 1s - loss: 0.0573 - mean_absolute_error: 0.1857 - val_loss: 0.1206 - val_mean_absolute_error: 0.2647\n",
      "Epoch 22/30\n",
      "\n",
      "Epoch 00022: val_loss did not improve from 0.10443\n",
      "50/50 - 1s - loss: 0.0507 - mean_absolute_error: 0.1731 - val_loss: 0.1135 - val_mean_absolute_error: 0.2576\n",
      "Epoch 23/30\n",
      "\n",
      "Epoch 00023: val_loss did not improve from 0.10443\n",
      "50/50 - 1s - loss: 0.0560 - mean_absolute_error: 0.1789 - val_loss: 0.1195 - val_mean_absolute_error: 0.2661\n",
      "Epoch 24/30\n",
      "\n",
      "Epoch 00024: val_loss did not improve from 0.10443\n",
      "50/50 - 1s - loss: 0.0499 - mean_absolute_error: 0.1719 - val_loss: 0.1453 - val_mean_absolute_error: 0.2928\n",
      "Epoch 25/30\n",
      "\n",
      "Epoch 00025: val_loss did not improve from 0.10443\n",
      "50/50 - 1s - loss: 0.0562 - mean_absolute_error: 0.1834 - val_loss: 0.1182 - val_mean_absolute_error: 0.2631\n",
      "Epoch 26/30\n",
      "\n",
      "Epoch 00026: val_loss did not improve from 0.10443\n",
      "50/50 - 1s - loss: 0.0497 - mean_absolute_error: 0.1722 - val_loss: 0.1142 - val_mean_absolute_error: 0.2582\n",
      "Epoch 27/30\n",
      "\n",
      "Epoch 00027: val_loss did not improve from 0.10443\n",
      "50/50 - 1s - loss: 0.0513 - mean_absolute_error: 0.1718 - val_loss: 0.1186 - val_mean_absolute_error: 0.2646\n",
      "Epoch 28/30\n",
      "\n",
      "Epoch 00028: val_loss did not improve from 0.10443\n",
      "50/50 - 1s - loss: 0.0481 - mean_absolute_error: 0.1620 - val_loss: 0.1227 - val_mean_absolute_error: 0.2722\n",
      "Epoch 29/30\n",
      "\n",
      "Epoch 00029: val_loss did not improve from 0.10443\n",
      "50/50 - 1s - loss: 0.0415 - mean_absolute_error: 0.1520 - val_loss: 0.1132 - val_mean_absolute_error: 0.2570\n",
      "Epoch 30/30\n",
      "\n",
      "Epoch 00030: val_loss did not improve from 0.10443\n",
      "50/50 - 1s - loss: 0.0370 - mean_absolute_error: 0.1404 - val_loss: 0.1160 - val_mean_absolute_error: 0.2568\n",
      "63/63 - 0s - loss: 0.1069 - mean_absolute_error: 0.2556\n",
      "\n",
      "Test loss (MSE): 0.10690513253211975\n",
      "\n",
      "Test MAE: 0.2556278109550476\n"
     ]
    },
    {
     "data": {
      "image/png": "[encoded data removed]",
      "text/plain": [
       "<Figure size 576x576 with 2 Axes>"
      ]
     },
     "metadata": {
      "needs_background": "light",
      "tags": []
     },
     "output_type": "display_data"
    },
    {
     "name": "stdout",
     "output_type": "stream",
     "text": [
      "Accuracy is:  0.9635\n"
     ]
    },
    {
     "data": {
      "text/plain": [
       "(<tensorflow.python.keras.callbacks.History at 0x7fc2f105ce48>,\n",
       " <tensorflow.python.keras.engine.training.Model at 0x7fc2f01ea6d8>)"
      ]
     },
     "execution_count": 22,
     "metadata": {
      "tags": []
     },
     "output_type": "execute_result"
    }
   ],
   "source": [
    "create_model_and_train(*data, [], activation=\"elu\")"
   ]
  },
  {
   "cell_type": "markdown",
   "metadata": {
    "colab_type": "text",
    "id": "W-RUzzUtwL-O"
   },
   "source": [
    "Un fenomeno simile si ha con la *ELu*."
   ]
  },
  {
   "cell_type": "markdown",
   "metadata": {
    "colab_type": "text",
    "id": "uwNIzVEjzjFh"
   },
   "source": [
    "# Batch Normalization"
   ]
  },
  {
   "cell_type": "code",
   "execution_count": 0,
   "metadata": {
    "colab": {
     "base_uri": "https://localhost:8080/",
     "height": 1000
    },
    "colab_type": "code",
    "id": "tG984vUlzl2V",
    "outputId": "a6829343-cb11-4807-f364-1d7db3ecef77"
   },
   "outputs": [
    {
     "name": "stdout",
     "output_type": "stream",
     "text": [
      "Model: \"ising_CNN\"\n",
      "_________________________________________________________________\n",
      "Layer (type)                 Output Shape              Param #   \n",
      "=================================================================\n",
      "input_3 (InputLayer)         [(None, 28, 28, 1)]       0         \n",
      "_________________________________________________________________\n",
      "Conv_1 (Conv2D)              (None, 26, 26, 32)        320       \n",
      "_________________________________________________________________\n",
      "relu_1 (ReLU)                (None, 26, 26, 32)        0         \n",
      "_________________________________________________________________\n",
      "batch_normalization_1 (Batch (None, 26, 26, 32)        128       \n",
      "_________________________________________________________________\n",
      "MaxPool_1 (MaxPooling2D)     (None, 13, 13, 32)        0         \n",
      "_________________________________________________________________\n",
      "Conv_2 (Conv2D)              (None, 11, 11, 64)        18496     \n",
      "_________________________________________________________________\n",
      "relu_2 (ReLU)                (None, 11, 11, 64)        0         \n",
      "_________________________________________________________________\n",
      "batch_normalization_2 (Batch (None, 11, 11, 64)        256       \n",
      "_________________________________________________________________\n",
      "MaxPool_2 (MaxPooling2D)     (None, 5, 5, 64)          0         \n",
      "_________________________________________________________________\n",
      "Conv_3 (Conv2D)              (None, 3, 3, 64)          36928     \n",
      "_________________________________________________________________\n",
      "relu_3 (ReLU)                (None, 3, 3, 64)          0         \n",
      "_________________________________________________________________\n",
      "batch_normalization_3 (Batch (None, 3, 3, 64)          256       \n",
      "_________________________________________________________________\n",
      "Flatten (Flatten)            (None, 576)               0         \n",
      "_________________________________________________________________\n",
      "Dense_1 (Dense)              (None, 256)               147712    \n",
      "_________________________________________________________________\n",
      "relu_dense_1 (ReLU)          (None, 256)               0         \n",
      "_________________________________________________________________\n",
      "batch_normalization_4 (Batch (None, 256)               1024      \n",
      "_________________________________________________________________\n",
      "Dense_2 (Dense)              (None, 256)               65792     \n",
      "_________________________________________________________________\n",
      "relu_dense_2 (ReLU)          (None, 256)               0         \n",
      "_________________________________________________________________\n",
      "batch_normalization_5 (Batch (None, 256)               1024      \n",
      "_________________________________________________________________\n",
      "Output (Dense)               (None, 1)                 257       \n",
      "=================================================================\n",
      "Total params: 272,193\n",
      "Trainable params: 270,849\n",
      "Non-trainable params: 1,344\n",
      "_________________________________________________________________\n",
      "Epoch 1/30\n",
      "\n",
      "Epoch 00001: val_loss improved from inf to 6.41015, saving model to best_model.hdf5\n",
      "50/50 - 1s - loss: 4.9620 - mean_absolute_error: 2.0636 - val_loss: 6.4101 - val_mean_absolute_error: 2.2111\n",
      "Epoch 2/30\n",
      "\n",
      "Epoch 00002: val_loss improved from 6.41015 to 4.51772, saving model to best_model.hdf5\n",
      "50/50 - 1s - loss: 1.2351 - mean_absolute_error: 0.9846 - val_loss: 4.5177 - val_mean_absolute_error: 1.8578\n",
      "Epoch 3/30\n",
      "\n",
      "Epoch 00003: val_loss improved from 4.51772 to 4.16068, saving model to best_model.hdf5\n",
      "50/50 - 1s - loss: 0.1868 - mean_absolute_error: 0.3471 - val_loss: 4.1607 - val_mean_absolute_error: 1.8424\n",
      "Epoch 4/30\n",
      "\n",
      "Epoch 00004: val_loss did not improve from 4.16068\n",
      "50/50 - 1s - loss: 0.1250 - mean_absolute_error: 0.2808 - val_loss: 4.8242 - val_mean_absolute_error: 2.0754\n",
      "Epoch 5/30\n",
      "\n",
      "Epoch 00005: val_loss improved from 4.16068 to 4.03743, saving model to best_model.hdf5\n",
      "50/50 - 1s - loss: 0.1158 - mean_absolute_error: 0.2698 - val_loss: 4.0374 - val_mean_absolute_error: 1.8771\n",
      "Epoch 6/30\n",
      "\n",
      "Epoch 00006: val_loss improved from 4.03743 to 3.17570, saving model to best_model.hdf5\n",
      "50/50 - 1s - loss: 0.1108 - mean_absolute_error: 0.2622 - val_loss: 3.1757 - val_mean_absolute_error: 1.6811\n",
      "Epoch 7/30\n",
      "\n",
      "Epoch 00007: val_loss improved from 3.17570 to 2.97106, saving model to best_model.hdf5\n",
      "50/50 - 1s - loss: 0.0978 - mean_absolute_error: 0.2473 - val_loss: 2.9711 - val_mean_absolute_error: 1.6180\n",
      "Epoch 8/30\n",
      "\n",
      "Epoch 00008: val_loss improved from 2.97106 to 2.27949, saving model to best_model.hdf5\n",
      "50/50 - 1s - loss: 0.0974 - mean_absolute_error: 0.2455 - val_loss: 2.2795 - val_mean_absolute_error: 1.3803\n",
      "Epoch 9/30\n",
      "\n",
      "Epoch 00009: val_loss improved from 2.27949 to 1.36392, saving model to best_model.hdf5\n",
      "50/50 - 1s - loss: 0.0869 - mean_absolute_error: 0.2318 - val_loss: 1.3639 - val_mean_absolute_error: 1.0506\n",
      "Epoch 10/30\n",
      "\n",
      "Epoch 00010: val_loss improved from 1.36392 to 0.92933, saving model to best_model.hdf5\n",
      "50/50 - 1s - loss: 0.0829 - mean_absolute_error: 0.2257 - val_loss: 0.9293 - val_mean_absolute_error: 0.8502\n",
      "Epoch 11/30\n",
      "\n",
      "Epoch 00011: val_loss improved from 0.92933 to 0.52149, saving model to best_model.hdf5\n",
      "50/50 - 1s - loss: 0.0851 - mean_absolute_error: 0.2297 - val_loss: 0.5215 - val_mean_absolute_error: 0.5771\n",
      "Epoch 12/30\n",
      "\n",
      "Epoch 00012: val_loss improved from 0.52149 to 0.46138, saving model to best_model.hdf5\n",
      "50/50 - 1s - loss: 0.0766 - mean_absolute_error: 0.2157 - val_loss: 0.4614 - val_mean_absolute_error: 0.5578\n",
      "Epoch 13/30\n",
      "\n",
      "Epoch 00013: val_loss improved from 0.46138 to 0.37930, saving model to best_model.hdf5\n",
      "50/50 - 1s - loss: 0.0701 - mean_absolute_error: 0.2054 - val_loss: 0.3793 - val_mean_absolute_error: 0.4708\n",
      "Epoch 14/30\n",
      "\n",
      "Epoch 00014: val_loss did not improve from 0.37930\n",
      "50/50 - 1s - loss: 0.0712 - mean_absolute_error: 0.2050 - val_loss: 0.5759 - val_mean_absolute_error: 0.5646\n",
      "Epoch 15/30\n",
      "\n",
      "Epoch 00015: val_loss improved from 0.37930 to 0.28526, saving model to best_model.hdf5\n",
      "50/50 - 1s - loss: 0.0740 - mean_absolute_error: 0.2112 - val_loss: 0.2853 - val_mean_absolute_error: 0.4374\n",
      "Epoch 16/30\n",
      "\n",
      "Epoch 00016: val_loss improved from 0.28526 to 0.24238, saving model to best_model.hdf5\n",
      "50/50 - 1s - loss: 0.0725 - mean_absolute_error: 0.2100 - val_loss: 0.2424 - val_mean_absolute_error: 0.3966\n",
      "Epoch 17/30\n",
      "\n",
      "Epoch 00017: val_loss improved from 0.24238 to 0.12647, saving model to best_model.hdf5\n",
      "50/50 - 1s - loss: 0.0691 - mean_absolute_error: 0.2036 - val_loss: 0.1265 - val_mean_absolute_error: 0.2715\n",
      "Epoch 18/30\n",
      "\n",
      "Epoch 00018: val_loss did not improve from 0.12647\n",
      "50/50 - 1s - loss: 0.0600 - mean_absolute_error: 0.1873 - val_loss: 0.1294 - val_mean_absolute_error: 0.2735\n",
      "Epoch 19/30\n",
      "\n",
      "Epoch 00019: val_loss did not improve from 0.12647\n",
      "50/50 - 1s - loss: 0.0562 - mean_absolute_error: 0.1814 - val_loss: 0.1634 - val_mean_absolute_error: 0.3108\n",
      "Epoch 20/30\n",
      "\n",
      "Epoch 00020: val_loss did not improve from 0.12647\n",
      "50/50 - 1s - loss: 0.0579 - mean_absolute_error: 0.1848 - val_loss: 0.1725 - val_mean_absolute_error: 0.3238\n",
      "Epoch 21/30\n",
      "\n",
      "Epoch 00021: val_loss improved from 0.12647 to 0.12117, saving model to best_model.hdf5\n",
      "50/50 - 1s - loss: 0.0603 - mean_absolute_error: 0.1902 - val_loss: 0.1212 - val_mean_absolute_error: 0.2709\n",
      "Epoch 22/30\n",
      "\n",
      "Epoch 00022: val_loss did not improve from 0.12117\n",
      "50/50 - 1s - loss: 0.0688 - mean_absolute_error: 0.2004 - val_loss: 0.1450 - val_mean_absolute_error: 0.2878\n",
      "Epoch 23/30\n",
      "\n",
      "Epoch 00023: val_loss did not improve from 0.12117\n",
      "50/50 - 1s - loss: 0.0604 - mean_absolute_error: 0.1918 - val_loss: 0.1962 - val_mean_absolute_error: 0.3492\n",
      "Epoch 24/30\n",
      "\n",
      "Epoch 00024: val_loss did not improve from 0.12117\n",
      "50/50 - 1s - loss: 0.0632 - mean_absolute_error: 0.1969 - val_loss: 0.1534 - val_mean_absolute_error: 0.2926\n",
      "Epoch 25/30\n",
      "\n",
      "Epoch 00025: val_loss did not improve from 0.12117\n",
      "50/50 - 1s - loss: 0.0562 - mean_absolute_error: 0.1813 - val_loss: 0.2001 - val_mean_absolute_error: 0.3432\n",
      "Epoch 26/30\n",
      "\n",
      "Epoch 00026: val_loss did not improve from 0.12117\n",
      "50/50 - 1s - loss: 0.0489 - mean_absolute_error: 0.1655 - val_loss: 0.1965 - val_mean_absolute_error: 0.3406\n",
      "Epoch 27/30\n",
      "\n",
      "Epoch 00027: val_loss did not improve from 0.12117\n",
      "50/50 - 1s - loss: 0.0649 - mean_absolute_error: 0.1940 - val_loss: 0.3321 - val_mean_absolute_error: 0.4085\n",
      "Epoch 28/30\n",
      "\n",
      "Epoch 00028: val_loss did not improve from 0.12117\n",
      "50/50 - 1s - loss: 0.0505 - mean_absolute_error: 0.1713 - val_loss: 0.1512 - val_mean_absolute_error: 0.2960\n",
      "Epoch 29/30\n",
      "\n",
      "Epoch 00029: val_loss did not improve from 0.12117\n",
      "50/50 - 1s - loss: 0.0591 - mean_absolute_error: 0.1835 - val_loss: 0.1682 - val_mean_absolute_error: 0.3167\n",
      "Epoch 30/30\n",
      "\n",
      "Epoch 00030: val_loss improved from 0.12117 to 0.11718, saving model to best_model.hdf5\n",
      "50/50 - 1s - loss: 0.0641 - mean_absolute_error: 0.1937 - val_loss: 0.1172 - val_mean_absolute_error: 0.2657\n",
      "63/63 - 0s - loss: 0.1052 - mean_absolute_error: 0.2524\n",
      "\n",
      "Test loss (MSE): 0.10520128905773163\n",
      "\n",
      "Test MAE: 0.25244414806365967\n"
     ]
    },
    {
     "data": {
      "image/png": "[encoded data removed]",
      "text/plain": [
       "<Figure size 576x576 with 2 Axes>"
      ]
     },
     "metadata": {
      "needs_background": "light",
      "tags": []
     },
     "output_type": "display_data"
    },
    {
     "name": "stdout",
     "output_type": "stream",
     "text": [
      "Accuracy is:  0.9835\n"
     ]
    },
    {
     "data": {
      "text/plain": [
       "(<tensorflow.python.keras.callbacks.History at 0x7fc2ea33a3c8>,\n",
       " <tensorflow.python.keras.engine.training.Model at 0x7fc2ea464e10>)"
      ]
     },
     "execution_count": 28,
     "metadata": {
      "tags": []
     },
     "output_type": "execute_result"
    }
   ],
   "source": [
    "create_model_and_train(*data, [], batch_normalize=True)"
   ]
  },
  {
   "cell_type": "markdown",
   "metadata": {
    "colab_type": "text",
    "id": "x-BxWhWvwf2n"
   },
   "source": [
    "Si nota un grande aumento dell'errore di generalizzazione, a discapito di una convergenza molto accelerata, con una *training loss* che diventa quasi statica dopo poche epoche. Probabilmente alzando il *learning rate* la situazione migliora."
   ]
  },
  {
   "cell_type": "markdown",
   "metadata": {
    "colab_type": "text",
    "id": "mGQQZzgFJ1px"
   },
   "source": [
    "# Keras Tuner"
   ]
  },
  {
   "cell_type": "markdown",
   "metadata": {
    "colab_type": "text",
    "id": "a0sjjQ2hbBEO"
   },
   "source": [
    "Provo con un tuning dei seguenti iperparametri:<br>\n",
    "* learning rate: sampling logaritmico intorno a $10^{-3}$\n",
    "* ampiezza dei filtri convoluzionali: 2, 3 o 4\n",
    "* numero di filtri convoluzionali: 16, 32 o 64\n",
    "* batch normalization: attiva o disattiva\n",
    "* numero di neuroni nei layer densi: 64, 128, 256\n",
    "\n",
    "<br>\n",
    "Le reti che verranno testate hanno quindi in media meno parametri della baseline in modo da provare ad ottenere un effetto di regolarizzazione."
   ]
  },
  {
   "cell_type": "code",
   "execution_count": 0,
   "metadata": {
    "colab": {},
    "colab_type": "code",
    "id": "dpG26ZTBQS2E"
   },
   "outputs": [],
   "source": [
    "# definizione del modello (come esempio qui una versione semplificata del nostro modello)\n",
    "\n",
    "def build_model(hp):\n",
    "  inputs = keras.Input(shape=(28,28,1))\n",
    "\n",
    "  data_augmentation = keras.Sequential([\n",
    "    keras.layers.experimental.preprocessing.RandomFlip()\n",
    "  ], name='DataAugm')\n",
    "\n",
    "  activation = \"relu\"\n",
    "\n",
    "  x = data_augmentation(inputs)\n",
    "\n",
    "  batch_normalize = hp.Choice(\"batch_normalize\", values=[True, False])\n",
    "  if batch_normalize:\n",
    "    layer_with_activation = lambda name, x: \\\n",
    "      keras.layers.BatchNormalization()(keras.layers.ReLU(name=name)(x))\n",
    "  else:\n",
    "    layer_with_activation = lambda name, x: \\\n",
    "      keras.layers.ReLU(name=name)(x)\n",
    "\n",
    "  ks = hp.Choice(\"kernel_size\", values=[2, 3, 4])\n",
    "  f1 = hp.Choice(\"filter\", values=[16, 32, 64])\n",
    "  x = keras.layers.Conv2D(f1, kernel_size=(ks,ks), name='Conv_1')(x)\n",
    "  x = layer_with_activation(f'{activation}_1', x)\n",
    "  x = keras.layers.MaxPooling2D((2,2), name='MaxPool_1')(x)\n",
    "  x = keras.layers.Conv2D(f1, kernel_size=(ks,ks), name='Conv_2')(x)\n",
    "  x = layer_with_activation(f'{activation}_2', x)\n",
    "  x = keras.layers.MaxPooling2D((2,2), name='MaxPool_2')(x)\n",
    "\n",
    "  x = keras.layers.Conv2D(f1, kernel_size=(ks,ks), name='Conv_3')(x)\n",
    "  x = layer_with_activation(f'{activation}_3', x)\n",
    "\n",
    "  x = keras.layers.Flatten(name='Flatten')(x)\n",
    "\n",
    "  dense_n = hp.Choice(\"dense_n\", values=[64, 128, 256])\n",
    "  x = keras.layers.Dense(dense_n, name='Dense_1')(x)\n",
    "  x = layer_with_activation(f'{activation}_dense_1', x)\n",
    "  x = keras.layers.Dense(dense_n, name='Dense_2')(x)\n",
    "  x = layer_with_activation(f'{activation}_dense_2', x)\n",
    "  outputs = keras.layers.Dense(1, name='Output')(x)\n",
    "\n",
    "  model = keras.Model(inputs=inputs, outputs=outputs)\n",
    "  \n",
    "  model.compile(\n",
    "        optimizer=keras.optimizers.Adam(\n",
    "          hp.Float(\"learning rate\", min_value=3e-4, max_value=5e-3, sampling=\"LOG\")),\n",
    "        loss='mse',\n",
    "        metrics=['mae'])\n",
    "  return model"
   ]
  },
  {
   "cell_type": "code",
   "execution_count": 0,
   "metadata": {
    "colab": {
     "base_uri": "https://localhost:8080/",
     "height": 570
    },
    "colab_type": "code",
    "id": "vjBQvS-RVsAV",
    "outputId": "3ef1bdc8-6b5b-439e-e7c7-37572107acb8"
   },
   "outputs": [
    {
     "name": "stdout",
     "output_type": "stream",
     "text": [
      "Collecting keras-tuner\n",
      "\u001b[?25l  Downloading https://files.pythonhosted.org/packages/a7/f7/4b41b6832abf4c9bef71a664dc563adb25afc5812831667c6db572b1a261/keras-tuner-1.0.1.tar.gz (54kB)\n",
      "\r",
      "\u001b[K     |██████                          | 10kB 26.0MB/s eta 0:00:01\r",
      "\u001b[K     |████████████                    | 20kB 32.9MB/s eta 0:00:01\r",
      "\u001b[K     |██████████████████              | 30kB 35.6MB/s eta 0:00:01\r",
      "\u001b[K     |████████████████████████        | 40kB 39.1MB/s eta 0:00:01\r",
      "\u001b[K     |██████████████████████████████  | 51kB 34.2MB/s eta 0:00:01\r",
      "\u001b[K     |████████████████████████████████| 61kB 9.5MB/s \n",
      "\u001b[?25hRequirement already satisfied, skipping upgrade: future in /usr/local/lib/python3.6/dist-packages (from keras-tuner) (0.16.0)\n",
      "Requirement already satisfied, skipping upgrade: numpy in /usr/local/lib/python3.6/dist-packages (from keras-tuner) (1.18.3)\n",
      "Requirement already satisfied, skipping upgrade: tabulate in /usr/local/lib/python3.6/dist-packages (from keras-tuner) (0.8.7)\n",
      "Collecting terminaltables\n",
      "  Downloading https://files.pythonhosted.org/packages/9b/c4/4a21174f32f8a7e1104798c445dacdc1d4df86f2f26722767034e4de4bff/terminaltables-3.1.0.tar.gz\n",
      "Collecting colorama\n",
      "  Downloading https://files.pythonhosted.org/packages/c9/dc/45cdef1b4d119eb96316b3117e6d5708a08029992b2fee2c143c7a0a5cc5/colorama-0.4.3-py2.py3-none-any.whl\n",
      "Requirement already satisfied, skipping upgrade: tqdm in /usr/local/lib/python3.6/dist-packages (from keras-tuner) (4.38.0)\n",
      "Requirement already satisfied, skipping upgrade: requests in /usr/local/lib/python3.6/dist-packages (from keras-tuner) (2.23.0)\n",
      "Requirement already satisfied, skipping upgrade: scipy in /usr/local/lib/python3.6/dist-packages (from keras-tuner) (1.4.1)\n",
      "Requirement already satisfied, skipping upgrade: scikit-learn in /usr/local/lib/python3.6/dist-packages (from keras-tuner) (0.22.2.post1)\n",
      "Requirement already satisfied, skipping upgrade: idna<3,>=2.5 in /usr/local/lib/python3.6/dist-packages (from requests->keras-tuner) (2.9)\n",
      "Requirement already satisfied, skipping upgrade: chardet<4,>=3.0.2 in /usr/local/lib/python3.6/dist-packages (from requests->keras-tuner) (3.0.4)\n",
      "Requirement already satisfied, skipping upgrade: urllib3!=1.25.0,!=1.25.1,<1.26,>=1.21.1 in /usr/local/lib/python3.6/dist-packages (from requests->keras-tuner) (1.24.3)\n",
      "Requirement already satisfied, skipping upgrade: certifi>=2017.4.17 in /usr/local/lib/python3.6/dist-packages (from requests->keras-tuner) (2020.4.5.1)\n",
      "Requirement already satisfied, skipping upgrade: joblib>=0.11 in /usr/local/lib/python3.6/dist-packages (from scikit-learn->keras-tuner) (0.14.1)\n",
      "Building wheels for collected packages: keras-tuner, terminaltables\n",
      "  Building wheel for keras-tuner (setup.py) ... \u001b[?25l\u001b[?25hdone\n",
      "  Created wheel for keras-tuner: filename=keras_tuner-1.0.1-cp36-none-any.whl size=73200 sha256=e3452d13986a9abb1c41663cc655fd1e072a81fda3ea65d55e438d0fe80413a3\n",
      "  Stored in directory: /root/.cache/pip/wheels/b9/cc/62/52716b70dd90f3db12519233c3a93a5360bc672da1a10ded43\n",
      "  Building wheel for terminaltables (setup.py) ... \u001b[?25l\u001b[?25hdone\n",
      "  Created wheel for terminaltables: filename=terminaltables-3.1.0-cp36-none-any.whl size=15356 sha256=2f0780b9c28434687b10af341aca65fb4a335dab6fee25207ae2f638fa1a5acf\n",
      "  Stored in directory: /root/.cache/pip/wheels/30/6b/50/6c75775b681fb36cdfac7f19799888ef9d8813aff9e379663e\n",
      "Successfully built keras-tuner terminaltables\n",
      "Installing collected packages: terminaltables, colorama, keras-tuner\n",
      "Successfully installed colorama-0.4.3 keras-tuner-1.0.1 terminaltables-3.1.0\n"
     ]
    }
   ],
   "source": [
    "pip install -U keras-tuner"
   ]
  },
  {
   "cell_type": "markdown",
   "metadata": {
    "colab_type": "text",
    "id": "jdgYyTd7caCH"
   },
   "source": [
    "Come tuner utilizzo Hyperband, ottimizzando rispetto al *MAE* di validazione."
   ]
  },
  {
   "cell_type": "code",
   "execution_count": 0,
   "metadata": {
    "colab": {},
    "colab_type": "code",
    "id": "ozs9HkwpPNFF"
   },
   "outputs": [],
   "source": [
    "# definizione del tuner \n",
    "# vari tuner a disposizione RandomSearch, Hyeprband (http://jmlr.org/papers/v18/16-558.html), ...\n",
    "import kerastuner\n",
    " \n",
    "tuner = kerastuner.tuners.Hyperband(\n",
    "  build_model,\n",
    "  objective='val_mae',\n",
    "  executions_per_trial=2,\n",
    "  directory='hyperband',\n",
    "  max_epochs=40)"
   ]
  },
  {
   "cell_type": "markdown",
   "metadata": {
    "colab_type": "text",
    "id": "ANYFjJIMco_p"
   },
   "source": [
    "Sintesi della ricerca che verrà effettuata."
   ]
  },
  {
   "cell_type": "code",
   "execution_count": 0,
   "metadata": {
    "colab": {
     "base_uri": "https://localhost:8080/",
     "height": 554
    },
    "colab_type": "code",
    "id": "9gt4inoX25S5",
    "outputId": "57cf6f22-b3dd-48d4-d993-3a8e70c0436f"
   },
   "outputs": [
    {
     "data": {
      "text/html": [
       "<span style=\"color:#4527A0\"><h1 style=\"font-size:18px\">Search space summary</h1></span>"
      ],
      "text/plain": [
       "<IPython.core.display.HTML object>"
      ]
     },
     "metadata": {
      "tags": []
     },
     "output_type": "display_data"
    },
    {
     "data": {
      "text/html": [
       "<span style=\"color:cyan\"> |-Default search space size: 5</span>"
      ],
      "text/plain": [
       "<IPython.core.display.HTML object>"
      ]
     },
     "metadata": {
      "tags": []
     },
     "output_type": "display_data"
    },
    {
     "data": {
      "text/html": [
       "<span style=\"color:#7E57C2\"><h2 style=\"font-size:16px\">batch_normalize (Choice)</h2></span>"
      ],
      "text/plain": [
       "<IPython.core.display.HTML object>"
      ]
     },
     "metadata": {
      "tags": []
     },
     "output_type": "display_data"
    },
    {
     "data": {
      "text/html": [
       "<span style=\"color:cyan\"> |-default: 1</span>"
      ],
      "text/plain": [
       "<IPython.core.display.HTML object>"
      ]
     },
     "metadata": {
      "tags": []
     },
     "output_type": "display_data"
    },
    {
     "data": {
      "text/html": [
       "<span style=\"color:blue\"> |-ordered: True</span>"
      ],
      "text/plain": [
       "<IPython.core.display.HTML object>"
      ]
     },
     "metadata": {
      "tags": []
     },
     "output_type": "display_data"
    },
    {
     "data": {
      "text/html": [
       "<span style=\"color:cyan\"> |-values: [1, 0]</span>"
      ],
      "text/plain": [
       "<IPython.core.display.HTML object>"
      ]
     },
     "metadata": {
      "tags": []
     },
     "output_type": "display_data"
    },
    {
     "data": {
      "text/html": [
       "<span style=\"color:#7E57C2\"><h2 style=\"font-size:16px\">kernel_size (Choice)</h2></span>"
      ],
      "text/plain": [
       "<IPython.core.display.HTML object>"
      ]
     },
     "metadata": {
      "tags": []
     },
     "output_type": "display_data"
    },
    {
     "data": {
      "text/html": [
       "<span style=\"color:cyan\"> |-default: 2</span>"
      ],
      "text/plain": [
       "<IPython.core.display.HTML object>"
      ]
     },
     "metadata": {
      "tags": []
     },
     "output_type": "display_data"
    },
    {
     "data": {
      "text/html": [
       "<span style=\"color:blue\"> |-ordered: True</span>"
      ],
      "text/plain": [
       "<IPython.core.display.HTML object>"
      ]
     },
     "metadata": {
      "tags": []
     },
     "output_type": "display_data"
    },
    {
     "data": {
      "text/html": [
       "<span style=\"color:cyan\"> |-values: [2, 3, 4]</span>"
      ],
      "text/plain": [
       "<IPython.core.display.HTML object>"
      ]
     },
     "metadata": {
      "tags": []
     },
     "output_type": "display_data"
    },
    {
     "data": {
      "text/html": [
       "<span style=\"color:#7E57C2\"><h2 style=\"font-size:16px\">filter (Choice)</h2></span>"
      ],
      "text/plain": [
       "<IPython.core.display.HTML object>"
      ]
     },
     "metadata": {
      "tags": []
     },
     "output_type": "display_data"
    },
    {
     "data": {
      "text/html": [
       "<span style=\"color:cyan\"> |-default: 16</span>"
      ],
      "text/plain": [
       "<IPython.core.display.HTML object>"
      ]
     },
     "metadata": {
      "tags": []
     },
     "output_type": "display_data"
    },
    {
     "data": {
      "text/html": [
       "<span style=\"color:blue\"> |-ordered: True</span>"
      ],
      "text/plain": [
       "<IPython.core.display.HTML object>"
      ]
     },
     "metadata": {
      "tags": []
     },
     "output_type": "display_data"
    },
    {
     "data": {
      "text/html": [
       "<span style=\"color:cyan\"> |-values: [16, 32, 64]</span>"
      ],
      "text/plain": [
       "<IPython.core.display.HTML object>"
      ]
     },
     "metadata": {
      "tags": []
     },
     "output_type": "display_data"
    },
    {
     "data": {
      "text/html": [
       "<span style=\"color:#7E57C2\"><h2 style=\"font-size:16px\">dense_n (Choice)</h2></span>"
      ],
      "text/plain": [
       "<IPython.core.display.HTML object>"
      ]
     },
     "metadata": {
      "tags": []
     },
     "output_type": "display_data"
    },
    {
     "data": {
      "text/html": [
       "<span style=\"color:cyan\"> |-default: 64</span>"
      ],
      "text/plain": [
       "<IPython.core.display.HTML object>"
      ]
     },
     "metadata": {
      "tags": []
     },
     "output_type": "display_data"
    },
    {
     "data": {
      "text/html": [
       "<span style=\"color:blue\"> |-ordered: True</span>"
      ],
      "text/plain": [
       "<IPython.core.display.HTML object>"
      ]
     },
     "metadata": {
      "tags": []
     },
     "output_type": "display_data"
    },
    {
     "data": {
      "text/html": [
       "<span style=\"color:cyan\"> |-values: [64, 128, 256]</span>"
      ],
      "text/plain": [
       "<IPython.core.display.HTML object>"
      ]
     },
     "metadata": {
      "tags": []
     },
     "output_type": "display_data"
    },
    {
     "data": {
      "text/html": [
       "<span style=\"color:#7E57C2\"><h2 style=\"font-size:16px\">learning rate (Float)</h2></span>"
      ],
      "text/plain": [
       "<IPython.core.display.HTML object>"
      ]
     },
     "metadata": {
      "tags": []
     },
     "output_type": "display_data"
    },
    {
     "data": {
      "text/html": [
       "<span style=\"color:cyan\"> |-default: 0.0003</span>"
      ],
      "text/plain": [
       "<IPython.core.display.HTML object>"
      ]
     },
     "metadata": {
      "tags": []
     },
     "output_type": "display_data"
    },
    {
     "data": {
      "text/html": [
       "<span style=\"color:blue\"> |-max_value: 0.005</span>"
      ],
      "text/plain": [
       "<IPython.core.display.HTML object>"
      ]
     },
     "metadata": {
      "tags": []
     },
     "output_type": "display_data"
    },
    {
     "data": {
      "text/html": [
       "<span style=\"color:cyan\"> |-min_value: 0.0003</span>"
      ],
      "text/plain": [
       "<IPython.core.display.HTML object>"
      ]
     },
     "metadata": {
      "tags": []
     },
     "output_type": "display_data"
    },
    {
     "data": {
      "text/html": [
       "<span style=\"color:blue\"> |-sampling: log</span>"
      ],
      "text/plain": [
       "<IPython.core.display.HTML object>"
      ]
     },
     "metadata": {
      "tags": []
     },
     "output_type": "display_data"
    },
    {
     "data": {
      "text/html": [
       "<span style=\"color:cyan\"> |-step: None</span>"
      ],
      "text/plain": [
       "<IPython.core.display.HTML object>"
      ]
     },
     "metadata": {
      "tags": []
     },
     "output_type": "display_data"
    }
   ],
   "source": [
    "tuner.search_space_summary()"
   ]
  },
  {
   "cell_type": "markdown",
   "metadata": {
    "colab_type": "text",
    "id": "Frzcj3Ykcu8r"
   },
   "source": [
    "Imposto la ricerca con *early stopping*, settato a patience=5 (anche questo iperparametro andrebbe testato)."
   ]
  },
  {
   "cell_type": "code",
   "execution_count": 0,
   "metadata": {
    "colab": {},
    "colab_type": "code",
    "id": "r6j0EkqYRDdf"
   },
   "outputs": [],
   "source": [
    "tuner.search(X_train, Y_train, \n",
    "             epochs=50, validation_split=0.1, \n",
    "             callbacks=[tf.keras.callbacks.EarlyStopping('val_mae', patience=5)]\n",
    "             )"
   ]
  },
  {
   "cell_type": "markdown",
   "metadata": {
    "colab_type": "text",
    "id": "sscERVy3dFNU"
   },
   "source": [
    "Il migliore modello trovato non ha *batch normalization*, ha pochi neuroni nei layer densi (64) rispetto alla baseline con 256, ha sempre layer convoluzionali da 64 filtri (rispetto alla baseline con 32 o 64) con ampiezza del kernel 2x2 (rispetto alla baseline con 3x3). Si ha quindi una rete con convoluzioni più strette e profonde e una certa minimalità nei layer densi."
   ]
  },
  {
   "cell_type": "code",
   "execution_count": 0,
   "metadata": {
    "colab": {
     "base_uri": "https://localhost:8080/",
     "height": 409
    },
    "colab_type": "code",
    "id": "rpYem2vERGV6",
    "outputId": "f9800b9f-d4d9-4e45-f32b-a13d530b59b5"
   },
   "outputs": [
    {
     "data": {
      "text/html": [
       "<span style=\"color:#4527A0\"><h1 style=\"font-size:18px\">Results summary</h1></span>"
      ],
      "text/plain": [
       "<IPython.core.display.HTML object>"
      ]
     },
     "metadata": {
      "tags": []
     },
     "output_type": "display_data"
    },
    {
     "data": {
      "text/html": [
       "<span style=\"color:cyan\"> |-Results in hyperband/untitled_project</span>"
      ],
      "text/plain": [
       "<IPython.core.display.HTML object>"
      ]
     },
     "metadata": {
      "tags": []
     },
     "output_type": "display_data"
    },
    {
     "data": {
      "text/html": [
       "<span style=\"color:cyan\"> |-Showing 1 best trials</span>"
      ],
      "text/plain": [
       "<IPython.core.display.HTML object>"
      ]
     },
     "metadata": {
      "tags": []
     },
     "output_type": "display_data"
    },
    {
     "data": {
      "text/html": [
       "<span style=\"color:cyan\"> |-Objective(name='val_mae', direction='min')</span>"
      ],
      "text/plain": [
       "<IPython.core.display.HTML object>"
      ]
     },
     "metadata": {
      "tags": []
     },
     "output_type": "display_data"
    },
    {
     "data": {
      "text/html": [
       "<span style=\"color:#4527A0\"><h1 style=\"font-size:18px\">Trial summary</h1></span>"
      ],
      "text/plain": [
       "<IPython.core.display.HTML object>"
      ]
     },
     "metadata": {
      "tags": []
     },
     "output_type": "display_data"
    },
    {
     "data": {
      "text/html": [
       "<span style=\"color:cyan\"> |-Trial ID: 79f24a9ae195fafb98bf05e0c3b04d68</span>"
      ],
      "text/plain": [
       "<IPython.core.display.HTML object>"
      ]
     },
     "metadata": {
      "tags": []
     },
     "output_type": "display_data"
    },
    {
     "data": {
      "text/html": [
       "<span style=\"color:cyan\"> |-Score: 0.19821204245090485</span>"
      ],
      "text/plain": [
       "<IPython.core.display.HTML object>"
      ]
     },
     "metadata": {
      "tags": []
     },
     "output_type": "display_data"
    },
    {
     "data": {
      "text/html": [
       "<span style=\"color:cyan\"> |-Best step: 0</span>"
      ],
      "text/plain": [
       "<IPython.core.display.HTML object>"
      ]
     },
     "metadata": {
      "tags": []
     },
     "output_type": "display_data"
    },
    {
     "data": {
      "text/html": [
       "<span style=\"color:#7E57C2\"><h2 style=\"font-size:16px\">Hyperparameters:</h2></span>"
      ],
      "text/plain": [
       "<IPython.core.display.HTML object>"
      ]
     },
     "metadata": {
      "tags": []
     },
     "output_type": "display_data"
    },
    {
     "data": {
      "text/html": [
       "<span style=\"color:cyan\"> |-batch_normalize: 0</span>"
      ],
      "text/plain": [
       "<IPython.core.display.HTML object>"
      ]
     },
     "metadata": {
      "tags": []
     },
     "output_type": "display_data"
    },
    {
     "data": {
      "text/html": [
       "<span style=\"color:blue\"> |-dense_n: 64</span>"
      ],
      "text/plain": [
       "<IPython.core.display.HTML object>"
      ]
     },
     "metadata": {
      "tags": []
     },
     "output_type": "display_data"
    },
    {
     "data": {
      "text/html": [
       "<span style=\"color:cyan\"> |-filter: 64</span>"
      ],
      "text/plain": [
       "<IPython.core.display.HTML object>"
      ]
     },
     "metadata": {
      "tags": []
     },
     "output_type": "display_data"
    },
    {
     "data": {
      "text/html": [
       "<span style=\"color:blue\"> |-kernel_size: 2</span>"
      ],
      "text/plain": [
       "<IPython.core.display.HTML object>"
      ]
     },
     "metadata": {
      "tags": []
     },
     "output_type": "display_data"
    },
    {
     "data": {
      "text/html": [
       "<span style=\"color:cyan\"> |-learning rate: 0.0008093938437472137</span>"
      ],
      "text/plain": [
       "<IPython.core.display.HTML object>"
      ]
     },
     "metadata": {
      "tags": []
     },
     "output_type": "display_data"
    },
    {
     "data": {
      "text/html": [
       "<span style=\"color:blue\"> |-tuner/bracket: 3</span>"
      ],
      "text/plain": [
       "<IPython.core.display.HTML object>"
      ]
     },
     "metadata": {
      "tags": []
     },
     "output_type": "display_data"
    },
    {
     "data": {
      "text/html": [
       "<span style=\"color:cyan\"> |-tuner/epochs: 40</span>"
      ],
      "text/plain": [
       "<IPython.core.display.HTML object>"
      ]
     },
     "metadata": {
      "tags": []
     },
     "output_type": "display_data"
    },
    {
     "data": {
      "text/html": [
       "<span style=\"color:blue\"> |-tuner/initial_epoch: 14</span>"
      ],
      "text/plain": [
       "<IPython.core.display.HTML object>"
      ]
     },
     "metadata": {
      "tags": []
     },
     "output_type": "display_data"
    },
    {
     "data": {
      "text/html": [
       "<span style=\"color:cyan\"> |-tuner/round: 3</span>"
      ],
      "text/plain": [
       "<IPython.core.display.HTML object>"
      ]
     },
     "metadata": {
      "tags": []
     },
     "output_type": "display_data"
    },
    {
     "data": {
      "text/html": [
       "<span style=\"color:blue\"> |-tuner/trial_id: ec27710ef0c6d1bbef0e130423664ca8</span>"
      ],
      "text/plain": [
       "<IPython.core.display.HTML object>"
      ]
     },
     "metadata": {
      "tags": []
     },
     "output_type": "display_data"
    }
   ],
   "source": [
    "# Results\n",
    "tuner.results_summary(num_trials=1)"
   ]
  },
  {
   "cell_type": "code",
   "execution_count": 0,
   "metadata": {
    "colab": {},
    "colab_type": "code",
    "id": "DIZ7en_LRKDa"
   },
   "outputs": [],
   "source": [
    "# Retrieve the best models\n",
    "models = tuner.get_best_models(num_models=1)\n",
    "test_loss, test_mae = models[0].evaluate(X_test,  Y_test, verbose=2)"
   ]
  },
  {
   "cell_type": "code",
   "execution_count": 0,
   "metadata": {
    "colab": {
     "base_uri": "https://localhost:8080/",
     "height": 72
    },
    "colab_type": "code",
    "id": "BTnAp-hpCtld",
    "outputId": "a5fd5389-33bd-436d-b8f5-47e6134c618c"
   },
   "outputs": [
    {
     "name": "stdout",
     "output_type": "stream",
     "text": [
      "Test loss (MSE): 0.06814267486333847\n",
      "\n",
      "Test MAE: 0.1982106864452362\n"
     ]
    }
   ],
   "source": [
    "print('Test loss (MSE):', test_loss)\n",
    "print('\\nTest MAE:', test_mae)"
   ]
  },
  {
   "cell_type": "markdown",
   "metadata": {
    "colab_type": "text",
    "id": "4HpGU3mDDDMB"
   },
   "source": [
    "Le prestazioni ottenute sono le migliori finora. Si può notare come il tuning abbia escluso la batch normalization, in modo abbastanza sorprendente. Ciò può essere imputato alla scelta di learning rate mediamente troppo piccoli: la batch normalization infatti ha un effetto di smoothing sul landscape delle loss function e di accelerazione del training che incoraggia l'uso di learning rate più alti del normale. <br>\n",
    "Inoltre il tuning ha determinato come ottimale la scelta di layer densi con pochi neuroni, probabilmente a causa del limitato numero di epoche impostato, in congiunzione con la bassa complessità del dataset e la implicita richiesta di minimizzazione insita nell'aver ottimizzato la rete rispetto all'errore di validation."
   ]
  }
 ],
 "metadata": {
  "accelerator": "GPU",
  "colab": {
   "collapsed_sections": [],
   "name": "NB_CNN_LC3_2020.ipynb",
   "provenance": []
  },
  "kernelspec": {
   "display_name": "Python 3",
   "language": "python",
   "name": "python3"
  },
  "language_info": {
   "codemirror_mode": {
    "name": "ipython",
    "version": 3
   },
   "file_extension": ".py",
   "mimetype": "text/x-python",
   "name": "python",
   "nbconvert_exporter": "python",
   "pygments_lexer": "ipython3",
   "version": "3.6.9"
  }
 },
 "nbformat": 4,
 "nbformat_minor": 1
}
