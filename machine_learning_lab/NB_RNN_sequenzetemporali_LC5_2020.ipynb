{
  "nbformat": 4,
  "nbformat_minor": 0,
  "metadata": {
    "colab": {
      "name": "NB_RNN_sequenzetemporali_LC5_2020.ipynb",
      "provenance": [],
      "collapsed_sections": []
    },
    "kernelspec": {
      "name": "python3",
      "display_name": "Python 3"
    },
    "accelerator": "GPU"
  },
  "cells": [
    {
      "cell_type": "markdown",
      "metadata": {
        "id": "O-97SDET3JG-",
        "colab_type": "text"
      },
      "source": [
        "# Sviluppo e training di RNN per analisi di sequenze temporali\n",
        "\n",
        "### Informazioni ###\n",
        "\n",
        "scopo: \n",
        "- apprendere uso e funzionalità delle RNN rispetto a una task tipica per queste architetture: predizioni di feature sulla base di esempi di serie temporali\n",
        "\n",
        "**Dataset:**\n",
        "\n",
        "dataset kaggle con andamento titolo di borsa Tata Global Beverages Ltd borsa Indiana"
      ]
    },
    {
      "cell_type": "code",
      "metadata": {
        "id": "kKw-kBMr5jr0",
        "colab_type": "code",
        "outputId": "d81c3c2f-3b02-47b1-8de3-9c1e738fa150",
        "colab": {
          "base_uri": "https://localhost:8080/",
          "height": 34
        }
      },
      "source": [
        "import tensorflow as tf \n",
        "print(tf.__version__)\n",
        "\n",
        "from tensorflow import keras\n",
        "from tensorflow.keras import layers\n",
        "\n",
        "import numpy as np\n",
        "import os\n",
        "import time\n",
        "\n",
        "import pandas as pd\n",
        "\n",
        "from sklearn.preprocessing import MinMaxScaler\n",
        "\n",
        "import matplotlib.pyplot as plt\n",
        "\n",
        "if len(tf.config.list_physical_devices('GPU')) == 0:\n",
        "    print('Per questa esercitazione è importante usare la GPU: cambia runtime: menu Runtime > Change Runtime Type > GPU)')"
      ],
      "execution_count": 1,
      "outputs": [
        {
          "output_type": "stream",
          "text": [
            "2.2.0\n"
          ],
          "name": "stdout"
        }
      ]
    },
    {
      "cell_type": "markdown",
      "metadata": {
        "id": "zdw2C2lZ6uwf",
        "colab_type": "text"
      },
      "source": [
        "# Parte 1: predizione andamento titolo di borsa"
      ]
    },
    {
      "cell_type": "code",
      "metadata": {
        "id": "jKdhtD9EtqXz",
        "colab_type": "code",
        "outputId": "8c637b69-5ba8-4fb8-d7f3-02f916ce57c4",
        "colab": {
          "base_uri": "https://localhost:8080/",
          "height": 416
        }
      },
      "source": [
        "# Dataset \n",
        "!rm -rf NSE-TATAGLOBAL.csv\n",
        "!rm -rf NSE-TATAGLOBAL-test.csv\n",
        "!wget http://giagu.web.cern.ch/giagu/CERN/NSE-TATAGLOBAL.csv\n",
        "!wget http://giagu.web.cern.ch/giagu/CERN/NSE-TATAGLOBAL-test.csv\n",
        "!ls "
      ],
      "execution_count": 2,
      "outputs": [
        {
          "output_type": "stream",
          "text": [
            "--2020-05-22 13:56:48--  http://giagu.web.cern.ch/giagu/CERN/NSE-TATAGLOBAL.csv\n",
            "Resolving giagu.web.cern.ch (giagu.web.cern.ch)... 188.184.101.49, 2001:1458:d00:35::100:35\n",
            "Connecting to giagu.web.cern.ch (giagu.web.cern.ch)|188.184.101.49|:80... connected.\n",
            "HTTP request sent, awaiting response... 200 OK\n",
            "Length: 115525 (113K) [text/csv]\n",
            "Saving to: ‘NSE-TATAGLOBAL.csv’\n",
            "\n",
            "NSE-TATAGLOBAL.csv  100%[===================>] 112.82K  84.5KB/s    in 1.3s    \n",
            "\n",
            "2020-05-22 13:56:51 (84.5 KB/s) - ‘NSE-TATAGLOBAL.csv’ saved [115525/115525]\n",
            "\n",
            "--2020-05-22 13:56:52--  http://giagu.web.cern.ch/giagu/CERN/NSE-TATAGLOBAL-test.csv\n",
            "Resolving giagu.web.cern.ch (giagu.web.cern.ch)... 188.184.101.49, 2001:1458:d00:35::100:35\n",
            "Connecting to giagu.web.cern.ch (giagu.web.cern.ch)|188.184.101.49|:80... connected.\n",
            "HTTP request sent, awaiting response... 200 OK\n",
            "Length: 984 [text/csv]\n",
            "Saving to: ‘NSE-TATAGLOBAL-test.csv’\n",
            "\n",
            "NSE-TATAGLOBAL-test 100%[===================>]     984  --.-KB/s    in 0s      \n",
            "\n",
            "2020-05-22 13:56:53 (22.4 MB/s) - ‘NSE-TATAGLOBAL-test.csv’ saved [984/984]\n",
            "\n",
            "NSE-TATAGLOBAL.csv  NSE-TATAGLOBAL-test.csv  sample_data\n"
          ],
          "name": "stdout"
        }
      ]
    },
    {
      "cell_type": "code",
      "metadata": {
        "id": "2n0GGTiFui8O",
        "colab_type": "code",
        "colab": {}
      },
      "source": [
        "# Usiamo pandas per leggere il dataset in formato csv\n",
        "\n",
        "# training data\n",
        "df = pd.read_csv('NSE-TATAGLOBAL.csv')\n",
        "# test data\n",
        "df_test = pd.read_csv('NSE-TATAGLOBAL-test.csv')"
      ],
      "execution_count": 0,
      "outputs": []
    },
    {
      "cell_type": "code",
      "metadata": {
        "id": "hRiFQ7s6ucx2",
        "colab_type": "code",
        "outputId": "813a49b3-34e2-4e5a-d905-3bb280196551",
        "colab": {
          "base_uri": "https://localhost:8080/",
          "height": 278
        }
      },
      "source": [
        "df.info()"
      ],
      "execution_count": 4,
      "outputs": [
        {
          "output_type": "stream",
          "text": [
            "<class 'pandas.core.frame.DataFrame'>\n",
            "RangeIndex: 2035 entries, 0 to 2034\n",
            "Data columns (total 8 columns):\n",
            " #   Column                Non-Null Count  Dtype  \n",
            "---  ------                --------------  -----  \n",
            " 0   Date                  2035 non-null   object \n",
            " 1   Open                  2035 non-null   float64\n",
            " 2   High                  2035 non-null   float64\n",
            " 3   Low                   2035 non-null   float64\n",
            " 4   Last                  2035 non-null   float64\n",
            " 5   Close                 2035 non-null   float64\n",
            " 6   Total Trade Quantity  2035 non-null   int64  \n",
            " 7   Turnover (Lacs)       2035 non-null   float64\n",
            "dtypes: float64(6), int64(1), object(1)\n",
            "memory usage: 127.3+ KB\n"
          ],
          "name": "stdout"
        }
      ]
    },
    {
      "cell_type": "code",
      "metadata": {
        "id": "noOof7LzuecP",
        "colab_type": "code",
        "outputId": "fec656a4-03f3-4ce3-f917-108d96f27eeb",
        "colab": {
          "base_uri": "https://localhost:8080/",
          "height": 206
        }
      },
      "source": [
        "df.head(5)"
      ],
      "execution_count": 6,
      "outputs": [
        {
          "output_type": "execute_result",
          "data": {
            "text/html": [
              "<div>\n",
              "<style scoped>\n",
              "    .dataframe tbody tr th:only-of-type {\n",
              "        vertical-align: middle;\n",
              "    }\n",
              "\n",
              "    .dataframe tbody tr th {\n",
              "        vertical-align: top;\n",
              "    }\n",
              "\n",
              "    .dataframe thead th {\n",
              "        text-align: right;\n",
              "    }\n",
              "</style>\n",
              "<table border=\"1\" class=\"dataframe\">\n",
              "  <thead>\n",
              "    <tr style=\"text-align: right;\">\n",
              "      <th></th>\n",
              "      <th>Date</th>\n",
              "      <th>Open</th>\n",
              "      <th>High</th>\n",
              "      <th>Low</th>\n",
              "      <th>Last</th>\n",
              "      <th>Close</th>\n",
              "      <th>Total Trade Quantity</th>\n",
              "      <th>Turnover (Lacs)</th>\n",
              "    </tr>\n",
              "  </thead>\n",
              "  <tbody>\n",
              "    <tr>\n",
              "      <th>0</th>\n",
              "      <td>2018-09-28</td>\n",
              "      <td>234.05</td>\n",
              "      <td>235.95</td>\n",
              "      <td>230.20</td>\n",
              "      <td>233.50</td>\n",
              "      <td>233.75</td>\n",
              "      <td>3069914</td>\n",
              "      <td>7162.35</td>\n",
              "    </tr>\n",
              "    <tr>\n",
              "      <th>1</th>\n",
              "      <td>2018-09-27</td>\n",
              "      <td>234.55</td>\n",
              "      <td>236.80</td>\n",
              "      <td>231.10</td>\n",
              "      <td>233.80</td>\n",
              "      <td>233.25</td>\n",
              "      <td>5082859</td>\n",
              "      <td>11859.95</td>\n",
              "    </tr>\n",
              "    <tr>\n",
              "      <th>2</th>\n",
              "      <td>2018-09-26</td>\n",
              "      <td>240.00</td>\n",
              "      <td>240.00</td>\n",
              "      <td>232.50</td>\n",
              "      <td>235.00</td>\n",
              "      <td>234.25</td>\n",
              "      <td>2240909</td>\n",
              "      <td>5248.60</td>\n",
              "    </tr>\n",
              "    <tr>\n",
              "      <th>3</th>\n",
              "      <td>2018-09-25</td>\n",
              "      <td>233.30</td>\n",
              "      <td>236.75</td>\n",
              "      <td>232.00</td>\n",
              "      <td>236.25</td>\n",
              "      <td>236.10</td>\n",
              "      <td>2349368</td>\n",
              "      <td>5503.90</td>\n",
              "    </tr>\n",
              "    <tr>\n",
              "      <th>4</th>\n",
              "      <td>2018-09-24</td>\n",
              "      <td>233.55</td>\n",
              "      <td>239.20</td>\n",
              "      <td>230.75</td>\n",
              "      <td>234.00</td>\n",
              "      <td>233.30</td>\n",
              "      <td>3423509</td>\n",
              "      <td>7999.55</td>\n",
              "    </tr>\n",
              "  </tbody>\n",
              "</table>\n",
              "</div>"
            ],
            "text/plain": [
              "         Date    Open    High  ...   Close  Total Trade Quantity  Turnover (Lacs)\n",
              "0  2018-09-28  234.05  235.95  ...  233.75               3069914          7162.35\n",
              "1  2018-09-27  234.55  236.80  ...  233.25               5082859         11859.95\n",
              "2  2018-09-26  240.00  240.00  ...  234.25               2240909          5248.60\n",
              "3  2018-09-25  233.30  236.75  ...  236.10               2349368          5503.90\n",
              "4  2018-09-24  233.55  239.20  ...  233.30               3423509          7999.55\n",
              "\n",
              "[5 rows x 8 columns]"
            ]
          },
          "metadata": {
            "tags": []
          },
          "execution_count": 6
        }
      ]
    },
    {
      "cell_type": "code",
      "metadata": {
        "id": "MvKF9Br6u_Uz",
        "colab_type": "code",
        "outputId": "d6874a70-364c-45b6-f73a-2a5eeca58a60",
        "colab": {
          "base_uri": "https://localhost:8080/",
          "height": 69
        }
      },
      "source": [
        "df.columns"
      ],
      "execution_count": 5,
      "outputs": [
        {
          "output_type": "execute_result",
          "data": {
            "text/plain": [
              "Index(['Date', 'Open', 'High', 'Low', 'Last', 'Close', 'Total Trade Quantity',\n",
              "       'Turnover (Lacs)'],\n",
              "      dtype='object')"
            ]
          },
          "metadata": {
            "tags": []
          },
          "execution_count": 5
        }
      ]
    },
    {
      "cell_type": "code",
      "metadata": {
        "id": "x5ds_-LE9vMO",
        "colab_type": "code",
        "colab": {}
      },
      "source": [
        "# ordiniamo i valori in tempo crescente\n",
        "df.sort_values('Date', inplace=True, ascending=True, ignore_index=True)\n",
        "df_test.sort_values('Date', inplace=True, ascending=True, ignore_index=True)"
      ],
      "execution_count": 0,
      "outputs": []
    },
    {
      "cell_type": "code",
      "metadata": {
        "id": "cdqenMRByI9b",
        "colab_type": "code",
        "outputId": "3429a80d-a3de-48ab-85ed-000cd31c3c21",
        "colab": {
          "base_uri": "https://localhost:8080/",
          "height": 52
        }
      },
      "source": [
        "print('Inizio della sequenza temporale: ', df.Date.min())\n",
        "print('Fine della sequenza temporale: ', df.Date.max())"
      ],
      "execution_count": 8,
      "outputs": [
        {
          "output_type": "stream",
          "text": [
            "Inizio della sequenza temporale:  2010-07-21\n",
            "Fine della sequenza temporale:  2018-09-28\n"
          ],
          "name": "stdout"
        }
      ]
    },
    {
      "cell_type": "code",
      "metadata": {
        "id": "arB1bsQ7yUdQ",
        "colab_type": "code",
        "outputId": "9a26a8f5-00fd-4411-eb7a-183c61e5a2a3",
        "colab": {
          "base_uri": "https://localhost:8080/",
          "height": 52
        }
      },
      "source": [
        "print('Inizio della sequenza temporale (test set): ', df_test.Date.min())\n",
        "print('Fine della sequenza temporale (test set): ', df_test.Date.max())"
      ],
      "execution_count": 10,
      "outputs": [
        {
          "output_type": "stream",
          "text": [
            "Inizio della sequenza temporale (test set):  2018-10-01\n",
            "Fine della sequenza temporale (test set):  2018-10-24\n"
          ],
          "name": "stdout"
        }
      ]
    },
    {
      "cell_type": "code",
      "metadata": {
        "id": "g4JHVqAUiXhZ",
        "colab_type": "code",
        "outputId": "2147e760-f0cd-43ac-e372-c538dea9eaaf",
        "colab": {
          "base_uri": "https://localhost:8080/",
          "height": 206
        }
      },
      "source": [
        "df.head(5)"
      ],
      "execution_count": 9,
      "outputs": [
        {
          "output_type": "execute_result",
          "data": {
            "text/html": [
              "<div>\n",
              "<style scoped>\n",
              "    .dataframe tbody tr th:only-of-type {\n",
              "        vertical-align: middle;\n",
              "    }\n",
              "\n",
              "    .dataframe tbody tr th {\n",
              "        vertical-align: top;\n",
              "    }\n",
              "\n",
              "    .dataframe thead th {\n",
              "        text-align: right;\n",
              "    }\n",
              "</style>\n",
              "<table border=\"1\" class=\"dataframe\">\n",
              "  <thead>\n",
              "    <tr style=\"text-align: right;\">\n",
              "      <th></th>\n",
              "      <th>Date</th>\n",
              "      <th>Open</th>\n",
              "      <th>High</th>\n",
              "      <th>Low</th>\n",
              "      <th>Last</th>\n",
              "      <th>Close</th>\n",
              "      <th>Total Trade Quantity</th>\n",
              "      <th>Turnover (Lacs)</th>\n",
              "    </tr>\n",
              "  </thead>\n",
              "  <tbody>\n",
              "    <tr>\n",
              "      <th>0</th>\n",
              "      <td>2010-07-21</td>\n",
              "      <td>122.1</td>\n",
              "      <td>123.00</td>\n",
              "      <td>121.05</td>\n",
              "      <td>121.10</td>\n",
              "      <td>121.55</td>\n",
              "      <td>658666</td>\n",
              "      <td>803.56</td>\n",
              "    </tr>\n",
              "    <tr>\n",
              "      <th>1</th>\n",
              "      <td>2010-07-22</td>\n",
              "      <td>120.3</td>\n",
              "      <td>122.00</td>\n",
              "      <td>120.25</td>\n",
              "      <td>120.75</td>\n",
              "      <td>120.90</td>\n",
              "      <td>293312</td>\n",
              "      <td>355.17</td>\n",
              "    </tr>\n",
              "    <tr>\n",
              "      <th>2</th>\n",
              "      <td>2010-07-23</td>\n",
              "      <td>121.8</td>\n",
              "      <td>121.95</td>\n",
              "      <td>120.25</td>\n",
              "      <td>120.35</td>\n",
              "      <td>120.65</td>\n",
              "      <td>281312</td>\n",
              "      <td>340.31</td>\n",
              "    </tr>\n",
              "    <tr>\n",
              "      <th>3</th>\n",
              "      <td>2010-07-26</td>\n",
              "      <td>120.1</td>\n",
              "      <td>121.00</td>\n",
              "      <td>117.10</td>\n",
              "      <td>117.10</td>\n",
              "      <td>117.60</td>\n",
              "      <td>658440</td>\n",
              "      <td>780.01</td>\n",
              "    </tr>\n",
              "    <tr>\n",
              "      <th>4</th>\n",
              "      <td>2010-07-27</td>\n",
              "      <td>117.6</td>\n",
              "      <td>119.50</td>\n",
              "      <td>112.00</td>\n",
              "      <td>118.80</td>\n",
              "      <td>118.65</td>\n",
              "      <td>586100</td>\n",
              "      <td>694.98</td>\n",
              "    </tr>\n",
              "  </tbody>\n",
              "</table>\n",
              "</div>"
            ],
            "text/plain": [
              "         Date   Open    High  ...   Close  Total Trade Quantity  Turnover (Lacs)\n",
              "0  2010-07-21  122.1  123.00  ...  121.55                658666           803.56\n",
              "1  2010-07-22  120.3  122.00  ...  120.90                293312           355.17\n",
              "2  2010-07-23  121.8  121.95  ...  120.65                281312           340.31\n",
              "3  2010-07-26  120.1  121.00  ...  117.60                658440           780.01\n",
              "4  2010-07-27  117.6  119.50  ...  118.65                586100           694.98\n",
              "\n",
              "[5 rows x 8 columns]"
            ]
          },
          "metadata": {
            "tags": []
          },
          "execution_count": 9
        }
      ]
    },
    {
      "cell_type": "code",
      "metadata": {
        "id": "7wJC63u0zEsr",
        "colab_type": "code",
        "outputId": "c940c625-b9dc-4a9e-bedc-44b9d7cbd06c",
        "colab": {
          "base_uri": "https://localhost:8080/",
          "height": 281
        }
      },
      "source": [
        "#Data Exploration\n",
        "\n",
        "# grafichiamo la il prezzo di apertura in funzione della data\n",
        "\n",
        "plt.plot(df['Open'],linewidth=1)\n",
        "plt.title('TATA Open Price vs time')\n",
        "plt.show()\n"
      ],
      "execution_count": 11,
      "outputs": [
        {
          "output_type": "display_data",
          "data": {
            "image/png": "[encoded data removed]",
            "text/plain": [
              "<Figure size 432x288 with 1 Axes>"
            ]
          },
          "metadata": {
            "tags": [],
            "needs_background": "light"
          }
        }
      ]
    },
    {
      "cell_type": "code",
      "metadata": {
        "id": "xIBGnzw3-wNt",
        "colab_type": "code",
        "outputId": "d5550e42-5b20-407e-9304-557aa189ba6f",
        "colab": {
          "base_uri": "https://localhost:8080/",
          "height": 281
        }
      },
      "source": [
        "plt.plot(df_test['Open'],linewidth=1)\n",
        "plt.title('TATA Open Price vs time Test set')\n",
        "plt.show()\n"
      ],
      "execution_count": 12,
      "outputs": [
        {
          "output_type": "display_data",
          "data": {
            "image/png": "[encoded data removed]",
            "text/plain": [
              "<Figure size 432x288 with 1 Axes>"
            ]
          },
          "metadata": {
            "tags": [],
            "needs_background": "light"
          }
        }
      ]
    },
    {
      "cell_type": "markdown",
      "metadata": {
        "id": "GMMzS8ECwtoi",
        "colab_type": "text"
      },
      "source": [
        "## Costruzione del modello RNN (una LSTM multilayer)\n",
        "\n",
        "*   task: predire il vaore del titolo (feature *Open*) al tempo corrente a partire dalla storia del titolo a tempi precedenti \n",
        "\n",
        "Step necessari:\n",
        "\n",
        "*   normalizzare le feature\n",
        "*   split in training/validation\n",
        "*   adeguare la shape dei dati per l'input atteso per una RNN in TF/keras: 3D array *(num_samples, num_timesteps, num_features)*\n",
        "*   costruzione del modello in keras\n"
      ]
    },
    {
      "cell_type": "code",
      "metadata": {
        "id": "ZkDsmG7Fqlc1",
        "colab_type": "code",
        "colab": {}
      },
      "source": [
        "# selezioniamo solo la feature interessante (Open price) e convertiamo i dati \n",
        "# in array numpy\n",
        "training_set = df.iloc[:, 1:2].values\n",
        "# normalizziamo le feature in [0,1]\n",
        "scaler = MinMaxScaler(feature_range = (0, 1))\n",
        "training_set_scaled = scaler.fit_transform(training_set)"
      ],
      "execution_count": 0,
      "outputs": []
    },
    {
      "cell_type": "code",
      "metadata": {
        "id": "zI4JgjXXq4xS",
        "colab_type": "code",
        "outputId": "d4af82a3-3c13-4ce4-ce41-cd63c750e30b",
        "colab": {
          "base_uri": "https://localhost:8080/",
          "height": 52
        }
      },
      "source": [
        "# Creiamo la strutura di dati adeguata per la RNN: \n",
        "# consideriamo timesteps campionamenti in cui osserviamo i valori del titolo a tempi\n",
        "# precedenti, t-timetamp-delay ... t-delay\n",
        "# e 1 output corrispondente al valore del titolo al tempo corrente  \n",
        "# NOTA: nella RNN  input X timestamp valori a tempi precedenti e target X al tempo t\n",
        "X_train = []\n",
        "y_train = []\n",
        "\n",
        "timesteps = 30 #numero di step temporali sequenziali usati per la predizione\n",
        "delay = 0 #distanza in step temporali tra il target e l'elemento piu' vicino della sequenza temporale\n",
        "\n",
        "for i in range(timesteps+delay, training_set.shape[0]):\n",
        "    X_train.append(training_set_scaled[i-timesteps-delay:i-delay, 0])\n",
        "    y_train.append(training_set_scaled[i, 0])\n",
        "\n",
        "X_train, y_train = np.array(X_train), np.array(y_train)\n",
        "print(X_train.shape)\n",
        "print(y_train.shape)"
      ],
      "execution_count": 14,
      "outputs": [
        {
          "output_type": "stream",
          "text": [
            "(2005, 30)\n",
            "(2005,)\n"
          ],
          "name": "stdout"
        }
      ]
    },
    {
      "cell_type": "code",
      "metadata": {
        "id": "kh6-HIz8rkuk",
        "colab_type": "code",
        "outputId": "5a098bfd-1327-4ab0-fdc7-32d0cd7ab756",
        "colab": {
          "base_uri": "https://localhost:8080/",
          "height": 34
        }
      },
      "source": [
        "# Reshaping nel formato atteso da una RNN in TF/keras: 3D array (num_samples, num_timesteps, num_features)\n",
        "X_train = np.reshape(X_train, (X_train.shape[0], X_train.shape[1], 1))\n",
        "print(X_train.shape)"
      ],
      "execution_count": 15,
      "outputs": [
        {
          "output_type": "stream",
          "text": [
            "(2005, 30, 1)\n"
          ],
          "name": "stdout"
        }
      ]
    },
    {
      "cell_type": "markdown",
      "metadata": {
        "id": "nG5wsYT9x0_b",
        "colab_type": "text"
      },
      "source": [
        "Architettura del modello di RNN:\n",
        "\n",
        "1.   LSTM con 2 blocchi LSTM sequenziali (stacked LSTM) \n",
        "2.   spazio latente *ht* di dimensione 50\n",
        "3.   dropout 20% per regolarizzare il modello\n",
        "4.   un nuerone nell'output layer per predire la feature *Open*\n",
        "5.   loss: MSE,  ottimizzatore: Adam\n",
        "6.   100 epoche con EarlyStopping, con batch size 32\n"
      ]
    },
    {
      "cell_type": "code",
      "metadata": {
        "id": "BvNFAfQsr3q9",
        "colab_type": "code",
        "outputId": "6dc82aae-2f9e-4bdf-a6b3-ba6c87fb8c84",
        "colab": {
          "base_uri": "https://localhost:8080/",
          "height": 957
        }
      },
      "source": [
        "# Stacked LSTM layers con dropouts\n",
        "model = keras.Sequential()\n",
        "\n",
        "# return_sequences = True va usato quando l'output della LSTM serve come input \n",
        "# ad un'altra LSTM\n",
        "model.add(layers.LSTM(50, return_sequences = True, input_shape=(X_train.shape[1], 1)))\n",
        "model.add(layers.Dropout(0.2))\n",
        "\n",
        "# nell'ultimo modulo LSTM non serve return_sequences = True\n",
        "model.add(layers.LSTM(50))\n",
        "model.add(layers.Dropout(0.2))\n",
        "\n",
        "model.add(layers.Dense(1))\n",
        "\n",
        "model.summary()\n",
        "keras.utils.plot_model(model, show_shapes=True)"
      ],
      "execution_count": 16,
      "outputs": [
        {
          "output_type": "stream",
          "text": [
            "Model: \"sequential\"\n",
            "_________________________________________________________________\n",
            "Layer (type)                 Output Shape              Param #   \n",
            "=================================================================\n",
            "lstm (LSTM)                  (None, 30, 50)            10400     \n",
            "_________________________________________________________________\n",
            "dropout (Dropout)            (None, 30, 50)            0         \n",
            "_________________________________________________________________\n",
            "lstm_1 (LSTM)                (None, 50)                20200     \n",
            "_________________________________________________________________\n",
            "dropout_1 (Dropout)          (None, 50)                0         \n",
            "_________________________________________________________________\n",
            "dense (Dense)                (None, 1)                 51        \n",
            "=================================================================\n",
            "Total params: 30,651\n",
            "Trainable params: 30,651\n",
            "Non-trainable params: 0\n",
            "_________________________________________________________________\n"
          ],
          "name": "stdout"
        },
        {
          "output_type": "execute_result",
          "data": {
            "image/png": "[encoded data removed]",
            "text/plain": [
              "<IPython.core.display.Image object>"
            ]
          },
          "metadata": {
            "tags": []
          },
          "execution_count": 16
        }
      ]
    },
    {
      "cell_type": "code",
      "metadata": {
        "id": "jw0C2uuCIdTf",
        "colab_type": "code",
        "outputId": "04d7c6b8-66f4-42ab-8c50-0e1601fb09a7",
        "colab": {
          "base_uri": "https://localhost:8080/",
          "height": 1000
        }
      },
      "source": [
        "model.compile(optimizer='adam', loss='mean_squared_error')\n",
        "\n",
        "history = model.fit(\n",
        "    X_train, y_train, epochs=100, batch_size=32, \n",
        "    callbacks=[\n",
        "        keras.callbacks.EarlyStopping(monitor='loss', patience=5),\n",
        "    ]\n",
        ")"
      ],
      "execution_count": 17,
      "outputs": [
        {
          "output_type": "stream",
          "text": [
            "Epoch 1/100\n",
            "63/63 [==============================] - 1s 16ms/step - loss: 0.0108\n",
            "Epoch 2/100\n",
            "63/63 [==============================] - 1s 16ms/step - loss: 0.0024\n",
            "Epoch 3/100\n",
            "63/63 [==============================] - 1s 16ms/step - loss: 0.0023\n",
            "Epoch 4/100\n",
            "63/63 [==============================] - 1s 16ms/step - loss: 0.0021\n",
            "Epoch 5/100\n",
            "63/63 [==============================] - 1s 16ms/step - loss: 0.0018\n",
            "Epoch 6/100\n",
            "63/63 [==============================] - 1s 16ms/step - loss: 0.0020\n",
            "Epoch 7/100\n",
            "63/63 [==============================] - 1s 16ms/step - loss: 0.0018\n",
            "Epoch 8/100\n",
            "63/63 [==============================] - 1s 16ms/step - loss: 0.0018\n",
            "Epoch 9/100\n",
            "63/63 [==============================] - 1s 16ms/step - loss: 0.0016\n",
            "Epoch 10/100\n",
            "63/63 [==============================] - 1s 16ms/step - loss: 0.0017\n",
            "Epoch 11/100\n",
            "63/63 [==============================] - 1s 15ms/step - loss: 0.0016\n",
            "Epoch 12/100\n",
            "63/63 [==============================] - 1s 16ms/step - loss: 0.0015\n",
            "Epoch 13/100\n",
            "63/63 [==============================] - 1s 16ms/step - loss: 0.0013\n",
            "Epoch 14/100\n",
            "63/63 [==============================] - 1s 15ms/step - loss: 0.0014\n",
            "Epoch 15/100\n",
            "63/63 [==============================] - 1s 15ms/step - loss: 0.0014\n",
            "Epoch 16/100\n",
            "63/63 [==============================] - 1s 15ms/step - loss: 0.0014\n",
            "Epoch 17/100\n",
            "63/63 [==============================] - 1s 15ms/step - loss: 0.0012\n",
            "Epoch 18/100\n",
            "63/63 [==============================] - 1s 16ms/step - loss: 0.0011\n",
            "Epoch 19/100\n",
            "63/63 [==============================] - 1s 16ms/step - loss: 0.0012\n",
            "Epoch 20/100\n",
            "63/63 [==============================] - 1s 16ms/step - loss: 0.0012\n",
            "Epoch 21/100\n",
            "63/63 [==============================] - 1s 16ms/step - loss: 0.0010\n",
            "Epoch 22/100\n",
            "63/63 [==============================] - 1s 15ms/step - loss: 0.0011\n",
            "Epoch 23/100\n",
            "63/63 [==============================] - 1s 15ms/step - loss: 0.0012\n",
            "Epoch 24/100\n",
            "63/63 [==============================] - 1s 16ms/step - loss: 0.0010\n",
            "Epoch 25/100\n",
            "63/63 [==============================] - 1s 16ms/step - loss: 0.0010\n",
            "Epoch 26/100\n",
            "63/63 [==============================] - 1s 16ms/step - loss: 9.8460e-04\n",
            "Epoch 27/100\n",
            "63/63 [==============================] - 1s 16ms/step - loss: 9.9291e-04\n",
            "Epoch 28/100\n",
            "63/63 [==============================] - 1s 15ms/step - loss: 9.2507e-04\n",
            "Epoch 29/100\n",
            "63/63 [==============================] - 1s 15ms/step - loss: 9.0996e-04\n",
            "Epoch 30/100\n",
            "63/63 [==============================] - 1s 15ms/step - loss: 9.0187e-04\n",
            "Epoch 31/100\n",
            "63/63 [==============================] - 1s 15ms/step - loss: 9.9506e-04\n",
            "Epoch 32/100\n",
            "63/63 [==============================] - 1s 15ms/step - loss: 9.0846e-04\n",
            "Epoch 33/100\n",
            "63/63 [==============================] - 1s 15ms/step - loss: 8.8734e-04\n",
            "Epoch 34/100\n",
            "63/63 [==============================] - 1s 15ms/step - loss: 8.2546e-04\n",
            "Epoch 35/100\n",
            "63/63 [==============================] - 1s 15ms/step - loss: 8.0711e-04\n",
            "Epoch 36/100\n",
            "63/63 [==============================] - 1s 16ms/step - loss: 8.4301e-04\n",
            "Epoch 37/100\n",
            "63/63 [==============================] - 1s 16ms/step - loss: 7.8281e-04\n",
            "Epoch 38/100\n",
            "63/63 [==============================] - 1s 15ms/step - loss: 7.1919e-04\n",
            "Epoch 39/100\n",
            "63/63 [==============================] - 1s 16ms/step - loss: 7.8890e-04\n",
            "Epoch 40/100\n",
            "63/63 [==============================] - 1s 16ms/step - loss: 8.2581e-04\n",
            "Epoch 41/100\n",
            "63/63 [==============================] - 1s 16ms/step - loss: 7.4327e-04\n",
            "Epoch 42/100\n",
            "63/63 [==============================] - 1s 15ms/step - loss: 7.1677e-04\n",
            "Epoch 43/100\n",
            "63/63 [==============================] - 1s 15ms/step - loss: 7.2553e-04\n",
            "Epoch 44/100\n",
            "63/63 [==============================] - 1s 16ms/step - loss: 8.0427e-04\n",
            "Epoch 45/100\n",
            "63/63 [==============================] - 1s 15ms/step - loss: 7.2138e-04\n",
            "Epoch 46/100\n",
            "63/63 [==============================] - 1s 16ms/step - loss: 7.4162e-04\n",
            "Epoch 47/100\n",
            "63/63 [==============================] - 1s 16ms/step - loss: 7.2693e-04\n"
          ],
          "name": "stdout"
        }
      ]
    },
    {
      "cell_type": "code",
      "metadata": {
        "id": "H_1TNrsqq2Am",
        "colab_type": "code",
        "outputId": "90a0c358-41f2-4688-d184-6465b5316bb7",
        "colab": {
          "base_uri": "https://localhost:8080/",
          "height": 282
        }
      },
      "source": [
        "plt.plot(history.history[\"loss\"])"
      ],
      "execution_count": 18,
      "outputs": [
        {
          "output_type": "execute_result",
          "data": {
            "text/plain": [
              "[<matplotlib.lines.Line2D at 0x7f9cd034f898>]"
            ]
          },
          "metadata": {
            "tags": []
          },
          "execution_count": 18
        },
        {
          "output_type": "display_data",
          "data": {
            "image/png": "[encoded data removed]",
            "text/plain": [
              "<Figure size 432x288 with 1 Axes>"
            ]
          },
          "metadata": {
            "tags": [],
            "needs_background": "light"
          }
        }
      ]
    },
    {
      "cell_type": "code",
      "metadata": {
        "id": "rRYmizR_vWH_",
        "colab_type": "code",
        "colab": {}
      },
      "source": [
        "# Calcoliamo la predizione del modello su i dati del test set (set degli stessi dati nel periodo subito \n",
        "# successivo)\n",
        "\n",
        "test_set = df_test.iloc[:, 1:2].values\n",
        "\n",
        "#concateniamo il dataset di training (che contiene le sequenze precedenti a quelle \n",
        "#del test set) con il test set\n",
        "df_total = pd.concat((df['Open'], df_test['Open']), axis = 0)\n",
        "inputs = df_total[(len(df_total) - len(df_test) - timesteps - delay):].values\n",
        "inputs = inputs.reshape(-1,1) #nota -1 significa che numpy ricava la dimensione dalla lunghezza dell'array\n",
        "inputs = scaler.transform(inputs) #normalizzazione\n",
        "\n",
        "X_test = []\n",
        "for i in range(timesteps+delay, timesteps+delay+test_set.shape[0]):\n",
        "    start = i-(timesteps+delay)\n",
        "    end = i-delay\n",
        "    X_test.append(inputs[start:end, 0])\n",
        "\n",
        "X_test = np.array(X_test)\n",
        "X_test = np.reshape(X_test, (X_test.shape[0], X_test.shape[1], 1))\n",
        "\n",
        "# predizione sul test set\n",
        "predicted_values = model.predict(X_test)\n",
        "\n",
        "# riconvertiamo indietro da [0,1] ai valori originali dell'prezzo di borsa\n",
        "predicted_values = scaler.inverse_transform(predicted_values)"
      ],
      "execution_count": 0,
      "outputs": []
    },
    {
      "cell_type": "code",
      "metadata": {
        "id": "xwDX-TtbxMDC",
        "colab_type": "code",
        "outputId": "a4cfb8d2-61f5-4661-cd7a-18ba88fc41b0",
        "colab": {
          "base_uri": "https://localhost:8080/",
          "height": 283
        }
      },
      "source": [
        "# Grafichiamo il risultato: predizione VS valore vero\n",
        "\n",
        "plt.plot(test_set, color = 'red', label = 'Prezzo reale del titolo TATA')\n",
        "plt.plot(predicted_values, color = 'blue', label = 'Predizione del titolo TATA')\n",
        "plt.ylim(150, 300)\n",
        "plt.xlabel('Tempo')\n",
        "plt.ylabel('Prezzo del titolo TATA')\n",
        "plt.legend()\n",
        "plt.show()"
      ],
      "execution_count": 20,
      "outputs": [
        {
          "output_type": "display_data",
          "data": {
            "image/png": "[encoded data removed]",
            "text/plain": [
              "<Figure size 432x288 with 1 Axes>"
            ]
          },
          "metadata": {
            "tags": [],
            "needs_background": "light"
          }
        }
      ]
    },
    {
      "cell_type": "code",
      "metadata": {
        "id": "QiiGbfELXw1R",
        "colab_type": "code",
        "colab": {}
      },
      "source": [
        "lstm_model = model"
      ],
      "execution_count": 0,
      "outputs": []
    },
    {
      "cell_type": "markdown",
      "metadata": {
        "id": "aIQQaODcBCSM",
        "colab_type": "text"
      },
      "source": [
        "# **Compiti:** \n",
        "\n",
        "1.   provare a vedere come cambiano le prestazioni riducendo la complessita della rete (dimensione spazio latente, numero di stack LSTM), e/o passando a RNN di tipo SimpleRNN e GRU\n",
        "2.   pensare ad un modello naive basato sull'intuizione (vostra) del processo (esempio: la predizione a t potrebbe essere la media dei valori in n t precedenti tra i dati disponibili (dato il valore del delay), oppure il valore più vicino, ...) per stimare il valore del titolo al tempo corrente, misurarne le prestazioni sul test_set e confrontarlo con quanto ottenuto con la RNN ... commenti?\n",
        "3.   provate a vedere come la qualità della predizione dipende dal numeo di eventi temporali (timestamps) utilizzati e sopratutto dalla distanza temporale (delay) tra l'ultima misura disponibile e il valore corrente. Come infuiscono sulle prestazioni?\n",
        "4.   provate a costruire un campione di test ottenuto dalle predizioni sul campione di test stesso e iterare la procedura, cosa succede alla predizione?\n",
        "5.   le prestazioni del modello migliorrebbero aggiungendo ulteriori feature nell'analisi temporale (per esempio: 'Total Trade Quantity' e 'Turnover (Lacs)')? Provare a capire come poter modificare il modello inserendo tali quantità e addestrando un nuovo modello ... (più complesso e opzionale)"
      ]
    },
    {
      "cell_type": "markdown",
      "metadata": {
        "id": "KLZKyZ7cGF4T",
        "colab_type": "text"
      },
      "source": [
        "# Riduzione della complessità della rete"
      ]
    },
    {
      "cell_type": "markdown",
      "metadata": {
        "id": "LWJA9m3FGJO0",
        "colab_type": "text"
      },
      "source": [
        "Utilizzo una rete con Simple RNN e riduco la dimensione dello spazio latente da 50 a 20. Per bilanciare la minore complessità della rete diminuisco il dropout a 0.1."
      ]
    },
    {
      "cell_type": "code",
      "metadata": {
        "id": "eRbZMi6pqmLo",
        "colab_type": "code",
        "outputId": "be2eec00-b426-49e9-84f4-3b8d1a26103e",
        "colab": {
          "base_uri": "https://localhost:8080/",
          "height": 1000
        }
      },
      "source": [
        "model = keras.Sequential()\n",
        "model.add(layers.SimpleRNN(20, return_sequences = True, input_shape=(X_train.shape[1], 1)))\n",
        "model.add(layers.Dropout(0.1))\n",
        "\n",
        "model.add(layers.SimpleRNN(20))\n",
        "model.add(layers.Dropout(0.1))\n",
        "\n",
        "model.add(layers.Dense(1))\n",
        "\n",
        "model.summary()\n",
        "\n",
        "model.compile(optimizer='adam', loss='mean_squared_error')\n",
        "\n",
        "history = model.fit(X_train, y_train,\n",
        "                    epochs=100,\n",
        "                    batch_size=32,\n",
        "                    callbacks=[keras.callbacks.EarlyStopping(monitor='loss', patience=5)])\n",
        "\n",
        "plt.plot(history.history[\"loss\"])\n",
        "\n",
        "# Calcoliamo la predizione del modello su i dati del test set (set degli stessi dati nel periodo subito \n",
        "# successivo)\n",
        "\n",
        "test_set = df_test.iloc[:, 1:2].values\n",
        "\n",
        "#concateniamo il dataset di training (che contiene le sequenze precedenti a quelle \n",
        "#del test set) con il test set\n",
        "df_total = pd.concat((df['Open'], df_test['Open']), axis = 0)\n",
        "inputs = df_total[(len(df_total) - len(df_test) - timesteps - delay):].values\n",
        "inputs = inputs.reshape(-1,1) #nota -1 significa che numpy ricava la dimensione dalla lunghezza dell'array\n",
        "inputs = scaler.transform(inputs) #normalizzazione\n",
        "\n",
        "X_test = []\n",
        "for i in range(timesteps+delay, timesteps+delay+test_set.shape[0]):\n",
        "    start = i-(timesteps+delay)\n",
        "    end = i-delay\n",
        "    X_test.append(inputs[start:end, 0])\n",
        "\n",
        "X_test = np.array(X_test)\n",
        "X_test = np.reshape(X_test, (X_test.shape[0], X_test.shape[1], 1))"
      ],
      "execution_count": 22,
      "outputs": [
        {
          "output_type": "stream",
          "text": [
            "Model: \"sequential_1\"\n",
            "_________________________________________________________________\n",
            "Layer (type)                 Output Shape              Param #   \n",
            "=================================================================\n",
            "simple_rnn (SimpleRNN)       (None, 30, 20)            440       \n",
            "_________________________________________________________________\n",
            "dropout_2 (Dropout)          (None, 30, 20)            0         \n",
            "_________________________________________________________________\n",
            "simple_rnn_1 (SimpleRNN)     (None, 20)                820       \n",
            "_________________________________________________________________\n",
            "dropout_3 (Dropout)          (None, 20)                0         \n",
            "_________________________________________________________________\n",
            "dense_1 (Dense)              (None, 1)                 21        \n",
            "=================================================================\n",
            "Total params: 1,281\n",
            "Trainable params: 1,281\n",
            "Non-trainable params: 0\n",
            "_________________________________________________________________\n",
            "Epoch 1/100\n",
            "63/63 [==============================] - 4s 62ms/step - loss: 0.0319\n",
            "Epoch 2/100\n",
            "63/63 [==============================] - 4s 60ms/step - loss: 0.0113\n",
            "Epoch 3/100\n",
            "63/63 [==============================] - 4s 59ms/step - loss: 0.0059\n",
            "Epoch 4/100\n",
            "63/63 [==============================] - 4s 60ms/step - loss: 0.0039\n",
            "Epoch 5/100\n",
            "63/63 [==============================] - 4s 58ms/step - loss: 0.0037\n",
            "Epoch 6/100\n",
            "63/63 [==============================] - 4s 58ms/step - loss: 0.0036\n",
            "Epoch 7/100\n",
            "63/63 [==============================] - 4s 56ms/step - loss: 0.0028\n",
            "Epoch 8/100\n",
            "63/63 [==============================] - 4s 61ms/step - loss: 0.0026\n",
            "Epoch 9/100\n",
            "63/63 [==============================] - 4s 59ms/step - loss: 0.0020\n",
            "Epoch 10/100\n",
            "63/63 [==============================] - 4s 58ms/step - loss: 0.0020\n",
            "Epoch 11/100\n",
            "63/63 [==============================] - 4s 59ms/step - loss: 0.0019\n",
            "Epoch 12/100\n",
            "63/63 [==============================] - 4s 60ms/step - loss: 0.0016\n",
            "Epoch 13/100\n",
            "63/63 [==============================] - 4s 60ms/step - loss: 0.0015\n",
            "Epoch 14/100\n",
            "63/63 [==============================] - 4s 60ms/step - loss: 0.0015\n",
            "Epoch 15/100\n",
            "63/63 [==============================] - 4s 61ms/step - loss: 0.0014\n",
            "Epoch 16/100\n",
            "63/63 [==============================] - 4s 65ms/step - loss: 0.0014\n",
            "Epoch 17/100\n",
            "63/63 [==============================] - 4s 60ms/step - loss: 0.0013\n",
            "Epoch 18/100\n",
            "63/63 [==============================] - 4s 59ms/step - loss: 0.0012\n",
            "Epoch 19/100\n",
            "63/63 [==============================] - 4s 61ms/step - loss: 0.0013\n",
            "Epoch 20/100\n",
            "63/63 [==============================] - 4s 58ms/step - loss: 0.0011\n",
            "Epoch 21/100\n",
            "63/63 [==============================] - 4s 61ms/step - loss: 0.0012\n",
            "Epoch 22/100\n",
            "63/63 [==============================] - 4s 62ms/step - loss: 0.0012\n",
            "Epoch 23/100\n",
            "63/63 [==============================] - 4s 59ms/step - loss: 0.0011\n",
            "Epoch 24/100\n",
            "63/63 [==============================] - 4s 58ms/step - loss: 0.0011\n",
            "Epoch 25/100\n",
            "63/63 [==============================] - 4s 62ms/step - loss: 9.4109e-04\n",
            "Epoch 26/100\n",
            "63/63 [==============================] - 4s 61ms/step - loss: 9.5543e-04\n",
            "Epoch 27/100\n",
            "63/63 [==============================] - 4s 61ms/step - loss: 9.3982e-04\n",
            "Epoch 28/100\n",
            "63/63 [==============================] - 4s 58ms/step - loss: 9.6171e-04\n",
            "Epoch 29/100\n",
            "63/63 [==============================] - 4s 58ms/step - loss: 0.0011\n",
            "Epoch 30/100\n",
            "63/63 [==============================] - 4s 58ms/step - loss: 8.6110e-04\n",
            "Epoch 31/100\n",
            "63/63 [==============================] - 4s 58ms/step - loss: 9.2592e-04\n",
            "Epoch 32/100\n",
            "63/63 [==============================] - 4s 61ms/step - loss: 8.2120e-04\n",
            "Epoch 33/100\n",
            "63/63 [==============================] - 4s 60ms/step - loss: 8.7901e-04\n",
            "Epoch 34/100\n",
            "63/63 [==============================] - 4s 59ms/step - loss: 8.7983e-04\n",
            "Epoch 35/100\n",
            "63/63 [==============================] - 4s 61ms/step - loss: 9.1257e-04\n",
            "Epoch 36/100\n",
            "63/63 [==============================] - 4s 60ms/step - loss: 7.8733e-04\n",
            "Epoch 37/100\n",
            "63/63 [==============================] - 4s 56ms/step - loss: 7.7001e-04\n",
            "Epoch 38/100\n",
            "63/63 [==============================] - 4s 60ms/step - loss: 8.5241e-04\n",
            "Epoch 39/100\n",
            "63/63 [==============================] - 4s 61ms/step - loss: 8.4293e-04\n",
            "Epoch 40/100\n",
            "63/63 [==============================] - 4s 66ms/step - loss: 7.3851e-04\n",
            "Epoch 41/100\n",
            "63/63 [==============================] - 4s 63ms/step - loss: 8.3152e-04\n",
            "Epoch 42/100\n",
            "63/63 [==============================] - 4s 60ms/step - loss: 7.3489e-04\n",
            "Epoch 43/100\n",
            "63/63 [==============================] - 4s 60ms/step - loss: 7.4905e-04\n",
            "Epoch 44/100\n",
            "63/63 [==============================] - 4s 62ms/step - loss: 7.2658e-04\n",
            "Epoch 45/100\n",
            "63/63 [==============================] - 4s 62ms/step - loss: 7.9927e-04\n",
            "Epoch 46/100\n",
            "63/63 [==============================] - 4s 60ms/step - loss: 7.1193e-04\n",
            "Epoch 47/100\n",
            "63/63 [==============================] - 4s 57ms/step - loss: 7.2706e-04\n",
            "Epoch 48/100\n",
            "63/63 [==============================] - 4s 60ms/step - loss: 6.3914e-04\n",
            "Epoch 49/100\n",
            "63/63 [==============================] - 4s 61ms/step - loss: 7.6045e-04\n",
            "Epoch 50/100\n",
            "63/63 [==============================] - 4s 61ms/step - loss: 7.6536e-04\n",
            "Epoch 51/100\n",
            "63/63 [==============================] - 4s 59ms/step - loss: 6.6640e-04\n",
            "Epoch 52/100\n",
            "63/63 [==============================] - 4s 64ms/step - loss: 6.4865e-04\n",
            "Epoch 53/100\n",
            "63/63 [==============================] - 4s 60ms/step - loss: 6.8112e-04\n"
          ],
          "name": "stdout"
        },
        {
          "output_type": "display_data",
          "data": {
            "image/png": "[encoded data removed]",
            "text/plain": [
              "<Figure size 432x288 with 1 Axes>"
            ]
          },
          "metadata": {
            "tags": [],
            "needs_background": "light"
          }
        }
      ]
    },
    {
      "cell_type": "markdown",
      "metadata": {
        "id": "6P9hLt7aGegw",
        "colab_type": "text"
      },
      "source": [
        "Con 1200 parametri a fronte dei 30000 usati prima si ha una loss finale simile ed una predizione ottima."
      ]
    },
    {
      "cell_type": "code",
      "metadata": {
        "id": "zUjtyrf32Y3B",
        "colab_type": "code",
        "outputId": "ceeb92f7-8eb1-42f3-e39e-7ec0fed14771",
        "colab": {
          "base_uri": "https://localhost:8080/",
          "height": 300
        }
      },
      "source": [
        "# predizione sul test set\n",
        "predicted_values = model.predict(X_test)\n",
        "\n",
        "# riconvertiamo indietro da [0,1] ai valori originali dell'prezzo di borsa\n",
        "predicted_values = scaler.inverse_transform(predicted_values)\n",
        "\n",
        "# Grafichiamo il risultato: predizione VS valore vero\n",
        "\n",
        "plt.plot(test_set, color = 'red', label = 'Prezzo reale del titolo TATA')\n",
        "plt.plot(predicted_values, color = 'blue', label = 'Predizione del titolo TATA')\n",
        "plt.ylim(200, 250)\n",
        "plt.xlabel('Tempo')\n",
        "plt.ylabel('Prezzo del titolo TATA')\n",
        "plt.legend()\n",
        "plt.show()\n",
        "\n",
        "from sklearn.metrics import mean_squared_error\n",
        "\n",
        "print(f\"MSE: {mean_squared_error(predicted_values, test_set)}\")"
      ],
      "execution_count": 25,
      "outputs": [
        {
          "output_type": "display_data",
          "data": {
            "image/png": "[encoded data removed]",
            "text/plain": [
              "<Figure size 432x288 with 1 Axes>"
            ]
          },
          "metadata": {
            "tags": [],
            "needs_background": "light"
          }
        },
        {
          "output_type": "stream",
          "text": [
            "MSE: 66.05845265100767\n"
          ],
          "name": "stdout"
        }
      ]
    },
    {
      "cell_type": "markdown",
      "metadata": {
        "id": "TJQe9jRIOnP9",
        "colab_type": "text"
      },
      "source": [
        "# Confronto con *naive model*"
      ]
    },
    {
      "cell_type": "markdown",
      "metadata": {
        "id": "wbJhYuHaGqsS",
        "colab_type": "text"
      },
      "source": [
        "Utilizzo come *naive model* una moving average con time window di 4. Si vede come le prestazioni sono paragonabili a quelle della rete. Ciò probabilmente è dovuto al fatto che bastano informazioni su pochi giorni precedenti per poter effettuare una previsione e alla semplicità del modello (1D)."
      ]
    },
    {
      "cell_type": "code",
      "metadata": {
        "id": "oKAsTOqjAa7c",
        "colab_type": "code",
        "outputId": "bba2a9dd-34d4-4bfe-fc84-cf5a1e36f428",
        "colab": {
          "base_uri": "https://localhost:8080/",
          "height": 300
        }
      },
      "source": [
        "window = 4\n",
        "df_total = pd.concat((df['Open'], df_test['Open']), axis = 0)\n",
        "inputs = df_total[(len(df_total) - len(df_test) - window):]\n",
        "predicted_values = inputs.rolling(window=window).mean()[window:].values\n",
        "plt.plot(test_set, color = 'red', label = 'Prezzo reale del titolo TATA')\n",
        "plt.plot(predicted_values, color = 'blue', label = 'Predizione del titolo TATA')\n",
        "plt.ylim(200, 250)\n",
        "plt.xlabel('Tempo')\n",
        "plt.ylabel('Prezzo del titolo TATA')\n",
        "plt.legend()\n",
        "plt.show()\n",
        "\n",
        "from sklearn.metrics import mean_squared_error\n",
        "\n",
        "print(f\"MSE: {mean_squared_error(predicted_values, test_set)}\")"
      ],
      "execution_count": 54,
      "outputs": [
        {
          "output_type": "display_data",
          "data": {
            "image/png": "[encoded data removed]",
            "text/plain": [
              "<Figure size 432x288 with 1 Axes>"
            ]
          },
          "metadata": {
            "tags": [],
            "needs_background": "light"
          }
        },
        {
          "output_type": "stream",
          "text": [
            "MSE: 42.41150390624999\n"
          ],
          "name": "stdout"
        }
      ]
    },
    {
      "cell_type": "markdown",
      "metadata": {
        "id": "oEkKm3JVXUDP",
        "colab_type": "text"
      },
      "source": [
        "# Modifica delay"
      ]
    },
    {
      "cell_type": "code",
      "metadata": {
        "id": "mK35BAxKPHAW",
        "colab_type": "code",
        "outputId": "2ae77d57-7ceb-4162-bb96-9b4a33d4162d",
        "colab": {
          "base_uri": "https://localhost:8080/",
          "height": 1000
        }
      },
      "source": [
        "def get_timed_data(input_set, timesteps=30, delay=0):\n",
        "  X_train = []\n",
        "  y_train = []\n",
        "\n",
        "  for i in range(timesteps+delay, input_set.shape[0]):\n",
        "      X_train.append(training_set_scaled[i-timesteps-delay:i-delay, 0])\n",
        "      y_train.append(training_set_scaled[i, 0])\n",
        "\n",
        "  return (np.array(X_train), np.array(y_train))\n",
        "\n",
        "\n",
        "X_train, y_train = get_timed_data(training_set, delay=10)\n",
        "X_train = np.reshape(X_train, (X_train.shape[0], X_train.shape[1], 1))\n",
        "\n",
        "model = keras.Sequential()\n",
        "\n",
        "model.add(layers.SimpleRNN(20, return_sequences = True, input_shape=(X_train.shape[1], 1)))\n",
        "model.add(layers.Dropout(0.1))\n",
        "\n",
        "model.add(layers.SimpleRNN(20))\n",
        "model.add(layers.Dropout(0.1))\n",
        "\n",
        "model.add(layers.Dense(1))\n",
        "\n",
        "model.summary()\n",
        "\n",
        "model.compile(optimizer='adam', loss='mean_squared_error')\n",
        "\n",
        "history = model.fit(X_train, y_train,\n",
        "                    epochs=100,\n",
        "                    batch_size=32,\n",
        "                    callbacks=[keras.callbacks.EarlyStopping(monitor='loss', patience=5)])\n",
        "\n",
        "plt.plot(history.history[\"loss\"])\n",
        "\n",
        "# Calcoliamo la predizione del modello su i dati del test set (set degli stessi dati nel periodo subito \n",
        "# successivo)\n",
        "\n",
        "test_set = df_test.iloc[:, 1:2].values\n",
        "\n",
        "#concateniamo il dataset di training (che contiene le sequenze precedenti a quelle \n",
        "#del test set) con il test set\n",
        "df_total = pd.concat((df['Open'], df_test['Open']), axis = 0)\n",
        "inputs = df_total[(len(df_total) - len(df_test) - timesteps - delay):].values\n",
        "inputs = inputs.reshape(-1,1) #nota -1 significa che numpy ricava la dimensione dalla lunghezza dell'array\n",
        "inputs = scaler.transform(inputs) #normalizzazione"
      ],
      "execution_count": 55,
      "outputs": [
        {
          "output_type": "stream",
          "text": [
            "Model: \"sequential_2\"\n",
            "_________________________________________________________________\n",
            "Layer (type)                 Output Shape              Param #   \n",
            "=================================================================\n",
            "simple_rnn_2 (SimpleRNN)     (None, 30, 20)            440       \n",
            "_________________________________________________________________\n",
            "dropout_4 (Dropout)          (None, 30, 20)            0         \n",
            "_________________________________________________________________\n",
            "simple_rnn_3 (SimpleRNN)     (None, 20)                820       \n",
            "_________________________________________________________________\n",
            "dropout_5 (Dropout)          (None, 20)                0         \n",
            "_________________________________________________________________\n",
            "dense_2 (Dense)              (None, 1)                 21        \n",
            "=================================================================\n",
            "Total params: 1,281\n",
            "Trainable params: 1,281\n",
            "Non-trainable params: 0\n",
            "_________________________________________________________________\n",
            "Epoch 1/100\n",
            "63/63 [==============================] - 4s 64ms/step - loss: 0.0596\n",
            "Epoch 2/100\n",
            "63/63 [==============================] - 4s 58ms/step - loss: 0.0172\n",
            "Epoch 3/100\n",
            "63/63 [==============================] - 4s 64ms/step - loss: 0.0095\n",
            "Epoch 4/100\n",
            "63/63 [==============================] - 4s 60ms/step - loss: 0.0072\n",
            "Epoch 5/100\n",
            "63/63 [==============================] - 4s 62ms/step - loss: 0.0060\n",
            "Epoch 6/100\n",
            "63/63 [==============================] - 4s 62ms/step - loss: 0.0055\n",
            "Epoch 7/100\n",
            "63/63 [==============================] - 4s 66ms/step - loss: 0.0052\n",
            "Epoch 8/100\n",
            "63/63 [==============================] - 4s 64ms/step - loss: 0.0050\n",
            "Epoch 9/100\n",
            "63/63 [==============================] - 4s 59ms/step - loss: 0.0039\n",
            "Epoch 10/100\n",
            "63/63 [==============================] - 4s 61ms/step - loss: 0.0039\n",
            "Epoch 11/100\n",
            "63/63 [==============================] - 4s 63ms/step - loss: 0.0038\n",
            "Epoch 12/100\n",
            "63/63 [==============================] - 4s 61ms/step - loss: 0.0039\n",
            "Epoch 13/100\n",
            "63/63 [==============================] - 4s 61ms/step - loss: 0.0038\n",
            "Epoch 14/100\n",
            "63/63 [==============================] - 4s 62ms/step - loss: 0.0036\n",
            "Epoch 15/100\n",
            "63/63 [==============================] - 4s 61ms/step - loss: 0.0034\n",
            "Epoch 16/100\n",
            "63/63 [==============================] - 4s 60ms/step - loss: 0.0032\n",
            "Epoch 17/100\n",
            "63/63 [==============================] - 4s 67ms/step - loss: 0.0031\n",
            "Epoch 18/100\n",
            "63/63 [==============================] - 4s 66ms/step - loss: 0.0030\n",
            "Epoch 19/100\n",
            "63/63 [==============================] - 4s 60ms/step - loss: 0.0032\n",
            "Epoch 20/100\n",
            "63/63 [==============================] - 4s 66ms/step - loss: 0.0032\n",
            "Epoch 21/100\n",
            "63/63 [==============================] - 4s 58ms/step - loss: 0.0031\n",
            "Epoch 22/100\n",
            "63/63 [==============================] - 4s 58ms/step - loss: 0.0030\n",
            "Epoch 23/100\n",
            "63/63 [==============================] - 4s 60ms/step - loss: 0.0029\n",
            "Epoch 24/100\n",
            "63/63 [==============================] - 4s 61ms/step - loss: 0.0028\n",
            "Epoch 25/100\n",
            "63/63 [==============================] - 4s 61ms/step - loss: 0.0029\n",
            "Epoch 26/100\n",
            "63/63 [==============================] - 4s 62ms/step - loss: 0.0028\n",
            "Epoch 27/100\n",
            "63/63 [==============================] - 4s 66ms/step - loss: 0.0026\n",
            "Epoch 28/100\n",
            "63/63 [==============================] - 4s 66ms/step - loss: 0.0028\n",
            "Epoch 29/100\n",
            "63/63 [==============================] - 4s 61ms/step - loss: 0.0026\n",
            "Epoch 30/100\n",
            "63/63 [==============================] - 4s 58ms/step - loss: 0.0026\n",
            "Epoch 31/100\n",
            "63/63 [==============================] - 4s 60ms/step - loss: 0.0027\n",
            "Epoch 32/100\n",
            "63/63 [==============================] - 4s 63ms/step - loss: 0.0025\n",
            "Epoch 33/100\n",
            "63/63 [==============================] - 4s 57ms/step - loss: 0.0028\n",
            "Epoch 34/100\n",
            "63/63 [==============================] - 4s 61ms/step - loss: 0.0027\n",
            "Epoch 35/100\n",
            "63/63 [==============================] - 4s 61ms/step - loss: 0.0027\n",
            "Epoch 36/100\n",
            "63/63 [==============================] - 4s 64ms/step - loss: 0.0025\n",
            "Epoch 37/100\n",
            "63/63 [==============================] - 4s 60ms/step - loss: 0.0025\n"
          ],
          "name": "stdout"
        },
        {
          "output_type": "display_data",
          "data": {
            "image/png": "[encoded data removed]",
            "text/plain": [
              "<Figure size 432x288 with 1 Axes>"
            ]
          },
          "metadata": {
            "tags": [],
            "needs_background": "light"
          }
        }
      ]
    },
    {
      "cell_type": "code",
      "metadata": {
        "id": "QEEC-qPJV6_R",
        "colab_type": "code",
        "outputId": "c62a949c-22a2-4b0c-81d9-e4d0e1a3cf95",
        "colab": {
          "base_uri": "https://localhost:8080/",
          "height": 300
        }
      },
      "source": [
        "delay=10\n",
        "X_test = []\n",
        "for i in range(timesteps+delay, timesteps+delay+test_set.shape[0]):\n",
        "    start = i-(timesteps+delay)\n",
        "    end = i-delay\n",
        "    X_test.append(inputs[start:end, 0])\n",
        "\n",
        "X_test = np.array(X_test)\n",
        "X_test = np.reshape(X_test, (X_test.shape[0], X_test.shape[1], 1))\n",
        "\n",
        "# predizione sul test set\n",
        "predicted_values = model.predict(X_test)\n",
        "\n",
        "# riconvertiamo indietro da [0,1] ai valori originali dell'prezzo di borsa\n",
        "predicted_values = scaler.inverse_transform(predicted_values)\n",
        "\n",
        "# Grafichiamo il risultato: predizione VS valore vero\n",
        "plt.plot(test_set, color = 'red', label = 'Prezzo reale del titolo TATA')\n",
        "plt.plot(predicted_values, color = 'blue', label = 'Predizione del titolo TATA')\n",
        "plt.ylim(200, 250)\n",
        "plt.xlabel('Tempo')\n",
        "plt.ylabel('Prezzo del titolo TATA')\n",
        "plt.legend()\n",
        "plt.show()\n",
        "\n",
        "from sklearn.metrics import mean_squared_error\n",
        "\n",
        "print(f\"MSE: {mean_squared_error(predicted_values, test_set)}\")"
      ],
      "execution_count": 58,
      "outputs": [
        {
          "output_type": "display_data",
          "data": {
            "image/png": "[encoded data removed]",
            "text/plain": [
              "<Figure size 432x288 with 1 Axes>"
            ]
          },
          "metadata": {
            "tags": [],
            "needs_background": "light"
          }
        },
        {
          "output_type": "stream",
          "text": [
            "MSE: 44.81511807513712\n"
          ],
          "name": "stdout"
        }
      ]
    },
    {
      "cell_type": "markdown",
      "metadata": {
        "id": "v6oF7XVjXPPk",
        "colab_type": "text"
      },
      "source": [
        "Aumentando il delay a 10 le prestazioni rimangono abbastanza stabili."
      ]
    },
    {
      "cell_type": "markdown",
      "metadata": {
        "id": "VWgEp8I1Xflr",
        "colab_type": "text"
      },
      "source": [
        "# Reiterazione della previsione"
      ]
    },
    {
      "cell_type": "code",
      "metadata": {
        "id": "jwhcVDiHXjGe",
        "colab_type": "code",
        "outputId": "246fe691-116a-41bd-f6d8-60f020348037",
        "colab": {
          "base_uri": "https://localhost:8080/",
          "height": 265
        }
      },
      "source": [
        "delay = 1\n",
        "\n",
        "iterations = 10\n",
        "pred = inputs\n",
        "plt.plot(test_set, color = 'red', label = 'Prezzo reale del titolo TATA')\n",
        "df_test[\"pred\"] = df_test['Open']\n",
        "for i in range(iterations):\n",
        "  delay = 1\n",
        "  \n",
        "  df_total = pd.concat((df['Open'], df_test['pred']), axis = 0)\n",
        "  inputs = df_total[(len(df_total) - len(df_test) - timesteps - delay):].values\n",
        "  inputs = inputs.reshape(-1,1) #nota -1 significa che numpy ricava la dimensione dalla lunghezza dell'array\n",
        "  inputs = scaler.transform(inputs) #normalizzazione\n",
        "\n",
        "  X_test = []\n",
        "  for j in range(timesteps+delay, timesteps+delay+test_set.shape[0]):\n",
        "      start = j-(timesteps+delay)\n",
        "      end = j-delay\n",
        "      X_test.append(inputs[start:end, 0])\n",
        "\n",
        "  X_test = np.array(X_test)\n",
        "  X_test = np.reshape(X_test, (X_test.shape[0], X_test.shape[1], 1))\n",
        "\n",
        "  df_test[\"pred\"] = scaler.inverse_transform(lstm_model.predict(X_test))\n",
        "  plt.plot(df_test[\"pred\"], color = 'blue', label = str(i))\n"
      ],
      "execution_count": 0,
      "outputs": [
        {
          "output_type": "display_data",
          "data": {
            "image/png": "[encoded data removed]",
            "text/plain": [
              "<Figure size 432x288 with 1 Axes>"
            ]
          },
          "metadata": {
            "tags": [],
            "needs_background": "light"
          }
        }
      ]
    },
    {
      "cell_type": "markdown",
      "metadata": {
        "id": "qDK5flJAfTas",
        "colab_type": "text"
      },
      "source": [
        "La previsione viene sempre di più ritardata, amplificando l'effetto che si ottiene per una singola previsione."
      ]
    }
  ]
}