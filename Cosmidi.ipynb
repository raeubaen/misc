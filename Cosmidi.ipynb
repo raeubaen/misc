{
  "nbformat": 4,
  "nbformat_minor": 0,
  "metadata": {
    "colab": {
      "name": "Cosmidi.ipynb",
      "provenance": [],
      "collapsed_sections": [],
      "authorship_tag": "ABX9TyNlabYoc5iBYv5bEYK59tBV",
      "include_colab_link": true
    },
    "kernelspec": {
      "name": "python3",
      "display_name": "Python 3"
    },
    "language_info": {
      "name": "python"
    }
  },
  "cells": [
    {
      "cell_type": "markdown",
      "metadata": {
        "id": "view-in-github",
        "colab_type": "text"
      },
      "source": [
        "<a href=\"https://colab.research.google.com/github/raeubaen/misc/blob/master/Cosmidi.ipynb\" target=\"_parent\"><img src=\"https://colab.research.google.com/assets/colab-badge.svg\" alt=\"Open In Colab\"/></a>"
      ]
    },
    {
      "cell_type": "code",
      "source": [
        "# installazione libreria midi - deve rigirare solo se si chiude la pagina\n",
        "!pip install midiutil"
      ],
      "metadata": {
        "colab": {
          "base_uri": "https://localhost:8080/"
        },
        "id": "GpvFle1DrEJs",
        "outputId": "e9847767-bc52-4de0-a8eb-a39e2f558300"
      },
      "execution_count": 3,
      "outputs": [
        {
          "output_type": "stream",
          "name": "stdout",
          "text": [
            "Looking in indexes: https://pypi.org/simple, https://us-python.pkg.dev/colab-wheels/public/simple/\n",
            "Collecting midiutil\n",
            "  Downloading MIDIUtil-1.2.1.tar.gz (1.0 MB)\n",
            "\u001b[K     |████████████████████████████████| 1.0 MB 25.6 MB/s \n",
            "\u001b[?25hBuilding wheels for collected packages: midiutil\n",
            "  Building wheel for midiutil (setup.py) ... \u001b[?25l\u001b[?25hdone\n",
            "  Created wheel for midiutil: filename=MIDIUtil-1.2.1-py3-none-any.whl size=54566 sha256=10c2630179b9d67dc24d5ba46ebfe5dec9939476c80c17c7546a1b6bb8a59a60\n",
            "  Stored in directory: /root/.cache/pip/wheels/e3/97/cd/a677b61a76d575f373e2e10302f1d9106507fea6dd1320df03\n",
            "Successfully built midiutil\n",
            "Installing collected packages: midiutil\n",
            "Successfully installed midiutil-1.2.1\n"
          ]
        }
      ]
    },
    {
      "cell_type": "code",
      "source": [
        "# setup iniziale\n",
        "\n",
        "from midiutil import MIDIFile\n",
        "import numpy as np\n",
        "\n",
        "track    = 0\n",
        "channel  = 0\n",
        "time     = 0\n",
        "volume   = 100 \n",
        "\n",
        "tempo    = 60000  # In BPM  ----   un beat è un millisecondo\n",
        "duration = 200   # Il suono da un cosmico è di 200 ms (1 s diviso 5)\n",
        "\n",
        "degrees  = [60, 62, 64, 65, 67, 69, 71, 72] # do re ... si do"
      ],
      "metadata": {
        "id": "f6cUdQkFplwt"
      },
      "execution_count": 4,
      "outputs": []
    },
    {
      "cell_type": "code",
      "execution_count": 10,
      "metadata": {
        "id": "be5LHvsApgOa"
      },
      "outputs": [],
      "source": [
        "fractions = [0.1, 0.2, 0.4, 0.3]\n",
        "if np.sum(fractions) != 1:\n",
        "  raise Exception(\"La somma delle frazioni relative deve fare 1\")\n",
        "\n",
        "rate = 1 # cosmici medi al secondo in totale \n",
        "\n",
        "for n, fraction in enumerate(fractions): # ciclo su 4 tracce\n",
        "  time = 0 # ogni volta si azzera il tempo\n",
        "\n",
        "  # ogni volta si azzera la traccia e si fa il setup \n",
        "  MyMIDI = MIDIFile(1) # One track, defaults to format 1 (tempo track\n",
        "  MyMIDI.addTempo(track, time, tempo)\n",
        "\n",
        "  pitch = degrees[j*2] # do, mi, sol, si  -- cercare sul manuale MIDIutil\n",
        "  for i in range(300*1000): # 5 minuti (300 s) per 1000 beat/s\n",
        "      time = i  # beat i-esimo\n",
        "      # estrazione bernoulliana su chunk temporali infinitesimi \n",
        "      if np.random.uniform() < 0.001 * rate * fraction:\n",
        "        MyMIDI.addNote(track, channel, pitch, time, duration, volume)\n",
        "\n",
        "  with open(f\"cosmics{n}.mid\", \"wb\") as output_file:\n",
        "    MyMIDI.writeFile(output_file)\n"
      ]
    },
    {
      "cell_type": "code",
      "source": [
        ""
      ],
      "metadata": {
        "id": "Kb3CYLq0roSK"
      },
      "execution_count": null,
      "outputs": []
    }
  ]
}