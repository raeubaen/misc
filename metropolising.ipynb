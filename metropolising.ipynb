{
  "nbformat": 4,
  "nbformat_minor": 0,
  "metadata": {
    "colab": {
      "name": "Untitled20.ipynb",
      "provenance": [],
      "authorship_tag": "ABX9TyOlY5+48WPdZnkFPaYpDCXp",
      "include_colab_link": true
    },
    "kernelspec": {
      "name": "python3",
      "display_name": "Python 3"
    }
  },
  "cells": [
    {
      "cell_type": "markdown",
      "metadata": {
        "id": "view-in-github",
        "colab_type": "text"
      },
      "source": [
        "<a href=\"https://colab.research.google.com/github/raeubaen/ml/blob/master/metropolising.ipynb\" target=\"_parent\"><img src=\"https://colab.research.google.com/assets/colab-badge.svg\" alt=\"Open In Colab\"/></a>"
      ]
    },
    {
      "cell_type": "code",
      "metadata": {
        "id": "vW1OYcdKZb3u"
      },
      "source": [
        "import numpy as np\n",
        "import matplotlib.pyplot as plt"
      ],
      "execution_count": 1,
      "outputs": []
    },
    {
      "cell_type": "code",
      "metadata": {
        "id": "087AXYjS2o-N"
      },
      "source": [
        "def make_step(grid, size, temp):\n",
        "  x, y = np.random.randint(0, size, (2,))\n",
        "  dE = 2*grid[x, y] * (\n",
        "      grid[(x+1)%size, y] + \n",
        "      grid[(x-1)%size, y] +\n",
        "      grid[x, (y+1)%size] +\n",
        "      grid[x, (y-1)%size]\n",
        "  )\n",
        "  if (dE < 0) or (dE > 0 and np.random.uniform() < np.exp(-dE/temp)):\n",
        "    grid[x, y] = -grid[x, y]"
      ],
      "execution_count": 2,
      "outputs": []
    },
    {
      "cell_type": "code",
      "metadata": {
        "id": "Eozj2HdoZhb0"
      },
      "source": [
        "epochs = 2000\n",
        "temp = 2.5\n",
        "size = 16"
      ],
      "execution_count": 5,
      "outputs": []
    },
    {
      "cell_type": "code",
      "metadata": {
        "id": "hGljqqTNZfgW",
        "colab": {
          "base_uri": "https://localhost:8080/"
        },
        "outputId": "16502acc-5102-4f37-af6d-7ccf7777aa77"
      },
      "source": [
        "save = np.zeros((100, 16, 16))\n",
        "for n in range(100):\n",
        "  grid = 2*np.random.randint(0, 2, (16, 16)) - 1\n",
        "  for i in range(epochs):  \n",
        "    make_step(grid, 16, temp)\n",
        "    save[n, :, :] = grid\n",
        "  print(n)"
      ],
      "execution_count": 9,
      "outputs": [
        {
          "output_type": "stream",
          "text": [
            "0\n",
            "1\n",
            "2\n",
            "3\n",
            "4\n",
            "5\n",
            "6\n",
            "7\n",
            "8\n",
            "9\n",
            "10\n",
            "11\n",
            "12\n",
            "13\n",
            "14\n",
            "15\n",
            "16\n",
            "17\n",
            "18\n",
            "19\n",
            "20\n",
            "21\n",
            "22\n",
            "23\n",
            "24\n",
            "25\n",
            "26\n",
            "27\n",
            "28\n",
            "29\n",
            "30\n",
            "31\n",
            "32\n",
            "33\n",
            "34\n",
            "35\n",
            "36\n",
            "37\n",
            "38\n",
            "39\n",
            "40\n",
            "41\n",
            "42\n",
            "43\n",
            "44\n",
            "45\n",
            "46\n",
            "47\n",
            "48\n",
            "49\n",
            "50\n",
            "51\n",
            "52\n",
            "53\n",
            "54\n",
            "55\n",
            "56\n",
            "57\n",
            "58\n",
            "59\n",
            "60\n",
            "61\n",
            "62\n",
            "63\n",
            "64\n",
            "65\n",
            "66\n",
            "67\n",
            "68\n",
            "69\n",
            "70\n",
            "71\n",
            "72\n",
            "73\n",
            "74\n",
            "75\n",
            "76\n",
            "77\n",
            "78\n",
            "79\n",
            "80\n",
            "81\n",
            "82\n",
            "83\n",
            "84\n",
            "85\n",
            "86\n",
            "87\n",
            "88\n",
            "89\n",
            "90\n",
            "91\n",
            "92\n",
            "93\n",
            "94\n",
            "95\n",
            "96\n",
            "97\n",
            "98\n",
            "99\n"
          ],
          "name": "stdout"
        }
      ]
    },
    {
      "cell_type": "code",
      "metadata": {
        "id": "5uHMFACKZx7m"
      },
      "source": [
        "np.savetxt(\"ising2.5-16*16.txt\", np.reshape(save, (100, 256)))"
      ],
      "execution_count": 13,
      "outputs": []
    }
  ]
}